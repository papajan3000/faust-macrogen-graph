{
 "cells": [
  {
   "cell_type": "markdown",
   "metadata": {},
   "source": [
    "# Macrogenesismodel"
   ]
  },
  {
   "cell_type": "code",
   "execution_count": 1,
   "metadata": {},
   "outputs": [
    {
     "name": "stdout",
     "output_type": "stream",
     "text": [
      "(['faust://bibliography/pravida2015'], ('faust://document/faustedition/1_H.5',), {'notBefore': '1776-01-01', 'notAfter': '1776-12-31', 'when': '-'})\n"
     ]
    }
   ],
   "source": [
    "from faust_macrogen_graph import parserutils, graphutils, eades_fas\n",
    "from pathlib import Path\n",
    "import networkx as nx\n",
    "import matplotlib.pyplot as plt"
   ]
  },
  {
   "cell_type": "markdown",
   "metadata": {},
   "source": [
    "## 1. preparation of XML files by parsing and collecting specific elements"
   ]
  },
  {
   "cell_type": "code",
   "execution_count": 2,
   "metadata": {},
   "outputs": [],
   "source": [
    "filespath = Path('resources')\n",
    "temppre_items = parserutils.xmlparser(filespath)\n",
    "tempsyn_items = parserutils.xmlparser(filespath, False, False)\n",
    "date_items = parserutils.xmlparser(filespath, True)"
   ]
  },
  {
   "cell_type": "markdown",
   "metadata": {},
   "source": [
    "## 2. relation-element graphs"
   ]
  },
  {
   "cell_type": "markdown",
   "metadata": {},
   "source": [
    "### 2.1. graph for tempsyn relation-elements"
   ]
  },
  {
   "cell_type": "code",
   "execution_count": 4,
   "metadata": {},
   "outputs": [],
   "source": [
    "tempsynG = nx.DiGraph()\n",
    "for t in tempsyn_items:\n",
    "    graphutils.add_egdes_from_node_list(tempsynG, t)"
   ]
  },
  {
   "cell_type": "markdown",
   "metadata": {},
   "source": [
    "### 2.2. fas graph tempsyn relation-elements"
   ]
  },
  {
   "cell_type": "code",
   "execution_count": 7,
   "metadata": {},
   "outputs": [
    {
     "name": "stdout",
     "output_type": "stream",
     "text": [
      "The tempsyn graph is acyclic!\n"
     ]
    }
   ],
   "source": [
    "nx.is_directed_acyclic_graph(tempsynG)\n",
    "\n",
    "tempsynG_fas = eades_fas.eades_FAS(tempsynG, True) \n",
    "\n",
    "#atempysnG = acyclic tempsyn Graph\n",
    "atempsynG = tempsynG.copy()\n",
    "atempsynG.remove_edges_from(tempsynG_fas)\n",
    "if nx.is_directed_acyclic_graph(atempsynG) == True:\n",
    "    print(\"The tempsyn graph is acyclic!\")"
   ]
  },
  {
   "cell_type": "markdown",
   "metadata": {},
   "source": [
    "### 2.3. graph for temppre relation-elements "
   ]
  },
  {
   "cell_type": "code",
   "execution_count": 8,
   "metadata": {},
   "outputs": [],
   "source": [
    "temppreG = nx.DiGraph()\n",
    "for t in temppre_items:\n",
    "    graphutils.add_egdes_from_node_list(temppreG, t)"
   ]
  },
  {
   "cell_type": "markdown",
   "metadata": {},
   "source": [
    "### 2.4. fas graph for temppre relation-elements"
   ]
  },
  {
   "cell_type": "code",
   "execution_count": 9,
   "metadata": {},
   "outputs": [
    {
     "name": "stdout",
     "output_type": "stream",
     "text": [
      "The temppre graph is acyclic!\n"
     ]
    }
   ],
   "source": [
    "temppreG_fas = eades_fas.eades_FAS(temppreG, True) # seven percent of the edges of tpG are in the FAS\n",
    "\n",
    "#atemppreG = acyclic temppre Graph\n",
    "atemppreG = temppreG.copy()\n",
    "atemppreG.remove_edges_from(temppreG_fas)\n",
    "if nx.is_directed_acyclic_graph(atemppreG) == True:\n",
    "    print(\"The temppre graph is acyclic!\")"
   ]
  },
  {
   "cell_type": "markdown",
   "metadata": {},
   "source": [
    "## 3. ??? "
   ]
  },
  {
   "cell_type": "code",
   "execution_count": null,
   "metadata": {},
   "outputs": [],
   "source": []
  }
 ],
 "metadata": {
  "kernelspec": {
   "display_name": "Python 3",
   "language": "python",
   "name": "python3"
  },
  "language_info": {
   "codemirror_mode": {
    "name": "ipython",
    "version": 3
   },
   "file_extension": ".py",
   "mimetype": "text/x-python",
   "name": "python",
   "nbconvert_exporter": "python",
   "pygments_lexer": "ipython3",
   "version": "3.6.7"
  }
 },
 "nbformat": 4,
 "nbformat_minor": 2
}
