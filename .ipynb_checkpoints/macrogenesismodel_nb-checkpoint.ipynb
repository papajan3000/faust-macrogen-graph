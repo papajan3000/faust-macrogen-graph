{
 "cells": [
  {
   "cell_type": "markdown",
   "metadata": {},
   "source": [
    "# Macrogenesismodel"
   ]
  },
  {
   "cell_type": "markdown",
   "metadata": {},
   "source": [
    "## Table of contens"
   ]
  },
  {
   "cell_type": "markdown",
   "metadata": {},
   "source": [
    "1. preparation of XML files by parsing and collecting specific elements\n",
    "2. relation-element graphs<br>\n",
    "    2.1. graph for tempsyn relation-elements<br>\n",
    "    2.2. graph for temppre relation-elements\n",
    "3. ...\n",
    "4. ...\n",
    "...\n",
    "TODO"
   ]
  },
  {
   "cell_type": "code",
   "execution_count": 1,
   "metadata": {},
   "outputs": [],
   "source": [
    "from faust_macrogen_graph import parserutils, analyzeutils, absolute_graphutils, relative_graphutils, eades_fas\n",
    "from pathlib import Path\n",
    "import pandas as pd\n",
    "from collections import Counter, OrderedDict\n",
    "import networkx as nx\n",
    "import matplotlib.pyplot as plt"
   ]
  },
  {
   "cell_type": "markdown",
   "metadata": {},
   "source": [
    "## 1. preparation of XML files by parsing and collecting specific elements"
   ]
  },
  {
   "cell_type": "code",
   "execution_count": 89,
   "metadata": {},
   "outputs": [],
   "source": [
    "filespath = Path('resources')\n",
    "temppre_items = parserutils.xmlparser(filespath)\n",
    "tempsyn_items = parserutils.xmlparser(filespath, False, False)\n",
    "date_items = parserutils.xmlparser(filespath, True)"
   ]
  },
  {
   "cell_type": "markdown",
   "metadata": {},
   "source": [
    "## 2. relation-element graphs"
   ]
  },
  {
   "cell_type": "markdown",
   "metadata": {},
   "source": [
    "### 2.1. graph for tempsyn relation-elements"
   ]
  },
  {
   "cell_type": "markdown",
   "metadata": {},
   "source": [
    "First we create a graph only based of the relation-elements with the @tempsyn-attribute. We use this graph later for adding it with the graph based on the relation-elements with the @temppre-attribute and the date-elements. "
   ]
  },
  {
   "cell_type": "code",
   "execution_count": 92,
   "metadata": {},
   "outputs": [],
   "source": [
    "tempsynG = nx.DiGraph()\n",
    "for t in tempsyn_items:\n",
    "    relative_graphutils.add_egdes_from_node_list(tempsynG, t)\n"
   ]
  },
  {
   "cell_type": "markdown",
   "metadata": {},
   "source": [
    "We check if the removal of a computed FAS makes the graph acyclic. "
   ]
  },
  {
   "cell_type": "code",
   "execution_count": 100,
   "metadata": {},
   "outputs": [
    {
     "name": "stdout",
     "output_type": "stream",
     "text": [
      "The tempsyn graph without the FAS (8) is acyclic!\n"
     ]
    }
   ],
   "source": [
    "if nx.is_directed_acyclic_graph(tempsynG) == True:\n",
    "    print(\"The tempsyn graph is acyclic!\")\n",
    "else:\n",
    "    tempsynG_fas = eades_fas.eades_FAS(tempsynG, True)\n",
    "\n",
    "    #atempysnG = acyclic tempsyn Graph\n",
    "    atempsynG = tempsynG.copy()\n",
    "    atempsynG.remove_edges_from(tempsynG_fas)\n",
    "    if nx.is_directed_acyclic_graph(atempsynG) == True:\n",
    "        print(\"The tempsyn graph without the FAS (\" + str(len(tempsynG_fas)) + \" edges) is acyclic!\")"
   ]
  },
  {
   "cell_type": "markdown",
   "metadata": {},
   "source": [
    "### 2.2. graph for temppre relation-elements "
   ]
  },
  {
   "cell_type": "markdown",
   "metadata": {},
   "source": [
    "Same approach as with the @tempsyn-relation-elements (see 2.1)."
   ]
  },
  {
   "cell_type": "code",
   "execution_count": 95,
   "metadata": {},
   "outputs": [],
   "source": [
    "temppreG = nx.DiGraph()\n",
    "for t in temppre_items:\n",
    "    relative_graphutils.add_egdes_from_node_list(temppreG, t)"
   ]
  },
  {
   "cell_type": "code",
   "execution_count": 101,
   "metadata": {},
   "outputs": [
    {
     "name": "stdout",
     "output_type": "stream",
     "text": [
      "The temppre graph without the FAS (68 edges) is acyclic!\n"
     ]
    }
   ],
   "source": [
    "if nx.is_directed_acyclic_graph(temppreG) == True:\n",
    "    print(\"The temppre graph is acyclic!\")\n",
    "else:\n",
    "    temppreG_fas = eades_fas.eades_FAS(temppreG, True)\n",
    "    #atemppreG = acyclic temppre Graph\n",
    "    atemppreG = temppreG.copy()\n",
    "    atemppreG.remove_edges_from(temppreG_fas)\n",
    "    if nx.is_directed_acyclic_graph(atemppreG) == True:\n",
    "        print(\"The temppre graph without the FAS (\" + str(len(temppreG_fas)) + \" edges) is acyclic!\")"
   ]
  },
  {
   "cell_type": "markdown",
   "metadata": {},
   "source": [
    "## 3. date-element graph & the whole graph"
   ]
  },
  {
   "cell_type": "markdown",
   "metadata": {},
   "source": [
    "We got for the creation of the date graph several approaches of which three doesn't induce a FAS. As shown by the DataFrame <b>dgadf</b> (= date graphs approaches DataFrame), only the approach of <b>Vitt</b> induces a FAS by itself. The reason behind this is that the other approaches are not designed to work by themselves."
   ]
  },
  {
   "cell_type": "code",
   "execution_count": 110,
   "metadata": {},
   "outputs": [
    {
     "data": {
      "text/html": [
       "<div>\n",
       "<style scoped>\n",
       "    .dataframe tbody tr th:only-of-type {\n",
       "        vertical-align: middle;\n",
       "    }\n",
       "\n",
       "    .dataframe tbody tr th {\n",
       "        vertical-align: top;\n",
       "    }\n",
       "\n",
       "    .dataframe thead th {\n",
       "        text-align: right;\n",
       "    }\n",
       "</style>\n",
       "<table border=\"1\" class=\"dataframe\">\n",
       "  <thead>\n",
       "    <tr style=\"text-align: right;\">\n",
       "      <th></th>\n",
       "      <th>n nodes</th>\n",
       "      <th>n edges</th>\n",
       "      <th>n cycles</th>\n",
       "      <th>n feedback edges</th>\n",
       "    </tr>\n",
       "  </thead>\n",
       "  <tbody>\n",
       "    <tr>\n",
       "      <th>vitt</th>\n",
       "      <td>723</td>\n",
       "      <td>679</td>\n",
       "      <td>19</td>\n",
       "      <td>19</td>\n",
       "    </tr>\n",
       "    <tr>\n",
       "      <th>wissenbach</th>\n",
       "      <td>681</td>\n",
       "      <td>437</td>\n",
       "      <td>0</td>\n",
       "      <td>0</td>\n",
       "    </tr>\n",
       "    <tr>\n",
       "      <th>paulus-1</th>\n",
       "      <td>649</td>\n",
       "      <td>437</td>\n",
       "      <td>0</td>\n",
       "      <td>0</td>\n",
       "    </tr>\n",
       "    <tr>\n",
       "      <th>paulus-2</th>\n",
       "      <td>642</td>\n",
       "      <td>437</td>\n",
       "      <td>0</td>\n",
       "      <td>0</td>\n",
       "    </tr>\n",
       "  </tbody>\n",
       "</table>\n",
       "</div>"
      ],
      "text/plain": [
       "            n nodes  n edges  n cycles  n feedback edges\n",
       "vitt            723      679        19                19\n",
       "wissenbach      681      437         0                 0\n",
       "paulus-1        649      437         0                 0\n",
       "paulus-2        642      437         0                 0"
      ]
     },
     "execution_count": 110,
     "metadata": {},
     "output_type": "execute_result"
    }
   ],
   "source": [
    "approaches = [\"vitt\", \"wissenbach\", \"paulus-1\", \"paulus-2\"]\n",
    "\n",
    "approaches_graphs = {}\n",
    "approaches_fas =  {}\n",
    "\n",
    "for approach in approaches:\n",
    "    datesG = absolute_graphutils.graph_from_dates(date_items, approach)\n",
    "    approaches_graphs[approach] = datesG\n",
    "    datesG_fas = eades_fas.eades_FAS(datesG, True)\n",
    "    #adatesG = acyclic dates graph\n",
    "    adatesG = datesG.copy()\n",
    "    adatesG.remove_edges_from(datesG_fas)\n",
    "    \n",
    "    \n",
    "    approaches_fas[approach] = datesG_fas\n",
    "\n",
    "date_graphs_approaches = {}\n",
    "columns = [\"n nodes\", \"n edges\", \"n cycles\", \"n feedback edges\"]\n",
    "\n",
    "for k, v in approaches_graphs.items():\n",
    "    #if k in approaches_fas:\n",
    "    date_graphs_approaches[k] = [len(v.nodes()), len(v.edges()), len(list(nx.simple_cycles(v))), len(approaches_fas[k])]\n",
    "\n",
    "dgadf = pd.DataFrame(date_graphs_approaches)#, columns=columns)\n",
    "dgadf = dgadf.T\n",
    "dgadf.columns = columns\n",
    "dgadf"
   ]
  },
  {
   "cell_type": "markdown",
   "metadata": {},
   "source": [
    "TODO<br>\n",
    "For a more meaningful comparison between the approaches we have to create a graph ot of the tempsyn-, temppre- and date-graphs which will in the end represent the desired graph on which we will work on."
   ]
  },
  {
   "cell_type": "code",
   "execution_count": 112,
   "metadata": {},
   "outputs": [
    {
     "data": {
      "text/html": [
       "<div>\n",
       "<style scoped>\n",
       "    .dataframe tbody tr th:only-of-type {\n",
       "        vertical-align: middle;\n",
       "    }\n",
       "\n",
       "    .dataframe tbody tr th {\n",
       "        vertical-align: top;\n",
       "    }\n",
       "\n",
       "    .dataframe thead th {\n",
       "        text-align: right;\n",
       "    }\n",
       "</style>\n",
       "<table border=\"1\" class=\"dataframe\">\n",
       "  <thead>\n",
       "    <tr style=\"text-align: right;\">\n",
       "      <th></th>\n",
       "      <th>n nodes</th>\n",
       "      <th>n edges</th>\n",
       "      <th>n cycles</th>\n",
       "      <th>n feedback edges</th>\n",
       "    </tr>\n",
       "  </thead>\n",
       "  <tbody>\n",
       "    <tr>\n",
       "      <th>vitt</th>\n",
       "      <td>964</td>\n",
       "      <td>1669</td>\n",
       "      <td>1766</td>\n",
       "      <td>135</td>\n",
       "    </tr>\n",
       "    <tr>\n",
       "      <th>wissenbach</th>\n",
       "      <td>922</td>\n",
       "      <td>1427</td>\n",
       "      <td>532</td>\n",
       "      <td>79</td>\n",
       "    </tr>\n",
       "    <tr>\n",
       "      <th>paulus-1</th>\n",
       "      <td>890</td>\n",
       "      <td>1427</td>\n",
       "      <td>532</td>\n",
       "      <td>79</td>\n",
       "    </tr>\n",
       "    <tr>\n",
       "      <th>paulus-2</th>\n",
       "      <td>883</td>\n",
       "      <td>1427</td>\n",
       "      <td>532</td>\n",
       "      <td>79</td>\n",
       "    </tr>\n",
       "  </tbody>\n",
       "</table>\n",
       "</div>"
      ],
      "text/plain": [
       "            n nodes  n edges  n cycles  n feedback edges\n",
       "vitt            964     1669      1766               135\n",
       "wissenbach      922     1427       532                79\n",
       "paulus-1        890     1427       532                79\n",
       "paulus-2        883     1427       532                79"
      ]
     },
     "execution_count": 112,
     "metadata": {},
     "output_type": "execute_result"
    }
   ],
   "source": [
    "approaches = [\"vitt\", \"wissenbach\", \"paulus-1\", \"paulus-2\"]\n",
    "\n",
    "approaches_graphs = {}\n",
    "approaches_fas =  {}\n",
    "\n",
    "\n",
    "tmpG = nx.compose(temppreG, tempsynG)\n",
    "\n",
    "for approach in approaches:\n",
    "    datesG = absolute_graphutils.graph_from_dates(date_items, approach)\n",
    "    G = nx.compose(tmpG, datesG)\n",
    "    \n",
    "    approaches_graphs[approach] = G\n",
    "    G_fas = eades_fas.eades_FAS(G, True)\n",
    "    #adatesG = acyclic dates graph\n",
    "    aG = G.copy()\n",
    "    aG.remove_edges_from(G_fas)\n",
    "\n",
    "    approaches_fas[approach] = G_fas\n",
    "\n",
    "graphs_approaches = {}\n",
    "columns = [\"n nodes\", \"n edges\", \"n cycles\", \"n feedback edges\"]\n",
    "\n",
    "for k, v in approaches_graphs.items():\n",
    "    #if k in approaches_fas:\n",
    "    graphs_approaches[k] = [len(v.nodes()), len(v.edges()), len(list(nx.simple_cycles(v))), len(approaches_fas[k])]\n",
    "\n",
    "dgadf = pd.DataFrame(graphs_approaches)#, columns=columns)\n",
    "dgadf = dgadf.T\n",
    "dgadf.columns = columns\n",
    "dgadf"
   ]
  },
  {
   "cell_type": "markdown",
   "metadata": {},
   "source": [
    "TODO. more approaches? explain approaches?<br>\n",
    "The new comparison shows that the <b>Vitt</b>-approach superior to the other approaches. From now one we will take the Vitt-approach to represent the date-elements within the graph. "
   ]
  },
  {
   "cell_type": "code",
   "execution_count": 117,
   "metadata": {},
   "outputs": [
    {
     "name": "stdout",
     "output_type": "stream",
     "text": [
      "The dates graph is acyclic!\n"
     ]
    }
   ],
   "source": [
    "datesG = absolute_graphutils.graph_from_dates(date_items, \"vitt\")\n",
    "G = nx.compose(tmpG, datesG)\n",
    "G_fas = eades_fas.eades_FAS(G, True)\n",
    "aG = G.copy()\n",
    "aG.remove_edges_from(G_fas)\n",
    "if nx.is_directed_acyclic_graph(aG) == True:\n",
    "    print(\"The dates graph is acyclic!\")"
   ]
  },
  {
   "cell_type": "code",
   "execution_count": 118,
   "metadata": {},
   "outputs": [
    {
     "data": {
      "text/plain": [
       "135"
      ]
     },
     "execution_count": 118,
     "metadata": {},
     "output_type": "execute_result"
    }
   ],
   "source": [
    "len(G_fas)"
   ]
  },
  {
   "cell_type": "markdown",
   "metadata": {},
   "source": [
    "## 4. Analyzation "
   ]
  },
  {
   "cell_type": "markdown",
   "metadata": {},
   "source": [
    "The FAS for the whole Graph contains 135 edges. The whole graph G contains 1669, so 8% of all edges are in the FAS. This percentage is too high and several attempts should be tried out to reduce the percentage."
   ]
  },
  {
   "cell_type": "code",
   "execution_count": 20,
   "metadata": {},
   "outputs": [
    {
     "name": "stdout",
     "output_type": "stream",
     "text": [
      "5% of all edges of G are in the FAS.\n"
     ]
    }
   ],
   "source": [
    "print(str(int((len(G_fas) / len(G.edges())) * 100)) + \"% of all edges of G are in the FAS.\")"
   ]
  },
  {
   "cell_type": "markdown",
   "metadata": {},
   "source": [
    "### 4.1 Rank sources by normed witness scores"
   ]
  },
  {
   "cell_type": "markdown",
   "metadata": {},
   "source": [
    "We parse through the \"source\"-attributes of Graph edges and return a Counter with a frequency score assigned to each researcher. The idea behind this is that a researchers who contributed more than other get a much higher score. The problem is that by this method quantity surpasses quality. It is not that simple to compare two academic works by its quality and the resulting benefit for the research because the comparison possibilities are manifold and a detailed comparison would exceed this work. As simplification we adjust the scores by multiplying each score with a normalized year of the publication of the researches work about <b>Faust</b>.\n",
    "\n",
    "<u>An example</u>: </p>\n",
    "Anne Bohnenkamp released her work „… das Hauptgeschäft nicht außer Augen lassend“ 1994. Her work is used as source 355 times in the Faustedition. After the \"Weimarer Ausgabe, Abt. I, Bd. 15,2, Weimar 1888 (wa_I_15_2) she is the most named source for datings. \n",
    "\n",
    "min_range: 1770 (Goethe began to work on his \"Urfaust\" 1770) </p>\n",
    "max_range: 2017 (According to http://www.faustedition.net/bibliography, the youngest considered work about Faust beside the Faustedition is <b>Brüning / Hahn 2017</b>.)\n",
    "\n",
    "Bohnenkamp 1994: 355 * ((1994 - 1770) / (2017 - 1770)) = 321.9433198380567\n",
    "\n",
    "After the normalization Bohnenkamp surpasses the \"wa_I_15_2\". We simply assume in this work that datings of newer works are better and more accurately than older works. The reasoning behind this is that newer works are able to make their statements against the background of older researchs, while the older researchs are unable to do so.\n",
    "\n",
    "TODO: MORE?"
   ]
  },
  {
   "cell_type": "code",
   "execution_count": 21,
   "metadata": {},
   "outputs": [
    {
     "data": {
      "text/html": [
       "<div>\n",
       "<style scoped>\n",
       "    .dataframe tbody tr th:only-of-type {\n",
       "        vertical-align: middle;\n",
       "    }\n",
       "\n",
       "    .dataframe tbody tr th {\n",
       "        vertical-align: top;\n",
       "    }\n",
       "\n",
       "    .dataframe thead th {\n",
       "        text-align: right;\n",
       "    }\n",
       "</style>\n",
       "<table border=\"1\" class=\"dataframe\">\n",
       "  <thead>\n",
       "    <tr style=\"text-align: right;\">\n",
       "      <th></th>\n",
       "      <th>year_frequency</th>\n",
       "      <th>norm_year_frequency</th>\n",
       "    </tr>\n",
       "    <tr>\n",
       "      <th>source</th>\n",
       "      <th></th>\n",
       "      <th></th>\n",
       "    </tr>\n",
       "  </thead>\n",
       "  <tbody>\n",
       "    <tr>\n",
       "      <th>faust://bibliography/wa_I_15_2</th>\n",
       "      <td>447</td>\n",
       "      <td>210.984</td>\n",
       "    </tr>\n",
       "    <tr>\n",
       "      <th>faust://bibliography/fischer-lamberg1955</th>\n",
       "      <td>296</td>\n",
       "      <td>219.040</td>\n",
       "    </tr>\n",
       "    <tr>\n",
       "      <th>faust://bibliography/bohnenkamp1994</th>\n",
       "      <td>278</td>\n",
       "      <td>249.088</td>\n",
       "    </tr>\n",
       "    <tr>\n",
       "      <th>faust://bibliography/landeck1981</th>\n",
       "      <td>128</td>\n",
       "      <td>108.032</td>\n",
       "    </tr>\n",
       "    <tr>\n",
       "      <th>faust://self</th>\n",
       "      <td>118</td>\n",
       "      <td>108.560</td>\n",
       "    </tr>\n",
       "    <tr>\n",
       "      <th>faust://bibliography/hertz1932</th>\n",
       "      <td>41</td>\n",
       "      <td>26.568</td>\n",
       "    </tr>\n",
       "    <tr>\n",
       "      <th>faust://bibliography/inventare_2_2</th>\n",
       "      <td>39</td>\n",
       "      <td>37.596</td>\n",
       "    </tr>\n",
       "    <tr>\n",
       "      <th>faust://bibliography/gsa-datenbank</th>\n",
       "      <td>17</td>\n",
       "      <td>12.240</td>\n",
       "    </tr>\n",
       "    <tr>\n",
       "      <th>faust://bibliography/hertz1931</th>\n",
       "      <td>6</td>\n",
       "      <td>3.864</td>\n",
       "    </tr>\n",
       "    <tr>\n",
       "      <th>faust://bibliography/grumach1958</th>\n",
       "      <td>5</td>\n",
       "      <td>3.760</td>\n",
       "    </tr>\n",
       "    <tr>\n",
       "      <th>faust://bibliography/wa_I_14</th>\n",
       "      <td>5</td>\n",
       "      <td>2.340</td>\n",
       "    </tr>\n",
       "    <tr>\n",
       "      <th>faust://bibliography/jensen1968</th>\n",
       "      <td>5</td>\n",
       "      <td>3.960</td>\n",
       "    </tr>\n",
       "    <tr>\n",
       "      <th>faust://bibliography/scheibe1965</th>\n",
       "      <td>4</td>\n",
       "      <td>3.120</td>\n",
       "    </tr>\n",
       "    <tr>\n",
       "      <th>faust://bibliography/pniower1899</th>\n",
       "      <td>4</td>\n",
       "      <td>2.064</td>\n",
       "    </tr>\n",
       "    <tr>\n",
       "      <th>faust://bibliography/grumach1953</th>\n",
       "      <td>4</td>\n",
       "      <td>2.928</td>\n",
       "    </tr>\n",
       "    <tr>\n",
       "      <th>faust://bibliography/morris1902b</th>\n",
       "      <td>3</td>\n",
       "      <td>1.584</td>\n",
       "    </tr>\n",
       "    <tr>\n",
       "      <th>faust://bibliography/graef1901-1914_II_2</th>\n",
       "      <td>2</td>\n",
       "      <td>1.152</td>\n",
       "    </tr>\n",
       "    <tr>\n",
       "      <th>faust://bibliography/schillemeit1985</th>\n",
       "      <td>2</td>\n",
       "      <td>1.720</td>\n",
       "    </tr>\n",
       "    <tr>\n",
       "      <th>faust://bibliography/bluhm1966</th>\n",
       "      <td>2</td>\n",
       "      <td>1.568</td>\n",
       "    </tr>\n",
       "    <tr>\n",
       "      <th>faust://bibliography/duentzer1891b</th>\n",
       "      <td>1</td>\n",
       "      <td>0.484</td>\n",
       "    </tr>\n",
       "    <tr>\n",
       "      <th>faust://bibliography/witkowski1894</th>\n",
       "      <td>1</td>\n",
       "      <td>0.496</td>\n",
       "    </tr>\n",
       "    <tr>\n",
       "      <th>faust://bibliography/pravida2015</th>\n",
       "      <td>1</td>\n",
       "      <td>0.980</td>\n",
       "    </tr>\n",
       "    <tr>\n",
       "      <th>faust://bibliography/suphan1876</th>\n",
       "      <td>1</td>\n",
       "      <td>0.424</td>\n",
       "    </tr>\n",
       "    <tr>\n",
       "      <th>faust://bibliography/krogmann1933</th>\n",
       "      <td>1</td>\n",
       "      <td>0.652</td>\n",
       "    </tr>\n",
       "    <tr>\n",
       "      <th>faust://bibliography/harnack1891</th>\n",
       "      <td>1</td>\n",
       "      <td>0.484</td>\n",
       "    </tr>\n",
       "    <tr>\n",
       "      <th>faust://bibliography/morris1899</th>\n",
       "      <td>1</td>\n",
       "      <td>0.516</td>\n",
       "    </tr>\n",
       "    <tr>\n",
       "      <th>faust://bibliography/schillemeit1986</th>\n",
       "      <td>1</td>\n",
       "      <td>0.864</td>\n",
       "    </tr>\n",
       "    <tr>\n",
       "      <th>faust://bibliography/bruening_hahn2017</th>\n",
       "      <td>1</td>\n",
       "      <td>0.988</td>\n",
       "    </tr>\n",
       "    <tr>\n",
       "      <th>faust://bibliography/mmommsen1953</th>\n",
       "      <td>1</td>\n",
       "      <td>0.732</td>\n",
       "    </tr>\n",
       "    <tr>\n",
       "      <th>faust://bibliography/wa_I_53</th>\n",
       "      <td>1</td>\n",
       "      <td>0.576</td>\n",
       "    </tr>\n",
       "    <tr>\n",
       "      <th>faust://bibliography/frankenberger1926</th>\n",
       "      <td>1</td>\n",
       "      <td>0.624</td>\n",
       "    </tr>\n",
       "    <tr>\n",
       "      <th>faust://bibliography/scheibe1974</th>\n",
       "      <td>1</td>\n",
       "      <td>0.816</td>\n",
       "    </tr>\n",
       "    <tr>\n",
       "      <th>faust://bibliography/lohmeyer1927</th>\n",
       "      <td>1</td>\n",
       "      <td>0.628</td>\n",
       "    </tr>\n",
       "    <tr>\n",
       "      <th>faust://bibliography/aa_duw_2</th>\n",
       "      <td>1</td>\n",
       "      <td>0.816</td>\n",
       "    </tr>\n",
       "    <tr>\n",
       "      <th>faust://bibliography/morris1900</th>\n",
       "      <td>1</td>\n",
       "      <td>0.520</td>\n",
       "    </tr>\n",
       "    <tr>\n",
       "      <th>faust://bibliography/wa_I_13_2</th>\n",
       "      <td>1</td>\n",
       "      <td>0.524</td>\n",
       "    </tr>\n",
       "    <tr>\n",
       "      <th>faust://bibliography/quz_4</th>\n",
       "      <td>1</td>\n",
       "      <td>0.856</td>\n",
       "    </tr>\n",
       "    <tr>\n",
       "      <th>faust://bibliography/kmommsen1960</th>\n",
       "      <td>1</td>\n",
       "      <td>0.760</td>\n",
       "    </tr>\n",
       "    <tr>\n",
       "      <th>faust://bibliography/fischer-lamberg1959</th>\n",
       "      <td>1</td>\n",
       "      <td>0.756</td>\n",
       "    </tr>\n",
       "    <tr>\n",
       "      <th>faust://bibliography/morris1902a</th>\n",
       "      <td>1</td>\n",
       "      <td>0.528</td>\n",
       "    </tr>\n",
       "  </tbody>\n",
       "</table>\n",
       "</div>"
      ],
      "text/plain": [
       "                                          year_frequency  norm_year_frequency\n",
       "source                                                                       \n",
       "faust://bibliography/wa_I_15_2                       447              210.984\n",
       "faust://bibliography/fischer-lamberg1955             296              219.040\n",
       "faust://bibliography/bohnenkamp1994                  278              249.088\n",
       "faust://bibliography/landeck1981                     128              108.032\n",
       "faust://self                                         118              108.560\n",
       "faust://bibliography/hertz1932                        41               26.568\n",
       "faust://bibliography/inventare_2_2                    39               37.596\n",
       "faust://bibliography/gsa-datenbank                    17               12.240\n",
       "faust://bibliography/hertz1931                         6                3.864\n",
       "faust://bibliography/grumach1958                       5                3.760\n",
       "faust://bibliography/wa_I_14                           5                2.340\n",
       "faust://bibliography/jensen1968                        5                3.960\n",
       "faust://bibliography/scheibe1965                       4                3.120\n",
       "faust://bibliography/pniower1899                       4                2.064\n",
       "faust://bibliography/grumach1953                       4                2.928\n",
       "faust://bibliography/morris1902b                       3                1.584\n",
       "faust://bibliography/graef1901-1914_II_2               2                1.152\n",
       "faust://bibliography/schillemeit1985                   2                1.720\n",
       "faust://bibliography/bluhm1966                         2                1.568\n",
       "faust://bibliography/duentzer1891b                     1                0.484\n",
       "faust://bibliography/witkowski1894                     1                0.496\n",
       "faust://bibliography/pravida2015                       1                0.980\n",
       "faust://bibliography/suphan1876                        1                0.424\n",
       "faust://bibliography/krogmann1933                      1                0.652\n",
       "faust://bibliography/harnack1891                       1                0.484\n",
       "faust://bibliography/morris1899                        1                0.516\n",
       "faust://bibliography/schillemeit1986                   1                0.864\n",
       "faust://bibliography/bruening_hahn2017                 1                0.988\n",
       "faust://bibliography/mmommsen1953                      1                0.732\n",
       "faust://bibliography/wa_I_53                           1                0.576\n",
       "faust://bibliography/frankenberger1926                 1                0.624\n",
       "faust://bibliography/scheibe1974                       1                0.816\n",
       "faust://bibliography/lohmeyer1927                      1                0.628\n",
       "faust://bibliography/aa_duw_2                          1                0.816\n",
       "faust://bibliography/morris1900                        1                0.520\n",
       "faust://bibliography/wa_I_13_2                         1                0.524\n",
       "faust://bibliography/quz_4                             1                0.856\n",
       "faust://bibliography/kmommsen1960                      1                0.760\n",
       "faust://bibliography/fischer-lamberg1959               1                0.756\n",
       "faust://bibliography/morris1902a                       1                0.528"
      ]
     },
     "execution_count": 21,
     "metadata": {},
     "output_type": "execute_result"
    }
   ],
   "source": [
    "research_scores = analyzeutils.get_research_score(G)\n",
    "sorted_research_scores = {k: research_scores[k] \n",
    "                              for k in sorted(research_scores, key=research_scores.get, reverse=True)}\n",
    "\n",
    "norm_research_scores = analyzeutils.get_norm_research_score(G, 1770, 2020)\n",
    "sorted_norm_research_scores = {k: norm_research_scores[k]\n",
    "                              for k in sorted(norm_research_scores, key=norm_research_scores.get, reverse=True)}\n",
    "\n",
    "research_df = pd.DataFrame(sorted_research_scores.items(), columns=[\"source\", \"year_frequency\"])\n",
    "research_df.set_index(\"source\", inplace=True)\n",
    "norm_research_df = pd.DataFrame(sorted_norm_research_scores.items(), columns=[\"source\", \"norm_year_frequency\"])\n",
    "norm_research_df.set_index(\"source\", inplace=True)\n",
    "ndf = research_df.join(norm_research_df)\n",
    "ndf"
   ]
  },
  {
   "cell_type": "code",
   "execution_count": 22,
   "metadata": {},
   "outputs": [
    {
     "data": {
      "image/png": "[encoded data removed]",
      "text/plain": [
       "<Figure size 1800x1800 with 2 Axes>"
      ]
     },
     "metadata": {},
     "output_type": "display_data"
    }
   ],
   "source": [
    "plot = ndf[:5].plot.pie(subplots=True, figsize=(25,25), autopct='%.1f%%')\n",
    "plt.show()"
   ]
  },
  {
   "cell_type": "markdown",
   "metadata": {},
   "source": [
    "### 4.2 Removing nodes and edges by critical sources"
   ]
  },
  {
   "cell_type": "markdown",
   "metadata": {},
   "source": [
    "After the normalization of the source count we have a deeper look at the <b>Feedback Arc Set</b>. The FAS contains 135 edges. More than a third of the FAS is taken up by \"wa_I_15_2\" and more than twice as much as the second, third and fourth most common sources \"fischer-lamberg1955\", \"bohnenkamp1994\" and \"landeck1981\".\n",
    "\n",
    "TODO: more!\n",
    "\n",
    "TODO: goal making Graph acyclic by not FAS but removing entire sources (Analyse nach Quellen!!)\n"
   ]
  },
  {
   "cell_type": "code",
   "execution_count": 23,
   "metadata": {},
   "outputs": [
    {
     "data": {
      "text/html": [
       "<div>\n",
       "<style scoped>\n",
       "    .dataframe tbody tr th:only-of-type {\n",
       "        vertical-align: middle;\n",
       "    }\n",
       "\n",
       "    .dataframe tbody tr th {\n",
       "        vertical-align: top;\n",
       "    }\n",
       "\n",
       "    .dataframe thead th {\n",
       "        text-align: right;\n",
       "    }\n",
       "</style>\n",
       "<table border=\"1\" class=\"dataframe\">\n",
       "  <thead>\n",
       "    <tr style=\"text-align: right;\">\n",
       "      <th></th>\n",
       "      <th>fas_frequency</th>\n",
       "    </tr>\n",
       "    <tr>\n",
       "      <th>source</th>\n",
       "      <th></th>\n",
       "    </tr>\n",
       "  </thead>\n",
       "  <tbody>\n",
       "    <tr>\n",
       "      <th>faust://bibliography/wa_I_15_2</th>\n",
       "      <td>41</td>\n",
       "    </tr>\n",
       "    <tr>\n",
       "      <th>faust://bibliography/fischer-lamberg1955</th>\n",
       "      <td>16</td>\n",
       "    </tr>\n",
       "    <tr>\n",
       "      <th>faust://bibliography/landeck1981</th>\n",
       "      <td>7</td>\n",
       "    </tr>\n",
       "    <tr>\n",
       "      <th>faust://bibliography/hertz1932</th>\n",
       "      <td>6</td>\n",
       "    </tr>\n",
       "    <tr>\n",
       "      <th>faust://bibliography/bohnenkamp1994</th>\n",
       "      <td>5</td>\n",
       "    </tr>\n",
       "    <tr>\n",
       "      <th>faust://self</th>\n",
       "      <td>3</td>\n",
       "    </tr>\n",
       "    <tr>\n",
       "      <th>faust://bibliography/inventare_2_2</th>\n",
       "      <td>1</td>\n",
       "    </tr>\n",
       "  </tbody>\n",
       "</table>\n",
       "</div>"
      ],
      "text/plain": [
       "                                          fas_frequency\n",
       "source                                                 \n",
       "faust://bibliography/wa_I_15_2                       41\n",
       "faust://bibliography/fischer-lamberg1955             16\n",
       "faust://bibliography/landeck1981                      7\n",
       "faust://bibliography/hertz1932                        6\n",
       "faust://bibliography/bohnenkamp1994                   5\n",
       "faust://self                                          3\n",
       "faust://bibliography/inventare_2_2                    1"
      ]
     },
     "execution_count": 23,
     "metadata": {},
     "output_type": "execute_result"
    }
   ],
   "source": [
    "fas_source_counter = Counter()\n",
    "for edge in G_fas:\n",
    "    if G.has_edge(edge[0], edge[1]):\n",
    "        edge_data = G.get_edge_data(edge[0], edge[1])\n",
    "        key = edge_data[\"source\"]\n",
    "        if fas_source_counter[key]:\n",
    "            fas_source_counter[key] += 1\n",
    "        else:\n",
    "            fas_source_counter[key] = 1\n",
    "\n",
    "cdf = pd.DataFrame.from_dict(OrderedDict(fas_source_counter.most_common()), orient=\"index\").reset_index()\n",
    "cdf = cdf.rename(columns={\"index\":\"source\", 0:\"fas_frequency\"})\n",
    "cdf.set_index(\"source\", inplace=True)\n",
    "cdf"
   ]
  },
  {
   "cell_type": "code",
   "execution_count": 24,
   "metadata": {},
   "outputs": [
    {
     "data": {
      "image/png": "[encoded data removed]",
      "text/plain": [
       "<Figure size 864x864 with 1 Axes>"
      ]
     },
     "metadata": {},
     "output_type": "display_data"
    }
   ],
   "source": [
    "plot = cdf.plot.pie(y=\"fas_frequency\", figsize=(12, 12), autopct='%.1f%%')\n",
    "plt.show()"
   ]
  },
  {
   "cell_type": "code",
   "execution_count": 25,
   "metadata": {},
   "outputs": [
    {
     "data": {
      "text/html": [
       "<div>\n",
       "<style scoped>\n",
       "    .dataframe tbody tr th:only-of-type {\n",
       "        vertical-align: middle;\n",
       "    }\n",
       "\n",
       "    .dataframe tbody tr th {\n",
       "        vertical-align: top;\n",
       "    }\n",
       "\n",
       "    .dataframe thead th {\n",
       "        text-align: right;\n",
       "    }\n",
       "</style>\n",
       "<table border=\"1\" class=\"dataframe\">\n",
       "  <thead>\n",
       "    <tr style=\"text-align: right;\">\n",
       "      <th></th>\n",
       "      <th>year_frequency</th>\n",
       "      <th>norm_year_frequency</th>\n",
       "      <th>fas_frequency</th>\n",
       "    </tr>\n",
       "    <tr>\n",
       "      <th>source</th>\n",
       "      <th></th>\n",
       "      <th></th>\n",
       "      <th></th>\n",
       "    </tr>\n",
       "  </thead>\n",
       "  <tbody>\n",
       "    <tr>\n",
       "      <th>faust://bibliography/wa_I_15_2</th>\n",
       "      <td>447</td>\n",
       "      <td>210.984</td>\n",
       "      <td>41.0</td>\n",
       "    </tr>\n",
       "    <tr>\n",
       "      <th>faust://bibliography/fischer-lamberg1955</th>\n",
       "      <td>296</td>\n",
       "      <td>219.040</td>\n",
       "      <td>16.0</td>\n",
       "    </tr>\n",
       "    <tr>\n",
       "      <th>faust://bibliography/bohnenkamp1994</th>\n",
       "      <td>278</td>\n",
       "      <td>249.088</td>\n",
       "      <td>5.0</td>\n",
       "    </tr>\n",
       "    <tr>\n",
       "      <th>faust://bibliography/landeck1981</th>\n",
       "      <td>128</td>\n",
       "      <td>108.032</td>\n",
       "      <td>7.0</td>\n",
       "    </tr>\n",
       "    <tr>\n",
       "      <th>faust://self</th>\n",
       "      <td>118</td>\n",
       "      <td>108.560</td>\n",
       "      <td>3.0</td>\n",
       "    </tr>\n",
       "    <tr>\n",
       "      <th>faust://bibliography/hertz1932</th>\n",
       "      <td>41</td>\n",
       "      <td>26.568</td>\n",
       "      <td>6.0</td>\n",
       "    </tr>\n",
       "    <tr>\n",
       "      <th>faust://bibliography/inventare_2_2</th>\n",
       "      <td>39</td>\n",
       "      <td>37.596</td>\n",
       "      <td>1.0</td>\n",
       "    </tr>\n",
       "  </tbody>\n",
       "</table>\n",
       "</div>"
      ],
      "text/plain": [
       "                                          year_frequency  norm_year_frequency  \\\n",
       "source                                                                          \n",
       "faust://bibliography/wa_I_15_2                       447              210.984   \n",
       "faust://bibliography/fischer-lamberg1955             296              219.040   \n",
       "faust://bibliography/bohnenkamp1994                  278              249.088   \n",
       "faust://bibliography/landeck1981                     128              108.032   \n",
       "faust://self                                         118              108.560   \n",
       "faust://bibliography/hertz1932                        41               26.568   \n",
       "faust://bibliography/inventare_2_2                    39               37.596   \n",
       "\n",
       "                                          fas_frequency  \n",
       "source                                                   \n",
       "faust://bibliography/wa_I_15_2                     41.0  \n",
       "faust://bibliography/fischer-lamberg1955           16.0  \n",
       "faust://bibliography/bohnenkamp1994                 5.0  \n",
       "faust://bibliography/landeck1981                    7.0  \n",
       "faust://self                                        3.0  \n",
       "faust://bibliography/hertz1932                      6.0  \n",
       "faust://bibliography/inventare_2_2                  1.0  "
      ]
     },
     "execution_count": 25,
     "metadata": {},
     "output_type": "execute_result"
    }
   ],
   "source": [
    "df = ndf.join(cdf)\n",
    "df = df.dropna()\n",
    "df"
   ]
  },
  {
   "cell_type": "markdown",
   "metadata": {},
   "source": [
    "We now generate a Dataframe where the sources of the FAS edges determine the index and the \n",
    "- frequency of the researcher as manuscript source\n",
    "- normed frequency of the researcher as manuscript source\n",
    "- frequency of the researcher as source of an edge in the FAS\n",
    "- percentage which determines how many edges of an researcher are in the FAS\n",
    "- percentage which determines how many edges of an researcher (based on the normalized year frequency) are in the FAS\n",
    "\n",
    "determine the four columns.\n",
    "TODO"
   ]
  },
  {
   "cell_type": "code",
   "execution_count": 26,
   "metadata": {},
   "outputs": [
    {
     "data": {
      "text/html": [
       "<div>\n",
       "<style scoped>\n",
       "    .dataframe tbody tr th:only-of-type {\n",
       "        vertical-align: middle;\n",
       "    }\n",
       "\n",
       "    .dataframe tbody tr th {\n",
       "        vertical-align: top;\n",
       "    }\n",
       "\n",
       "    .dataframe thead th {\n",
       "        text-align: right;\n",
       "    }\n",
       "</style>\n",
       "<table border=\"1\" class=\"dataframe\">\n",
       "  <thead>\n",
       "    <tr style=\"text-align: right;\">\n",
       "      <th></th>\n",
       "      <th>year_frequency</th>\n",
       "      <th>norm_year_frequency</th>\n",
       "      <th>fas_frequency</th>\n",
       "      <th>percent_fas</th>\n",
       "      <th>norm_percent_fas</th>\n",
       "    </tr>\n",
       "    <tr>\n",
       "      <th>source</th>\n",
       "      <th></th>\n",
       "      <th></th>\n",
       "      <th></th>\n",
       "      <th></th>\n",
       "      <th></th>\n",
       "    </tr>\n",
       "  </thead>\n",
       "  <tbody>\n",
       "    <tr>\n",
       "      <th>faust://bibliography/wa_I_15_2</th>\n",
       "      <td>447</td>\n",
       "      <td>210.984</td>\n",
       "      <td>41.0</td>\n",
       "      <td>9.172260</td>\n",
       "      <td>19.432753</td>\n",
       "    </tr>\n",
       "    <tr>\n",
       "      <th>faust://bibliography/fischer-lamberg1955</th>\n",
       "      <td>296</td>\n",
       "      <td>219.040</td>\n",
       "      <td>16.0</td>\n",
       "      <td>5.405405</td>\n",
       "      <td>7.304602</td>\n",
       "    </tr>\n",
       "    <tr>\n",
       "      <th>faust://bibliography/bohnenkamp1994</th>\n",
       "      <td>278</td>\n",
       "      <td>249.088</td>\n",
       "      <td>5.0</td>\n",
       "      <td>1.798561</td>\n",
       "      <td>2.007323</td>\n",
       "    </tr>\n",
       "    <tr>\n",
       "      <th>faust://bibliography/landeck1981</th>\n",
       "      <td>128</td>\n",
       "      <td>108.032</td>\n",
       "      <td>7.0</td>\n",
       "      <td>5.468750</td>\n",
       "      <td>6.479562</td>\n",
       "    </tr>\n",
       "    <tr>\n",
       "      <th>faust://self</th>\n",
       "      <td>118</td>\n",
       "      <td>108.560</td>\n",
       "      <td>3.0</td>\n",
       "      <td>2.542373</td>\n",
       "      <td>2.763449</td>\n",
       "    </tr>\n",
       "    <tr>\n",
       "      <th>faust://bibliography/hertz1932</th>\n",
       "      <td>41</td>\n",
       "      <td>26.568</td>\n",
       "      <td>6.0</td>\n",
       "      <td>14.634146</td>\n",
       "      <td>22.583559</td>\n",
       "    </tr>\n",
       "    <tr>\n",
       "      <th>faust://bibliography/inventare_2_2</th>\n",
       "      <td>39</td>\n",
       "      <td>37.596</td>\n",
       "      <td>1.0</td>\n",
       "      <td>2.564103</td>\n",
       "      <td>2.659857</td>\n",
       "    </tr>\n",
       "  </tbody>\n",
       "</table>\n",
       "</div>"
      ],
      "text/plain": [
       "                                          year_frequency  norm_year_frequency  \\\n",
       "source                                                                          \n",
       "faust://bibliography/wa_I_15_2                       447              210.984   \n",
       "faust://bibliography/fischer-lamberg1955             296              219.040   \n",
       "faust://bibliography/bohnenkamp1994                  278              249.088   \n",
       "faust://bibliography/landeck1981                     128              108.032   \n",
       "faust://self                                         118              108.560   \n",
       "faust://bibliography/hertz1932                        41               26.568   \n",
       "faust://bibliography/inventare_2_2                    39               37.596   \n",
       "\n",
       "                                          fas_frequency  percent_fas  \\\n",
       "source                                                                 \n",
       "faust://bibliography/wa_I_15_2                     41.0     9.172260   \n",
       "faust://bibliography/fischer-lamberg1955           16.0     5.405405   \n",
       "faust://bibliography/bohnenkamp1994                 5.0     1.798561   \n",
       "faust://bibliography/landeck1981                    7.0     5.468750   \n",
       "faust://self                                        3.0     2.542373   \n",
       "faust://bibliography/hertz1932                      6.0    14.634146   \n",
       "faust://bibliography/inventare_2_2                  1.0     2.564103   \n",
       "\n",
       "                                          norm_percent_fas  \n",
       "source                                                      \n",
       "faust://bibliography/wa_I_15_2                   19.432753  \n",
       "faust://bibliography/fischer-lamberg1955          7.304602  \n",
       "faust://bibliography/bohnenkamp1994               2.007323  \n",
       "faust://bibliography/landeck1981                  6.479562  \n",
       "faust://self                                      2.763449  \n",
       "faust://bibliography/hertz1932                   22.583559  \n",
       "faust://bibliography/inventare_2_2                2.659857  "
      ]
     },
     "execution_count": 26,
     "metadata": {},
     "output_type": "execute_result"
    }
   ],
   "source": [
    "percent_fas = (df[\"fas_frequency\"] / df[\"year_frequency\"]) * 100\n",
    "norm_percent_fas = (df[\"fas_frequency\"] / df[\"norm_year_frequency\"]) * 100\n",
    "pcdf = pd.concat([percent_fas, norm_percent_fas], axis=1, sort=True)\n",
    "#pcdf = percent_fas.to_frame()\n",
    "pcdf = pcdf.rename(columns={0:\"percent_fas\", 1:\"norm_percent_fas\"})\n",
    "pcdf.sort_values(by=\"percent_fas\", ascending=False)\n",
    "df = df.join(pcdf, on=\"source\")\n",
    "df\n",
    "#Note: If the following Error raises, restart the code cell before this one and it should work\n",
    "#ValueError: columns overlap but no suffix specified: Index(['percent_fas', 'norm_percent_fas'], dtype='object')"
   ]
  },
  {
   "cell_type": "markdown",
   "metadata": {},
   "source": [
    "For answering the question which complete source we want to remove to make the Graph acyclic without computing a FAS, we rely on several characteristics a source should have to be rather removed from the Graph than other sources:\n",
    "1. Very old source \n",
    "2. small of amount of edges in the Graph\n",
    "3. resulting from (1) and (2) a high <b>norm_percent_fas</b>-score.\n",
    "4. ?\n",
    "\n",
    "If a source meets many of the mentioned characteristics, we remove every edge with the source as attribute and compare how much the FAS shrinkes afterwards.\n"
   ]
  },
  {
   "cell_type": "code",
   "execution_count": 27,
   "metadata": {},
   "outputs": [
    {
     "data": {
      "text/plain": [
       "[('faust://bibliography/hertz1932', 22.58355916892502),\n",
       " ('faust://bibliography/wa_I_15_2', 19.432753194555037),\n",
       " ('faust://bibliography/fischer-lamberg1955', 7.304601899196495),\n",
       " ('faust://bibliography/landeck1981', 6.479561611374408),\n",
       " ('faust://self', 2.763448784082535),\n",
       " ('faust://bibliography/inventare_2_2', 2.6598574316416643),\n",
       " ('faust://bibliography/bohnenkamp1994', 2.007322713257965)]"
      ]
     },
     "execution_count": 27,
     "metadata": {},
     "output_type": "execute_result"
    }
   ],
   "source": [
    "critical_sources = {}\n",
    "param = 1\n",
    "for k, v in dict(df[\"norm_percent_fas\"]).items():\n",
    "    if v >= param:\n",
    "        critical_sources[k] = v\n",
    "critical_sources = [(k, critical_sources[k]) for k in sorted(critical_sources, key=critical_sources.get, reverse=True)]        \n",
    "critical_sources"
   ]
  },
  {
   "cell_type": "code",
   "execution_count": 28,
   "metadata": {},
   "outputs": [
    {
     "data": {
      "text/plain": [
       "{'faust://bibliography/hertz1932': 70,\n",
       " 'faust://bibliography/wa_I_15_2': 22,\n",
       " 'faust://bibliography/fischer-lamberg1955': 53,\n",
       " 'faust://bibliography/landeck1981': 68,\n",
       " 'faust://self': 80,\n",
       " 'faust://bibliography/inventare_2_2': 78,\n",
       " 'faust://bibliography/bohnenkamp1994': 70}"
      ]
     },
     "execution_count": 28,
     "metadata": {},
     "output_type": "execute_result"
    }
   ],
   "source": [
    "\n",
    "critical_sources_fas = {}\n",
    "for critical_source in critical_sources:\n",
    "    F = G.copy()\n",
    "    for edge in list(F.edges()):\n",
    "        edge_data = F.get_edge_data(edge[0], edge[1])\n",
    "        if edge_data[\"source\"] == critical_source[0]:\n",
    "            F.remove_edge(edge[0], edge[1])\n",
    "    F_fas = eades_fas.eades_FAS(F, True)\n",
    "    critical_sources_fas[critical_source[0]] = len(F_fas)\n",
    "critical_sources_fas"
   ]
  },
  {
   "cell_type": "code",
   "execution_count": 29,
   "metadata": {},
   "outputs": [
    {
     "data": {
      "text/html": [
       "<div>\n",
       "<style scoped>\n",
       "    .dataframe tbody tr th:only-of-type {\n",
       "        vertical-align: middle;\n",
       "    }\n",
       "\n",
       "    .dataframe tbody tr th {\n",
       "        vertical-align: top;\n",
       "    }\n",
       "\n",
       "    .dataframe thead th {\n",
       "        text-align: right;\n",
       "    }\n",
       "</style>\n",
       "<table border=\"1\" class=\"dataframe\">\n",
       "  <thead>\n",
       "    <tr style=\"text-align: right;\">\n",
       "      <th></th>\n",
       "      <th>year_frequency</th>\n",
       "      <th>norm_year_frequency</th>\n",
       "      <th>fas_frequency</th>\n",
       "      <th>percent_fas</th>\n",
       "      <th>norm_percent_fas</th>\n",
       "      <th>fas_without_source</th>\n",
       "    </tr>\n",
       "    <tr>\n",
       "      <th>source</th>\n",
       "      <th></th>\n",
       "      <th></th>\n",
       "      <th></th>\n",
       "      <th></th>\n",
       "      <th></th>\n",
       "      <th></th>\n",
       "    </tr>\n",
       "  </thead>\n",
       "  <tbody>\n",
       "    <tr>\n",
       "      <th>faust://bibliography/wa_I_15_2</th>\n",
       "      <td>447</td>\n",
       "      <td>210.984</td>\n",
       "      <td>41.0</td>\n",
       "      <td>9.172260</td>\n",
       "      <td>19.432753</td>\n",
       "      <td>22</td>\n",
       "    </tr>\n",
       "    <tr>\n",
       "      <th>faust://bibliography/fischer-lamberg1955</th>\n",
       "      <td>296</td>\n",
       "      <td>219.040</td>\n",
       "      <td>16.0</td>\n",
       "      <td>5.405405</td>\n",
       "      <td>7.304602</td>\n",
       "      <td>53</td>\n",
       "    </tr>\n",
       "    <tr>\n",
       "      <th>faust://bibliography/bohnenkamp1994</th>\n",
       "      <td>278</td>\n",
       "      <td>249.088</td>\n",
       "      <td>5.0</td>\n",
       "      <td>1.798561</td>\n",
       "      <td>2.007323</td>\n",
       "      <td>70</td>\n",
       "    </tr>\n",
       "    <tr>\n",
       "      <th>faust://bibliography/landeck1981</th>\n",
       "      <td>128</td>\n",
       "      <td>108.032</td>\n",
       "      <td>7.0</td>\n",
       "      <td>5.468750</td>\n",
       "      <td>6.479562</td>\n",
       "      <td>68</td>\n",
       "    </tr>\n",
       "    <tr>\n",
       "      <th>faust://self</th>\n",
       "      <td>118</td>\n",
       "      <td>108.560</td>\n",
       "      <td>3.0</td>\n",
       "      <td>2.542373</td>\n",
       "      <td>2.763449</td>\n",
       "      <td>80</td>\n",
       "    </tr>\n",
       "    <tr>\n",
       "      <th>faust://bibliography/hertz1932</th>\n",
       "      <td>41</td>\n",
       "      <td>26.568</td>\n",
       "      <td>6.0</td>\n",
       "      <td>14.634146</td>\n",
       "      <td>22.583559</td>\n",
       "      <td>70</td>\n",
       "    </tr>\n",
       "    <tr>\n",
       "      <th>faust://bibliography/inventare_2_2</th>\n",
       "      <td>39</td>\n",
       "      <td>37.596</td>\n",
       "      <td>1.0</td>\n",
       "      <td>2.564103</td>\n",
       "      <td>2.659857</td>\n",
       "      <td>78</td>\n",
       "    </tr>\n",
       "  </tbody>\n",
       "</table>\n",
       "</div>"
      ],
      "text/plain": [
       "                                          year_frequency  norm_year_frequency  \\\n",
       "source                                                                          \n",
       "faust://bibliography/wa_I_15_2                       447              210.984   \n",
       "faust://bibliography/fischer-lamberg1955             296              219.040   \n",
       "faust://bibliography/bohnenkamp1994                  278              249.088   \n",
       "faust://bibliography/landeck1981                     128              108.032   \n",
       "faust://self                                         118              108.560   \n",
       "faust://bibliography/hertz1932                        41               26.568   \n",
       "faust://bibliography/inventare_2_2                    39               37.596   \n",
       "\n",
       "                                          fas_frequency  percent_fas  \\\n",
       "source                                                                 \n",
       "faust://bibliography/wa_I_15_2                     41.0     9.172260   \n",
       "faust://bibliography/fischer-lamberg1955           16.0     5.405405   \n",
       "faust://bibliography/bohnenkamp1994                 5.0     1.798561   \n",
       "faust://bibliography/landeck1981                    7.0     5.468750   \n",
       "faust://self                                        3.0     2.542373   \n",
       "faust://bibliography/hertz1932                      6.0    14.634146   \n",
       "faust://bibliography/inventare_2_2                  1.0     2.564103   \n",
       "\n",
       "                                          norm_percent_fas  fas_without_source  \n",
       "source                                                                          \n",
       "faust://bibliography/wa_I_15_2                   19.432753                  22  \n",
       "faust://bibliography/fischer-lamberg1955          7.304602                  53  \n",
       "faust://bibliography/bohnenkamp1994               2.007323                  70  \n",
       "faust://bibliography/landeck1981                  6.479562                  68  \n",
       "faust://self                                      2.763449                  80  \n",
       "faust://bibliography/hertz1932                   22.583559                  70  \n",
       "faust://bibliography/inventare_2_2                2.659857                  78  "
      ]
     },
     "execution_count": 29,
     "metadata": {},
     "output_type": "execute_result"
    }
   ],
   "source": [
    "criticals = pd.Series(critical_sources_fas)\n",
    "criticals = criticals.to_frame()\n",
    "ndf = df.join(criticals)\n",
    "ndf.rename(columns={0:\"fas_without_source\"}, inplace=True)\n",
    "ndf\n",
    "\n",
    "#Note: If the following Error raises, restart the code cell with the creation of \"df\" and it should work\n",
    "#ValueError: columns overlap but no suffix specified: Index(['percent_fas', 'norm_percent_fas'], dtype='object')"
   ]
  },
  {
   "cell_type": "markdown",
   "metadata": {},
   "source": [
    "comparison of FAS when every source will be removed from G"
   ]
  },
  {
   "cell_type": "code",
   "execution_count": 30,
   "metadata": {},
   "outputs": [
    {
     "data": {
      "text/plain": [
       "{'faust://bibliography/scheibe1965': 79,\n",
       " 'faust://bibliography/graef1901-1914_II_2': 79,\n",
       " 'faust://bibliography/schillemeit1985': 79,\n",
       " 'faust://bibliography/hertz1931': 79,\n",
       " 'faust://bibliography/pniower1899': 79,\n",
       " 'faust://bibliography/bluhm1966': 79,\n",
       " 'faust://bibliography/duentzer1891b': 79,\n",
       " 'faust://bibliography/morris1902b': 79,\n",
       " 'faust://bibliography/grumach1953': 79,\n",
       " 'faust://bibliography/witkowski1894': 79,\n",
       " 'faust://bibliography/wa_I_14': 79,\n",
       " 'faust://bibliography/pravida2015': 79,\n",
       " 'faust://bibliography/suphan1876': 79,\n",
       " 'faust://bibliography/krogmann1933': 79,\n",
       " 'faust://bibliography/harnack1891': 79,\n",
       " 'faust://bibliography/morris1899': 79,\n",
       " 'faust://bibliography/schillemeit1986': 79,\n",
       " 'faust://bibliography/bruening_hahn2017': 79,\n",
       " 'faust://bibliography/mmommsen1953': 79,\n",
       " 'faust://bibliography/wa_I_53': 79,\n",
       " 'faust://bibliography/frankenberger1926': 79,\n",
       " 'faust://bibliography/scheibe1974': 79,\n",
       " 'faust://bibliography/lohmeyer1927': 79,\n",
       " 'faust://bibliography/aa_duw_2': 79,\n",
       " 'faust://bibliography/morris1900': 79,\n",
       " 'faust://bibliography/wa_I_13_2': 79,\n",
       " 'faust://bibliography/quz_4': 79,\n",
       " 'faust://bibliography/jensen1968': 79,\n",
       " 'faust://bibliography/kmommsen1960': 79,\n",
       " 'faust://bibliography/fischer-lamberg1959': 79,\n",
       " 'faust://bibliography/morris1902a': 79,\n",
       " 'faust://bibliography/gsa-datenbank': 78,\n",
       " 'faust://bibliography/grumach1958': 78}"
      ]
     },
     "execution_count": 30,
     "metadata": {},
     "output_type": "execute_result"
    }
   ],
   "source": [
    "scores = dict(analyzeutils.get_research_score(G))\n",
    "\n",
    "critical_sources_fas = {}\n",
    "for score in scores:\n",
    "    F = G.copy()\n",
    "    for edge in list(F.edges()):\n",
    "        edge_data = F.get_edge_data(edge[0], edge[1])\n",
    "        if edge_data[\"source\"] == score:\n",
    "            F.remove_edge(edge[0], edge[1])\n",
    "    F_fas = eades_fas.eades_FAS(F, True)\n",
    "    critical_sources_fas[score] = len(F_fas)\n",
    "critical_sources_fas = [(k, critical_sources_fas[k]) for k in sorted(critical_sources_fas, key=critical_sources_fas.get, reverse=True)]\n",
    "possible_critical_sources = {}\n",
    "for t in critical_sources_fas:\n",
    "    if t[0] not in list(ndf.index.values) and t[1] != 135:\n",
    "        possible_critical_sources[t[0]] = t[1]\n",
    "possible_critical_sources"
   ]
  },
  {
   "cell_type": "code",
   "execution_count": null,
   "metadata": {},
   "outputs": [],
   "source": []
  }
 ],
 "metadata": {
  "kernelspec": {
   "display_name": "Python 3",
   "language": "python",
   "name": "python3"
  },
  "language_info": {
   "codemirror_mode": {
    "name": "ipython",
    "version": 3
   },
   "file_extension": ".py",
   "mimetype": "text/x-python",
   "name": "python",
   "nbconvert_exporter": "python",
   "pygments_lexer": "ipython3",
   "version": "3.6.7"
  }
 },
 "nbformat": 4,
 "nbformat_minor": 2
}
