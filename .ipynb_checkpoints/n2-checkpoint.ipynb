{
 "cells": [
  {
   "cell_type": "markdown",
   "metadata": {},
   "source": [
    "# Macrogenesismodel TODO"
   ]
  },
  {
   "cell_type": "markdown",
   "metadata": {},
   "source": [
    "## Table of contens"
   ]
  },
  {
   "cell_type": "markdown",
   "metadata": {},
   "source": [
    "TODO\n",
    "1. Introduction \n",
    "2. Preparation of XML files by parsing and collecting specific elements\n",
    "3. Generating the graph and computing the FAS<br>\n",
    "    3.1. Graph from the relation-elements<br>\n",
    "    3.2. Graph from the date-elements & the creation of the combined graph<br>\n",
    "4. Analysis concepts for the contradictions<br>\n",
    "    4.1. Rank sources by normed research scores <br>\n",
    "    4.2. Removing nodes and edges by critical sources<br> \n",
    "5. Perfomance comparison of the approaches<br>\n",
    "    5.1. Performance comparison of all current approaches<br>\n",
    "    5.2. Adjusting of the Vitt-approach<br>\n",
    "    \n",
    "   \n",
    "6. ...<br>\n",
    "    6.1. Performance comparison of all approaches<br>\n",
    "TODO"
   ]
  },
  {
   "cell_type": "code",
   "execution_count": 1,
   "metadata": {},
   "outputs": [],
   "source": [
    "from faust_macrogen_graph import parserutils, comparisonutils, analyzeutils, graphutils, eades_fas\n",
    "from pathlib import Path\n",
    "import pandas as pd\n",
    "from collections import Counter, OrderedDict\n",
    "import pickle\n",
    "import networkx as nx\n",
    "import matplotlib.pyplot as plt\n",
    "from IPython.display import display, HTML\n",
    "    \n",
    "special_researchers = {'faust://bibliography/gsa-datenbank' : 1950, \n",
    "                     'faust://self' : 2000, \n",
    "                     'faust://bibliography/inventare_2_2': 2011, \n",
    "                     'faust://bibliography/aa_duw_2': 1974,\n",
    "                     'faust://print/faustedition/J.2': 1887, \n",
    "                     'faust://bibliography/quz_1': 1966, \n",
    "                     'faust://bibliography/quz_2': 1982, \n",
    "                     'faust://bibliography/quz_3': 1986,\n",
    "                     'faust://bibliography/quz_4': 1984,\n",
    "                     'faust://bibliography/wa_I_13_2': 1901, \n",
    "                     'faust://bibliography/wa_I_14' : 1887, \n",
    "                     'faust://bibliography/wa_I_15_2' : 1888, \n",
    "                     'faust://bibliography/wa_I_53': 1914,\n",
    "                     'faust://bibliography/wa_IV_13' : 1893}"
   ]
  },
  {
   "cell_type": "markdown",
   "metadata": {},
   "source": [
    "## 1. Introduction"
   ]
  },
  {
   "cell_type": "markdown",
   "metadata": {},
   "source": [
    "In this notebook we take a detailed look at the macrogenesis of the <b>Faust</b> edition. As explained in the Readme (see: <i>Readme.md</i>), the manuscripts hold the problem that a ordering of all these manuscript by dates isn't possible. One of the reasons are the contradictory datings. These are due to the fact that the inclusion of the various research opinions induces different datings. The goal of the macrogenesis is to create an order with a <b>graph</b> as structure.<br> A graph can be sorted topologically and thus realize the goal of the ordered macrogenesis. To create a topological order the graph has to be acyclic. Due to the contradictions, however, it is not acyclic. To obtain an acyclic graph, edges must be removed. The removed set of edges to make a graph acyclic is called <b>FAS</b> (= Feedback Arc Set or Feedback Edge Set). The algorithm we will use to compute a minimal FAS (MFAS) is by Peter <b>Eades</b> because it is simple, effective and doesn't need a lot of computing power.<br><br>\n",
    "\n",
    "AUS 4.1:\n",
    "A characteristic of the FAS generated in section 3.2 is the randomness of the removed edges. The MFAS algorithm by <b>Eades</b> tries to find a minimal solution for the acyclic graph problem. The edges are added to the FAS according to the criterion of their indegree, outdegree and feature as feedback and the edge attributes such as the <i>source</i> are disregarded.\n",
    "\n",
    "\n",
    "\n",
    "\n",
    "In this notebook we will rely on the following three main questions:\n",
    "1. How can we integrate the absolute datings? How does the FAS look like with and without absolute datings?\n",
    "2. Can a more detailed analysis of the number of edges and the number of contradictions be helpful to decide which edges of which source should be removed?\n",
    "3. Can erroneously removed edges be re-added without sacrificing performance? How can this be done and how many edges can be re-added?\n",
    "\n",
    "TODO: explaination of steps (first some parameters, which will be tested later more detailed)<br>\n",
    "Now follows a short overview of the sections:<br>\n",
    "<b>Section 2 &amp; 3</b>: In this sections we generate the graph out of three different graphs. In section 3.1 we generate graphs based on the @temppre- and @tempsyn-relation-elements. In section 3.2 we combine the relation graphs with a generated graph based on the date-elements. Unlike the relation graphs, there are several variants of the date-graph, which is due to the different approaches how to implement the absolute dates. We partly answer the first main question how the integration of the absolute datings look like by comparing the different approaches and choosing the best performing approach for the integration into the graph(?). A deeper and more detailed comparison of the approaches will appear in <b>section TODO </b>(?).<br>\n",
    "<b>Section 4</b>: partly answer of question 2, more in chapter TODO<br>\n",
    "<b>Section 5</b>: <br>\n",
    "<b>Section 6</b>: Comparison of the Vitt graph and two variants of the Vitt graph with changed periods. \n",
    "For all three approaches, an attempt is now made to answer each of the three main questions. The ideas and functions of the previous sections are used and applied to the cyclic or acyclic graph of the respective approach. There are three steps to each approach:\n",
    "1. Minimizing the removal of sources within the FAS\n",
    "2. Deleting whole sources\n",
    "3. Checking by weigths<br>\n",
    "\n",
    "A detailed description of the respective steps is given only in the first subsection, the analyzes of the other two approaches follow the same pattern. Only if there are differences or abnormalities, they are mentioned and explained in more detail.\n",
    "\n",
    "\n",
    "\n",
    "\n",
    "TODO: more, überarbeiten"
   ]
  },
  {
   "cell_type": "markdown",
   "metadata": {},
   "source": [
    "## 2. Preparation of XML files by parsing and collecting specific elements"
   ]
  },
  {
   "cell_type": "markdown",
   "metadata": {},
   "source": [
    "The <i>xmlparser</i>-function can take up to four arguments: \n",
    "1. the path to the XML files\n",
    "2. A boolean, if the parser should parse the date- or the relation-elements\n",
    "3. A boolean, if the parser should parse the @temppre- or @tempsyn-relation-elements\n",
    "4. A boolean, if the date-elements with the @ignore=yes-attribute will be skipped or not."
   ]
  },
  {
   "cell_type": "code",
   "execution_count": 2,
   "metadata": {},
   "outputs": [],
   "source": [
    "filespath = Path('resources')\n",
    "temppre_items = parserutils.xmlparser(filespath)\n",
    "tempsyn_items = parserutils.xmlparser(filespath, False, False)\n",
    "date_items = parserutils.xmlparser(filespath, True, skipignore=False)"
   ]
  },
  {
   "cell_type": "markdown",
   "metadata": {},
   "source": [
    "## 3. Generating the graph and computing the FAS"
   ]
  },
  {
   "cell_type": "markdown",
   "metadata": {},
   "source": [
    "### 3.1. Graph from the relation-elements "
   ]
  },
  {
   "cell_type": "markdown",
   "metadata": {},
   "source": [
    "First we create two graphs based on the relation elements with the @tempsyn- and @temppre-attributes. We use these graphs later for adding it with the graph based on the date elements. The difference between the two relation-graphs is that an edge within the tempsyn-graph will get the weight 5.0 and an edge within the temppre-graph will get the weight 1.0. This is done to distinguish the edges later. For both graphs we check if the computing of a FAS is possible. Finally we merge them together into the graph <b>tempG</b>."
   ]
  },
  {
   "cell_type": "code",
   "execution_count": 3,
   "metadata": {},
   "outputs": [
    {
     "name": "stdout",
     "output_type": "stream",
     "text": [
      "The tempsyn graph without the FAS (8 edges) is acyclic!\n"
     ]
    }
   ],
   "source": [
    "tempsynG = nx.DiGraph()\n",
    "for t in tempsyn_items:\n",
    "    graphutils.add_egdes_from_node_list(tempsynG, t)\n",
    "    \n",
    "if nx.is_directed_acyclic_graph(tempsynG) == True:\n",
    "    print(\"The tempsyn graph is acyclic!\")\n",
    "else:\n",
    "    tempsynG_fas = eades_fas.eades_FAS(tempsynG, True)\n",
    "\n",
    "    #atempysnG = acyclic tempsyn Graph\n",
    "    atempsynG = tempsynG.copy()\n",
    "    atempsynG.remove_edges_from(tempsynG_fas)\n",
    "    if nx.is_directed_acyclic_graph(atempsynG) == True:\n",
    "        print(\"The tempsyn graph without the FAS (\" + str(len(tempsynG_fas)) + \" edges) is acyclic!\")"
   ]
  },
  {
   "cell_type": "code",
   "execution_count": 4,
   "metadata": {},
   "outputs": [
    {
     "name": "stdout",
     "output_type": "stream",
     "text": [
      "The temppre graph without the FAS (68 edges) is acyclic!\n"
     ]
    }
   ],
   "source": [
    "temppreG = nx.DiGraph()\n",
    "for t in temppre_items:\n",
    "    graphutils.add_egdes_from_node_list(temppreG, t)\n",
    "\n",
    "\n",
    "if nx.is_directed_acyclic_graph(temppreG) == True:\n",
    "    print(\"The temppre graph is acyclic!\")\n",
    "else:\n",
    "    temppreG_fas = eades_fas.eades_FAS(temppreG, True)\n",
    "    \n",
    "    #atemppreG: acyclic temppre Graph\n",
    "    atemppreG = temppreG.copy()\n",
    "    atemppreG.remove_edges_from(temppreG_fas)\n",
    "    if nx.is_directed_acyclic_graph(atemppreG) == True:\n",
    "        print(\"The temppre graph without the FAS (\" + str(len(temppreG_fas)) + \" edges) is acyclic!\")"
   ]
  },
  {
   "cell_type": "code",
   "execution_count": 5,
   "metadata": {},
   "outputs": [
    {
     "name": "stdout",
     "output_type": "stream",
     "text": [
      "The temppre graph without the FAS (81 edges) is acyclic!\n"
     ]
    }
   ],
   "source": [
    "tempG = nx.compose(tempsynG, temppreG)\n",
    "\n",
    "if nx.is_directed_acyclic_graph(tempG) == True:\n",
    "    print(\"The temppre graph is acyclic!\")\n",
    "else:\n",
    "    tempG_fas = eades_fas.eades_FAS(tempG, True)\n",
    "    \n",
    "    #atemppreG: acyclic temppre Graph\n",
    "    atempG = tempG.copy()\n",
    "    atempG.remove_edges_from(tempG_fas)\n",
    "    if nx.is_directed_acyclic_graph(atempG) == True:\n",
    "        print(\"The temppre graph without the FAS (\" + str(len(tempG_fas)) + \" edges) is acyclic!\")"
   ]
  },
  {
   "cell_type": "markdown",
   "metadata": {},
   "source": [
    "### 3.2. Graph from the date-elements & the creation of the combined graph"
   ]
  },
  {
   "cell_type": "markdown",
   "metadata": {},
   "source": [
    "For the creation of the date graph we got several approaches of which three doesn't induce a FAS by themselves. As shown by the DataFrame <b>dategraphdf</b>, only the approaches of <b>Vitt</b> and <b>shorter_period</b> induce a FAS by themselves. The reason behind this is that the approaches of <b>Wissenbach, Paulus-1</b> and <b>Paulus-2</b> are not designed to work by themselves.<br> The visualization of the approach of <b>Wissenbach</b> (see resources/vitt_macrogen.pdf, p. 12) shows that it should only be used in conjunction with the tempsyn-elements. The approaches <b>Paulus-1</b> and <b>Paulus-2</b> are made by the author of this notebook and they are for illustrative purposes only.  The basic idea was that that either the \"notBefore\"-elements or the \"notAfter\"-elements should be linked to the respective manuscript but not both like the <b>Vitt</b>-approach. Although this did not induce a FAS, the number of nodes and edges was much smaller than the <b>Vitt</b>-approach. However, this is not necessarily helpful for a meaningful integration of the manuscripts, because we want to represent as many manuscripts and connecetions between the manuscripts as possible.<br>\n",
    "The approach <b>longer_period</b> is as well as the <b>shorter_period</b>-approach a variant of the <b>Vitt</b>-approach and will be later explained in detail in section 5.2."
   ]
  },
  {
   "cell_type": "code",
   "execution_count": 6,
   "metadata": {},
   "outputs": [
    {
     "data": {
      "text/html": [
       "<div>\n",
       "<style scoped>\n",
       "    .dataframe tbody tr th:only-of-type {\n",
       "        vertical-align: middle;\n",
       "    }\n",
       "\n",
       "    .dataframe tbody tr th {\n",
       "        vertical-align: top;\n",
       "    }\n",
       "\n",
       "    .dataframe thead th {\n",
       "        text-align: right;\n",
       "    }\n",
       "</style>\n",
       "<table border=\"1\" class=\"dataframe\">\n",
       "  <thead>\n",
       "    <tr style=\"text-align: right;\">\n",
       "      <th></th>\n",
       "      <th>n nodes</th>\n",
       "      <th>n edges</th>\n",
       "      <th>n cycles</th>\n",
       "      <th>n feedback edges</th>\n",
       "    </tr>\n",
       "  </thead>\n",
       "  <tbody>\n",
       "    <tr>\n",
       "      <th>vitt</th>\n",
       "      <td>731</td>\n",
       "      <td>687</td>\n",
       "      <td>18</td>\n",
       "      <td>18</td>\n",
       "    </tr>\n",
       "    <tr>\n",
       "      <th>wissenbach</th>\n",
       "      <td>689</td>\n",
       "      <td>441</td>\n",
       "      <td>0</td>\n",
       "      <td>0</td>\n",
       "    </tr>\n",
       "    <tr>\n",
       "      <th>paulus-1</th>\n",
       "      <td>655</td>\n",
       "      <td>441</td>\n",
       "      <td>0</td>\n",
       "      <td>0</td>\n",
       "    </tr>\n",
       "    <tr>\n",
       "      <th>paulus-2</th>\n",
       "      <td>649</td>\n",
       "      <td>441</td>\n",
       "      <td>0</td>\n",
       "      <td>0</td>\n",
       "    </tr>\n",
       "    <tr>\n",
       "      <th>shorter_period</th>\n",
       "      <td>784</td>\n",
       "      <td>687</td>\n",
       "      <td>18</td>\n",
       "      <td>17</td>\n",
       "    </tr>\n",
       "    <tr>\n",
       "      <th>longer_period</th>\n",
       "      <td>781</td>\n",
       "      <td>687</td>\n",
       "      <td>0</td>\n",
       "      <td>0</td>\n",
       "    </tr>\n",
       "  </tbody>\n",
       "</table>\n",
       "</div>"
      ],
      "text/plain": [
       "                n nodes  n edges  n cycles  n feedback edges\n",
       "vitt                731      687        18                18\n",
       "wissenbach          689      441         0                 0\n",
       "paulus-1            655      441         0                 0\n",
       "paulus-2            649      441         0                 0\n",
       "shorter_period      784      687        18                17\n",
       "longer_period       781      687         0                 0"
      ]
     },
     "execution_count": 6,
     "metadata": {},
     "output_type": "execute_result"
    }
   ],
   "source": [
    "approaches = [\"vitt\", \"wissenbach\", \"paulus-1\", \"paulus-2\", \"shorter_period\", \"longer_period\"]\n",
    "dategraphdf = comparisonutils.compare_approaches(approaches, special_researchers)\n",
    "dategraphdf"
   ]
  },
  {
   "cell_type": "markdown",
   "metadata": {},
   "source": [
    "Since not all approaches induce a FAS on their own, a graph must be created from the relation and date elements and the approaches shall be compared again based on the new graph."
   ]
  },
  {
   "cell_type": "code",
   "execution_count": 7,
   "metadata": {},
   "outputs": [
    {
     "data": {
      "text/html": [
       "<div>\n",
       "<style scoped>\n",
       "    .dataframe tbody tr th:only-of-type {\n",
       "        vertical-align: middle;\n",
       "    }\n",
       "\n",
       "    .dataframe tbody tr th {\n",
       "        vertical-align: top;\n",
       "    }\n",
       "\n",
       "    .dataframe thead th {\n",
       "        text-align: right;\n",
       "    }\n",
       "</style>\n",
       "<table border=\"1\" class=\"dataframe\">\n",
       "  <thead>\n",
       "    <tr style=\"text-align: right;\">\n",
       "      <th></th>\n",
       "      <th>n nodes</th>\n",
       "      <th>n edges</th>\n",
       "      <th>n cycles</th>\n",
       "      <th>n feedback edges</th>\n",
       "    </tr>\n",
       "  </thead>\n",
       "  <tbody>\n",
       "    <tr>\n",
       "      <th>vitt</th>\n",
       "      <td>967</td>\n",
       "      <td>1643</td>\n",
       "      <td>1711</td>\n",
       "      <td>120</td>\n",
       "    </tr>\n",
       "    <tr>\n",
       "      <th>wissenbach</th>\n",
       "      <td>925</td>\n",
       "      <td>1397</td>\n",
       "      <td>480</td>\n",
       "      <td>68</td>\n",
       "    </tr>\n",
       "    <tr>\n",
       "      <th>paulus-1</th>\n",
       "      <td>891</td>\n",
       "      <td>1397</td>\n",
       "      <td>480</td>\n",
       "      <td>68</td>\n",
       "    </tr>\n",
       "    <tr>\n",
       "      <th>paulus-2</th>\n",
       "      <td>885</td>\n",
       "      <td>1397</td>\n",
       "      <td>480</td>\n",
       "      <td>68</td>\n",
       "    </tr>\n",
       "    <tr>\n",
       "      <th>shorter_period</th>\n",
       "      <td>1020</td>\n",
       "      <td>1643</td>\n",
       "      <td>1179</td>\n",
       "      <td>113</td>\n",
       "    </tr>\n",
       "    <tr>\n",
       "      <th>longer_period</th>\n",
       "      <td>1017</td>\n",
       "      <td>1643</td>\n",
       "      <td>620</td>\n",
       "      <td>71</td>\n",
       "    </tr>\n",
       "  </tbody>\n",
       "</table>\n",
       "</div>"
      ],
      "text/plain": [
       "                n nodes  n edges  n cycles  n feedback edges\n",
       "vitt                967     1643      1711               120\n",
       "wissenbach          925     1397       480                68\n",
       "paulus-1            891     1397       480                68\n",
       "paulus-2            885     1397       480                68\n",
       "shorter_period     1020     1643      1179               113\n",
       "longer_period      1017     1643       620                71"
      ]
     },
     "execution_count": 7,
     "metadata": {},
     "output_type": "execute_result"
    }
   ],
   "source": [
    "comparisonutils.compare_approaches(approaches, special_researchers, True)"
   ]
  },
  {
   "cell_type": "markdown",
   "metadata": {},
   "source": [
    "The new comparison shows that the <b>Vitt</b>-approach is superior to the other approaches if we omit the approaches <b>shorter_period</b> and <b>longer_period</b>. They are left out for the moment, because, as already mentioned, they are a variant of the <b>Vitt</b> approach and a more detailed analysis of the two approaches will be done in the sections 5.2, 6.1 and 6.2.<br> So we will take the Vitt approach first to represent the date-elements within the graph. "
   ]
  },
  {
   "cell_type": "code",
   "execution_count": 8,
   "metadata": {},
   "outputs": [
    {
     "name": "stdout",
     "output_type": "stream",
     "text": [
      "The temppre graph without the FAS (130 edges) is acyclic!\n"
     ]
    }
   ],
   "source": [
    "datesG = graphutils.graph_from_dates(date_items, \"vitt\", special_researchers)\n",
    "G = nx.compose(tempG, datesG)\n",
    "G_fas = eades_fas.eades_FAS(G, True)\n",
    "aG = G.copy()\n",
    "aG.remove_edges_from(G_fas)\n",
    "if nx.is_directed_acyclic_graph(aG) == True:\n",
    "    print(\"The temppre graph without the FAS (\" + str(len(G_fas)) + \" edges) is acyclic!\")"
   ]
  },
  {
   "cell_type": "markdown",
   "metadata": {},
   "source": [
    "The FAS for the whole Graph contains 130 edges. The whole graph G contains 1677 edges, so 7% of all edges are in the FAS. This percentage is too high and several solution approaches should be tried out to reduce this percentage."
   ]
  },
  {
   "cell_type": "code",
   "execution_count": 9,
   "metadata": {},
   "outputs": [
    {
     "name": "stdout",
     "output_type": "stream",
     "text": [
      "7% of all edges (1677) of G are in the FAS (130 edges).\n"
     ]
    }
   ],
   "source": [
    "print(str(int((len(G_fas) / len(G.edges())) * 100)) \n",
    "      + \"% of all edges (\" + str(len(G.edges())) \n",
    "      + \") of G are in the FAS (\" + str(len(G_fas)) + \" edges).\")"
   ]
  },
  {
   "cell_type": "markdown",
   "metadata": {},
   "source": [
    "## 4. Analysis concepts for the contradictions"
   ]
  },
  {
   "cell_type": "markdown",
   "metadata": {},
   "source": [
    "### 4.1. Rank sources by normed research scores"
   ]
  },
  {
   "cell_type": "markdown",
   "metadata": {},
   "source": [
    "A characteristic of the FAS generated in section 3.2 is the randomness of the removed edges. The MFAS algorithm by <b>Eades</b> tries to find a minimal solution for the acyclic graph problem. The edges are added to the FAS according to the criterion of their indegree, outdegree and feature as feedback and the edge attributes such as the <i>source</i> are disregarded. However, we want both an acyclic graph and a minimum of removed sources which in our case has a higher priority than a MFAS. In this section we take a look at the source attributes of the edges. In the XML files, a dating is attested by a source. The problem is that these sources contradict each other which is certainly the reason for the existence of the FAS. To make the graph acyclic, we have to get rid of these contradictory statements.<br>\n",
    "We parse through the \"source\"-attributes of the edges of the graph and return a Counter with a frequency score assigned to each researcher. The idea behind this is that a researcher who contributed more than others will get a much higher score. The problem is that by this method quantity surpasses quality. It is not that simple to compare two academic works by its quality and the resulting benefit for the research because the comparison possibilities are manifold and a detailed comparison would exceed this work. As simplification we adjust the scores by multiplying each score with a normalized year of the publication of the researchers work about <b>Faust</b>.\n",
    "\n",
    "<u>An example</u>: <br>\n",
    "Anne Bohnenkamp released her work „… das Hauptgeschäft nicht außer Augen lassend“ 1994. Her work is used as source 354 times within the Faustedition. After the \"Weimarer Ausgabe, Abt. I, Bd. 15,2, Weimar 1888\" (wa_I_15_2), she is the most named source for datings. \n",
    "\n",
    "min_range: 1770 (Goethe began to work on his \"Urfaust\" 1770) <br>\n",
    "max_range: 2017 (According to http://www.faustedition.net/bibliography, the youngest considered work about Faust beside the Faustedition is <i>Brüning / Hahn 2017</i>.)\n",
    "\n",
    "Bohnenkamp 1994: 354 * ((1994 - 1770) / (2017 - 1770)) = 321.036437\n",
    "\n",
    "After the normalization Bohnenkamp surpasses the \"wa_I_15_2\" (see the source DataFrame <i>source_df</i>). We simply assume in this work that datings of newer works are better and more accurately than older works. One of the reasonings behind this is that newer works are able to make their statements against the background of older researchs, while the older researchs are unable to do so. The normalized score will be used in the next section."
   ]
  },
  {
   "cell_type": "code",
   "execution_count": 10,
   "metadata": {},
   "outputs": [
    {
     "data": {
      "text/html": [
       "<div>\n",
       "<style scoped>\n",
       "    .dataframe tbody tr th:only-of-type {\n",
       "        vertical-align: middle;\n",
       "    }\n",
       "\n",
       "    .dataframe tbody tr th {\n",
       "        vertical-align: top;\n",
       "    }\n",
       "\n",
       "    .dataframe thead th {\n",
       "        text-align: right;\n",
       "    }\n",
       "</style>\n",
       "<table border=\"1\" class=\"dataframe\">\n",
       "  <thead>\n",
       "    <tr style=\"text-align: right;\">\n",
       "      <th></th>\n",
       "      <th>year_frequency</th>\n",
       "      <th>norm_year_frequency</th>\n",
       "    </tr>\n",
       "    <tr>\n",
       "      <th>source</th>\n",
       "      <th></th>\n",
       "      <th></th>\n",
       "    </tr>\n",
       "  </thead>\n",
       "  <tbody>\n",
       "    <tr>\n",
       "      <th>faust://bibliography/wa_I_15_2</th>\n",
       "      <td>450</td>\n",
       "      <td>214.979757</td>\n",
       "    </tr>\n",
       "    <tr>\n",
       "      <th>faust://bibliography/bohnenkamp1994</th>\n",
       "      <td>354</td>\n",
       "      <td>321.036437</td>\n",
       "    </tr>\n",
       "    <tr>\n",
       "      <th>faust://bibliography/fischer-lamberg1955</th>\n",
       "      <td>346</td>\n",
       "      <td>259.149798</td>\n",
       "    </tr>\n",
       "    <tr>\n",
       "      <th>faust://bibliography/landeck1981</th>\n",
       "      <td>142</td>\n",
       "      <td>121.303644</td>\n",
       "    </tr>\n",
       "    <tr>\n",
       "      <th>faust://self</th>\n",
       "      <td>140</td>\n",
       "      <td>130.364372</td>\n",
       "    </tr>\n",
       "    <tr>\n",
       "      <th>faust://bibliography/hertz1932</th>\n",
       "      <td>76</td>\n",
       "      <td>49.846154</td>\n",
       "    </tr>\n",
       "    <tr>\n",
       "      <th>faust://bibliography/gsa-datenbank</th>\n",
       "      <td>27</td>\n",
       "      <td>19.676113</td>\n",
       "    </tr>\n",
       "    <tr>\n",
       "      <th>faust://bibliography/inventare_2_2</th>\n",
       "      <td>26</td>\n",
       "      <td>25.368421</td>\n",
       "    </tr>\n",
       "    <tr>\n",
       "      <th>faust://bibliography/hertz1931</th>\n",
       "      <td>12</td>\n",
       "      <td>7.821862</td>\n",
       "    </tr>\n",
       "    <tr>\n",
       "      <th>faust://bibliography/wa_I_14</th>\n",
       "      <td>10</td>\n",
       "      <td>4.736842</td>\n",
       "    </tr>\n",
       "  </tbody>\n",
       "</table>\n",
       "</div>"
      ],
      "text/plain": [
       "                                          year_frequency  norm_year_frequency\n",
       "source                                                                       \n",
       "faust://bibliography/wa_I_15_2                       450           214.979757\n",
       "faust://bibliography/bohnenkamp1994                  354           321.036437\n",
       "faust://bibliography/fischer-lamberg1955             346           259.149798\n",
       "faust://bibliography/landeck1981                     142           121.303644\n",
       "faust://self                                         140           130.364372\n",
       "faust://bibliography/hertz1932                        76            49.846154\n",
       "faust://bibliography/gsa-datenbank                    27            19.676113\n",
       "faust://bibliography/inventare_2_2                    26            25.368421\n",
       "faust://bibliography/hertz1931                        12             7.821862\n",
       "faust://bibliography/wa_I_14                          10             4.736842"
      ]
     },
     "execution_count": 10,
     "metadata": {},
     "output_type": "execute_result"
    }
   ],
   "source": [
    "#df with research count scores\n",
    "research_scores = analyzeutils.get_research_score(G)\n",
    "sorted_research_scores = {k: research_scores[k] \n",
    "                              for k in sorted(research_scores, key=research_scores.get, reverse=True)}\n",
    "research_df = pd.DataFrame(sorted_research_scores.items(), columns=[\"source\", \"year_frequency\"])\n",
    "research_df.set_index(\"source\", inplace=True)\n",
    "\n",
    "#df with normed research count scores\n",
    "norm_research_scores = analyzeutils.get_norm_research_score(G, special_researchers, 1770, 2017)\n",
    "sorted_norm_research_scores = {k: norm_research_scores[k]\n",
    "                              for k in sorted(norm_research_scores, key=norm_research_scores.get, reverse=True)}\n",
    "\n",
    "norm_research_df = pd.DataFrame(sorted_norm_research_scores.items(), columns=[\"source\", \"norm_year_frequency\"])\n",
    "norm_research_df.set_index(\"source\", inplace=True)\n",
    "\n",
    "\n",
    "#combinig the dfs\n",
    "source_df = research_df.join(norm_research_df)\n",
    "source_df[:10]"
   ]
  },
  {
   "cell_type": "code",
   "execution_count": 11,
   "metadata": {},
   "outputs": [
    {
     "data": {
      "image/png": "[encoded data removed]",
      "text/plain": [
       "<Figure size 1800x1800 with 2 Axes>"
      ]
     },
     "metadata": {},
     "output_type": "display_data"
    }
   ],
   "source": [
    "plot = source_df[:5].plot.pie(subplots=True, figsize=(25,25), autopct='%.1f%%')\n",
    "plt.show()"
   ]
  },
  {
   "cell_type": "code",
   "execution_count": 12,
   "metadata": {},
   "outputs": [
    {
     "data": {
      "text/html": [
       "<div>\n",
       "<style scoped>\n",
       "    .dataframe tbody tr th:only-of-type {\n",
       "        vertical-align: middle;\n",
       "    }\n",
       "\n",
       "    .dataframe tbody tr th {\n",
       "        vertical-align: top;\n",
       "    }\n",
       "\n",
       "    .dataframe thead th {\n",
       "        text-align: right;\n",
       "    }\n",
       "</style>\n",
       "<table border=\"1\" class=\"dataframe\">\n",
       "  <thead>\n",
       "    <tr style=\"text-align: right;\">\n",
       "      <th></th>\n",
       "      <th>year_frequency</th>\n",
       "      <th>norm_year_frequency</th>\n",
       "      <th>pub_year</th>\n",
       "    </tr>\n",
       "    <tr>\n",
       "      <th>source</th>\n",
       "      <th></th>\n",
       "      <th></th>\n",
       "      <th></th>\n",
       "    </tr>\n",
       "  </thead>\n",
       "  <tbody>\n",
       "    <tr>\n",
       "      <th>faust://bibliography/wa_I_15_2</th>\n",
       "      <td>450</td>\n",
       "      <td>214.979757</td>\n",
       "      <td>1888</td>\n",
       "    </tr>\n",
       "    <tr>\n",
       "      <th>faust://bibliography/bohnenkamp1994</th>\n",
       "      <td>354</td>\n",
       "      <td>321.036437</td>\n",
       "      <td>1994</td>\n",
       "    </tr>\n",
       "    <tr>\n",
       "      <th>faust://bibliography/fischer-lamberg1955</th>\n",
       "      <td>346</td>\n",
       "      <td>259.149798</td>\n",
       "      <td>1955</td>\n",
       "    </tr>\n",
       "    <tr>\n",
       "      <th>faust://bibliography/landeck1981</th>\n",
       "      <td>142</td>\n",
       "      <td>121.303644</td>\n",
       "      <td>1981</td>\n",
       "    </tr>\n",
       "    <tr>\n",
       "      <th>faust://self</th>\n",
       "      <td>140</td>\n",
       "      <td>130.364372</td>\n",
       "      <td>2000</td>\n",
       "    </tr>\n",
       "    <tr>\n",
       "      <th>faust://bibliography/hertz1932</th>\n",
       "      <td>76</td>\n",
       "      <td>49.846154</td>\n",
       "      <td>1932</td>\n",
       "    </tr>\n",
       "    <tr>\n",
       "      <th>faust://bibliography/gsa-datenbank</th>\n",
       "      <td>27</td>\n",
       "      <td>19.676113</td>\n",
       "      <td>1950</td>\n",
       "    </tr>\n",
       "    <tr>\n",
       "      <th>faust://bibliography/inventare_2_2</th>\n",
       "      <td>26</td>\n",
       "      <td>25.368421</td>\n",
       "      <td>2011</td>\n",
       "    </tr>\n",
       "    <tr>\n",
       "      <th>faust://bibliography/hertz1931</th>\n",
       "      <td>12</td>\n",
       "      <td>7.821862</td>\n",
       "      <td>1931</td>\n",
       "    </tr>\n",
       "    <tr>\n",
       "      <th>faust://bibliography/wa_I_14</th>\n",
       "      <td>10</td>\n",
       "      <td>4.736842</td>\n",
       "      <td>1887</td>\n",
       "    </tr>\n",
       "  </tbody>\n",
       "</table>\n",
       "</div>"
      ],
      "text/plain": [
       "                                          year_frequency  norm_year_frequency  \\\n",
       "source                                                                          \n",
       "faust://bibliography/wa_I_15_2                       450           214.979757   \n",
       "faust://bibliography/bohnenkamp1994                  354           321.036437   \n",
       "faust://bibliography/fischer-lamberg1955             346           259.149798   \n",
       "faust://bibliography/landeck1981                     142           121.303644   \n",
       "faust://self                                         140           130.364372   \n",
       "faust://bibliography/hertz1932                        76            49.846154   \n",
       "faust://bibliography/gsa-datenbank                    27            19.676113   \n",
       "faust://bibliography/inventare_2_2                    26            25.368421   \n",
       "faust://bibliography/hertz1931                        12             7.821862   \n",
       "faust://bibliography/wa_I_14                          10             4.736842   \n",
       "\n",
       "                                          pub_year  \n",
       "source                                              \n",
       "faust://bibliography/wa_I_15_2                1888  \n",
       "faust://bibliography/bohnenkamp1994           1994  \n",
       "faust://bibliography/fischer-lamberg1955      1955  \n",
       "faust://bibliography/landeck1981              1981  \n",
       "faust://self                                  2000  \n",
       "faust://bibliography/hertz1932                1932  \n",
       "faust://bibliography/gsa-datenbank            1950  \n",
       "faust://bibliography/inventare_2_2            2011  \n",
       "faust://bibliography/hertz1931                1931  \n",
       "faust://bibliography/wa_I_14                  1887  "
      ]
     },
     "execution_count": 12,
     "metadata": {},
     "output_type": "execute_result"
    }
   ],
   "source": [
    "#df with publication year of the source\n",
    "year_scores = analyzeutils.get_source_year(G, special_researchers)\n",
    "year_df = pd.DataFrame(year_scores.items(), columns=[\"source\", \"pub_year\"])\n",
    "year_df.set_index(\"source\", inplace=True)\n",
    "\n",
    "#adding it to the source_df\n",
    "source_df = source_df.join(year_df)\n",
    "source_df[:10]"
   ]
  },
  {
   "cell_type": "markdown",
   "metadata": {},
   "source": [
    "### 4.2. Removing nodes and edges by critical sources"
   ]
  },
  {
   "cell_type": "markdown",
   "metadata": {},
   "source": [
    "After the normalization of the source counts we have to take a deeper look at the <b>Feedback Arc Set</b>. The FAS contains 130 edges. More than a third of the FAS is taken up by \"wa_I_15_2\" and more than twice as much as the second, third and fourth most common sources by \"fischer-lamberg1955\", \"bohnenkamp1994\" and \"landeck1981\" (see the FAS-frequency DataFrame <i>fasfrequency_df</i>).<br> In this section we try to bypass the computed FAS by trying to make the graph <b>G</b> acylic with the removal of specific sources. We rely on the normed research score of the previous section (see 4.1). The idea behind this is that the FAS has a certain randomness because it tries to compute a minimal solution for the problem (at least if we use the <b>Eades</b> or any other MFAS algorithm). This holds the problem that the removal of the edges to make the graph <b>G</b> acyclic and its randomness makes little sense with regards of content. Against the background of an ideal solution which returns a perfect sorting, the goal is rather to find critical, conflicting sources. Nevertheless, we use the FAS to filter for critical sources and take a closer look a the sources who have the most edges within the FAS.\n",
    "\n",
    "For a better content but also visual comparison we will use the datastructure <i>DataFrame</i> from the <i>pandas library</i>. The DataFrame <i>df</i> which represents the comparison will be build step by step. The sources of the edges of the FAS determine the index of the DataFrame and the\n",
    "\n",
    "- frequency of the researcher as manuscript source (<i>year_frequency</i>)\n",
    "- normed frequency of the researcher as manuscript source (<i>norm_year_frequency</i>)\n",
    "- publication year of the source (<i>pub_year</i>)\n",
    "- frequency of the researcher as source of an edge in the FAS (<i>fas_frequency</i>)\n",
    "- percentage which determines how many edges of an researcher are in the FAS (<i>percent_fas</i>)\n",
    "- percentage which determines how many edges of an researcher (based on the normalized year frequency) are in the FAS (<i>norm_percent_fas</i>)\n",
    "- fas size without the removed source (<i>fas_without_source</i>)\n",
    "\n",
    "determine the six columns. Each of these columns will be first stored in a DataFrame and later added to the \"main\"-DataFrame <i>df</i> which is gradually being expanded."
   ]
  },
  {
   "cell_type": "code",
   "execution_count": 13,
   "metadata": {},
   "outputs": [
    {
     "data": {
      "text/html": [
       "<div>\n",
       "<style scoped>\n",
       "    .dataframe tbody tr th:only-of-type {\n",
       "        vertical-align: middle;\n",
       "    }\n",
       "\n",
       "    .dataframe tbody tr th {\n",
       "        vertical-align: top;\n",
       "    }\n",
       "\n",
       "    .dataframe thead th {\n",
       "        text-align: right;\n",
       "    }\n",
       "</style>\n",
       "<table border=\"1\" class=\"dataframe\">\n",
       "  <thead>\n",
       "    <tr style=\"text-align: right;\">\n",
       "      <th></th>\n",
       "      <th>fas_frequency</th>\n",
       "    </tr>\n",
       "    <tr>\n",
       "      <th>source</th>\n",
       "      <th></th>\n",
       "    </tr>\n",
       "  </thead>\n",
       "  <tbody>\n",
       "    <tr>\n",
       "      <th>faust://bibliography/wa_I_15_2</th>\n",
       "      <td>51</td>\n",
       "    </tr>\n",
       "    <tr>\n",
       "      <th>faust://bibliography/fischer-lamberg1955</th>\n",
       "      <td>24</td>\n",
       "    </tr>\n",
       "    <tr>\n",
       "      <th>faust://bibliography/bohnenkamp1994</th>\n",
       "      <td>19</td>\n",
       "    </tr>\n",
       "    <tr>\n",
       "      <th>faust://bibliography/landeck1981</th>\n",
       "      <td>17</td>\n",
       "    </tr>\n",
       "    <tr>\n",
       "      <th>faust://bibliography/hertz1932</th>\n",
       "      <td>7</td>\n",
       "    </tr>\n",
       "    <tr>\n",
       "      <th>faust://bibliography/pniower1899</th>\n",
       "      <td>3</td>\n",
       "    </tr>\n",
       "    <tr>\n",
       "      <th>faust://self</th>\n",
       "      <td>3</td>\n",
       "    </tr>\n",
       "    <tr>\n",
       "      <th>faust://bibliography/hertz1931</th>\n",
       "      <td>1</td>\n",
       "    </tr>\n",
       "    <tr>\n",
       "      <th>faust://bibliography/wa_I_14</th>\n",
       "      <td>1</td>\n",
       "    </tr>\n",
       "    <tr>\n",
       "      <th>faust://bibliography/grumach1958</th>\n",
       "      <td>1</td>\n",
       "    </tr>\n",
       "    <tr>\n",
       "      <th>faust://bibliography/grumach1953</th>\n",
       "      <td>1</td>\n",
       "    </tr>\n",
       "    <tr>\n",
       "      <th>faust://bibliography/morris1900</th>\n",
       "      <td>1</td>\n",
       "    </tr>\n",
       "    <tr>\n",
       "      <th>faust://bibliography/bluhm1966</th>\n",
       "      <td>1</td>\n",
       "    </tr>\n",
       "  </tbody>\n",
       "</table>\n",
       "</div>"
      ],
      "text/plain": [
       "                                          fas_frequency\n",
       "source                                                 \n",
       "faust://bibliography/wa_I_15_2                       51\n",
       "faust://bibliography/fischer-lamberg1955             24\n",
       "faust://bibliography/bohnenkamp1994                  19\n",
       "faust://bibliography/landeck1981                     17\n",
       "faust://bibliography/hertz1932                        7\n",
       "faust://bibliography/pniower1899                      3\n",
       "faust://self                                          3\n",
       "faust://bibliography/hertz1931                        1\n",
       "faust://bibliography/wa_I_14                          1\n",
       "faust://bibliography/grumach1958                      1\n",
       "faust://bibliography/grumach1953                      1\n",
       "faust://bibliography/morris1900                       1\n",
       "faust://bibliography/bluhm1966                        1"
      ]
     },
     "execution_count": 13,
     "metadata": {},
     "output_type": "execute_result"
    }
   ],
   "source": [
    "#frequency of the researcher as manuscript source\n",
    "fasfrequency_df = analyzeutils.gen_frequencyfas(G)\n",
    "fasfrequency_df"
   ]
  },
  {
   "cell_type": "code",
   "execution_count": 14,
   "metadata": {
    "scrolled": true
   },
   "outputs": [
    {
     "data": {
      "image/png": "[encoded data removed]",
      "text/plain": [
       "<Figure size 864x864 with 1 Axes>"
      ]
     },
     "metadata": {},
     "output_type": "display_data"
    }
   ],
   "source": [
    "plot = fasfrequency_df.plot.pie(y=\"fas_frequency\", figsize=(12, 12), autopct='%.1f%%')\n",
    "plt.show()"
   ]
  },
  {
   "cell_type": "code",
   "execution_count": 15,
   "metadata": {},
   "outputs": [
    {
     "data": {
      "text/html": [
       "<div>\n",
       "<style scoped>\n",
       "    .dataframe tbody tr th:only-of-type {\n",
       "        vertical-align: middle;\n",
       "    }\n",
       "\n",
       "    .dataframe tbody tr th {\n",
       "        vertical-align: top;\n",
       "    }\n",
       "\n",
       "    .dataframe thead th {\n",
       "        text-align: right;\n",
       "    }\n",
       "</style>\n",
       "<table border=\"1\" class=\"dataframe\">\n",
       "  <thead>\n",
       "    <tr style=\"text-align: right;\">\n",
       "      <th></th>\n",
       "      <th>year_frequency</th>\n",
       "      <th>norm_year_frequency</th>\n",
       "      <th>pub_year</th>\n",
       "      <th>fas_frequency</th>\n",
       "    </tr>\n",
       "    <tr>\n",
       "      <th>source</th>\n",
       "      <th></th>\n",
       "      <th></th>\n",
       "      <th></th>\n",
       "      <th></th>\n",
       "    </tr>\n",
       "  </thead>\n",
       "  <tbody>\n",
       "    <tr>\n",
       "      <th>faust://bibliography/wa_I_15_2</th>\n",
       "      <td>450</td>\n",
       "      <td>214.979757</td>\n",
       "      <td>1888</td>\n",
       "      <td>51.0</td>\n",
       "    </tr>\n",
       "    <tr>\n",
       "      <th>faust://bibliography/bohnenkamp1994</th>\n",
       "      <td>354</td>\n",
       "      <td>321.036437</td>\n",
       "      <td>1994</td>\n",
       "      <td>19.0</td>\n",
       "    </tr>\n",
       "    <tr>\n",
       "      <th>faust://bibliography/fischer-lamberg1955</th>\n",
       "      <td>346</td>\n",
       "      <td>259.149798</td>\n",
       "      <td>1955</td>\n",
       "      <td>24.0</td>\n",
       "    </tr>\n",
       "    <tr>\n",
       "      <th>faust://bibliography/landeck1981</th>\n",
       "      <td>142</td>\n",
       "      <td>121.303644</td>\n",
       "      <td>1981</td>\n",
       "      <td>17.0</td>\n",
       "    </tr>\n",
       "    <tr>\n",
       "      <th>faust://self</th>\n",
       "      <td>140</td>\n",
       "      <td>130.364372</td>\n",
       "      <td>2000</td>\n",
       "      <td>3.0</td>\n",
       "    </tr>\n",
       "    <tr>\n",
       "      <th>faust://bibliography/hertz1932</th>\n",
       "      <td>76</td>\n",
       "      <td>49.846154</td>\n",
       "      <td>1932</td>\n",
       "      <td>7.0</td>\n",
       "    </tr>\n",
       "    <tr>\n",
       "      <th>faust://bibliography/hertz1931</th>\n",
       "      <td>12</td>\n",
       "      <td>7.821862</td>\n",
       "      <td>1931</td>\n",
       "      <td>1.0</td>\n",
       "    </tr>\n",
       "    <tr>\n",
       "      <th>faust://bibliography/wa_I_14</th>\n",
       "      <td>10</td>\n",
       "      <td>4.736842</td>\n",
       "      <td>1887</td>\n",
       "      <td>1.0</td>\n",
       "    </tr>\n",
       "    <tr>\n",
       "      <th>faust://bibliography/pniower1899</th>\n",
       "      <td>7</td>\n",
       "      <td>3.655870</td>\n",
       "      <td>1899</td>\n",
       "      <td>3.0</td>\n",
       "    </tr>\n",
       "    <tr>\n",
       "      <th>faust://bibliography/grumach1953</th>\n",
       "      <td>6</td>\n",
       "      <td>4.445344</td>\n",
       "      <td>1953</td>\n",
       "      <td>1.0</td>\n",
       "    </tr>\n",
       "    <tr>\n",
       "      <th>faust://bibliography/grumach1958</th>\n",
       "      <td>6</td>\n",
       "      <td>4.566802</td>\n",
       "      <td>1958</td>\n",
       "      <td>1.0</td>\n",
       "    </tr>\n",
       "    <tr>\n",
       "      <th>faust://bibliography/morris1900</th>\n",
       "      <td>2</td>\n",
       "      <td>1.052632</td>\n",
       "      <td>1900</td>\n",
       "      <td>1.0</td>\n",
       "    </tr>\n",
       "    <tr>\n",
       "      <th>faust://bibliography/bluhm1966</th>\n",
       "      <td>2</td>\n",
       "      <td>1.587045</td>\n",
       "      <td>1966</td>\n",
       "      <td>1.0</td>\n",
       "    </tr>\n",
       "  </tbody>\n",
       "</table>\n",
       "</div>"
      ],
      "text/plain": [
       "                                          year_frequency  norm_year_frequency  \\\n",
       "source                                                                          \n",
       "faust://bibliography/wa_I_15_2                       450           214.979757   \n",
       "faust://bibliography/bohnenkamp1994                  354           321.036437   \n",
       "faust://bibliography/fischer-lamberg1955             346           259.149798   \n",
       "faust://bibliography/landeck1981                     142           121.303644   \n",
       "faust://self                                         140           130.364372   \n",
       "faust://bibliography/hertz1932                        76            49.846154   \n",
       "faust://bibliography/hertz1931                        12             7.821862   \n",
       "faust://bibliography/wa_I_14                          10             4.736842   \n",
       "faust://bibliography/pniower1899                       7             3.655870   \n",
       "faust://bibliography/grumach1953                       6             4.445344   \n",
       "faust://bibliography/grumach1958                       6             4.566802   \n",
       "faust://bibliography/morris1900                        2             1.052632   \n",
       "faust://bibliography/bluhm1966                         2             1.587045   \n",
       "\n",
       "                                          pub_year  fas_frequency  \n",
       "source                                                             \n",
       "faust://bibliography/wa_I_15_2                1888           51.0  \n",
       "faust://bibliography/bohnenkamp1994           1994           19.0  \n",
       "faust://bibliography/fischer-lamberg1955      1955           24.0  \n",
       "faust://bibliography/landeck1981              1981           17.0  \n",
       "faust://self                                  2000            3.0  \n",
       "faust://bibliography/hertz1932                1932            7.0  \n",
       "faust://bibliography/hertz1931                1931            1.0  \n",
       "faust://bibliography/wa_I_14                  1887            1.0  \n",
       "faust://bibliography/pniower1899              1899            3.0  \n",
       "faust://bibliography/grumach1953              1953            1.0  \n",
       "faust://bibliography/grumach1958              1958            1.0  \n",
       "faust://bibliography/morris1900               1900            1.0  \n",
       "faust://bibliography/bluhm1966                1966            1.0  "
      ]
     },
     "execution_count": 15,
     "metadata": {},
     "output_type": "execute_result"
    }
   ],
   "source": [
    "df = source_df.join(fasfrequency_df)\n",
    "df = df.dropna() #only sources which are inside the FAS\n",
    "df"
   ]
  },
  {
   "cell_type": "code",
   "execution_count": 16,
   "metadata": {},
   "outputs": [
    {
     "data": {
      "text/html": [
       "<div>\n",
       "<style scoped>\n",
       "    .dataframe tbody tr th:only-of-type {\n",
       "        vertical-align: middle;\n",
       "    }\n",
       "\n",
       "    .dataframe tbody tr th {\n",
       "        vertical-align: top;\n",
       "    }\n",
       "\n",
       "    .dataframe thead th {\n",
       "        text-align: right;\n",
       "    }\n",
       "</style>\n",
       "<table border=\"1\" class=\"dataframe\">\n",
       "  <thead>\n",
       "    <tr style=\"text-align: right;\">\n",
       "      <th></th>\n",
       "      <th>year_frequency</th>\n",
       "      <th>norm_year_frequency</th>\n",
       "      <th>pub_year</th>\n",
       "      <th>fas_frequency</th>\n",
       "      <th>percent_fas</th>\n",
       "      <th>norm_percent_fas</th>\n",
       "    </tr>\n",
       "    <tr>\n",
       "      <th>source</th>\n",
       "      <th></th>\n",
       "      <th></th>\n",
       "      <th></th>\n",
       "      <th></th>\n",
       "      <th></th>\n",
       "      <th></th>\n",
       "    </tr>\n",
       "  </thead>\n",
       "  <tbody>\n",
       "    <tr>\n",
       "      <th>faust://bibliography/wa_I_15_2</th>\n",
       "      <td>450</td>\n",
       "      <td>214.979757</td>\n",
       "      <td>1888</td>\n",
       "      <td>51.0</td>\n",
       "      <td>11.333333</td>\n",
       "      <td>23.723164</td>\n",
       "    </tr>\n",
       "    <tr>\n",
       "      <th>faust://bibliography/bohnenkamp1994</th>\n",
       "      <td>354</td>\n",
       "      <td>321.036437</td>\n",
       "      <td>1994</td>\n",
       "      <td>19.0</td>\n",
       "      <td>5.367232</td>\n",
       "      <td>5.918331</td>\n",
       "    </tr>\n",
       "    <tr>\n",
       "      <th>faust://bibliography/fischer-lamberg1955</th>\n",
       "      <td>346</td>\n",
       "      <td>259.149798</td>\n",
       "      <td>1955</td>\n",
       "      <td>24.0</td>\n",
       "      <td>6.936416</td>\n",
       "      <td>9.261053</td>\n",
       "    </tr>\n",
       "    <tr>\n",
       "      <th>faust://bibliography/landeck1981</th>\n",
       "      <td>142</td>\n",
       "      <td>121.303644</td>\n",
       "      <td>1981</td>\n",
       "      <td>17.0</td>\n",
       "      <td>11.971831</td>\n",
       "      <td>14.014418</td>\n",
       "    </tr>\n",
       "    <tr>\n",
       "      <th>faust://self</th>\n",
       "      <td>140</td>\n",
       "      <td>130.364372</td>\n",
       "      <td>2000</td>\n",
       "      <td>3.0</td>\n",
       "      <td>2.142857</td>\n",
       "      <td>2.301242</td>\n",
       "    </tr>\n",
       "    <tr>\n",
       "      <th>faust://bibliography/hertz1932</th>\n",
       "      <td>76</td>\n",
       "      <td>49.846154</td>\n",
       "      <td>1932</td>\n",
       "      <td>7.0</td>\n",
       "      <td>9.210526</td>\n",
       "      <td>14.043210</td>\n",
       "    </tr>\n",
       "    <tr>\n",
       "      <th>faust://bibliography/hertz1931</th>\n",
       "      <td>12</td>\n",
       "      <td>7.821862</td>\n",
       "      <td>1931</td>\n",
       "      <td>1.0</td>\n",
       "      <td>8.333333</td>\n",
       "      <td>12.784679</td>\n",
       "    </tr>\n",
       "    <tr>\n",
       "      <th>faust://bibliography/wa_I_14</th>\n",
       "      <td>10</td>\n",
       "      <td>4.736842</td>\n",
       "      <td>1887</td>\n",
       "      <td>1.0</td>\n",
       "      <td>10.000000</td>\n",
       "      <td>21.111111</td>\n",
       "    </tr>\n",
       "    <tr>\n",
       "      <th>faust://bibliography/pniower1899</th>\n",
       "      <td>7</td>\n",
       "      <td>3.655870</td>\n",
       "      <td>1899</td>\n",
       "      <td>3.0</td>\n",
       "      <td>42.857143</td>\n",
       "      <td>82.059801</td>\n",
       "    </tr>\n",
       "    <tr>\n",
       "      <th>faust://bibliography/grumach1953</th>\n",
       "      <td>6</td>\n",
       "      <td>4.445344</td>\n",
       "      <td>1953</td>\n",
       "      <td>1.0</td>\n",
       "      <td>16.666667</td>\n",
       "      <td>22.495446</td>\n",
       "    </tr>\n",
       "    <tr>\n",
       "      <th>faust://bibliography/grumach1958</th>\n",
       "      <td>6</td>\n",
       "      <td>4.566802</td>\n",
       "      <td>1958</td>\n",
       "      <td>1.0</td>\n",
       "      <td>16.666667</td>\n",
       "      <td>21.897163</td>\n",
       "    </tr>\n",
       "    <tr>\n",
       "      <th>faust://bibliography/morris1900</th>\n",
       "      <td>2</td>\n",
       "      <td>1.052632</td>\n",
       "      <td>1900</td>\n",
       "      <td>1.0</td>\n",
       "      <td>50.000000</td>\n",
       "      <td>95.000000</td>\n",
       "    </tr>\n",
       "    <tr>\n",
       "      <th>faust://bibliography/bluhm1966</th>\n",
       "      <td>2</td>\n",
       "      <td>1.587045</td>\n",
       "      <td>1966</td>\n",
       "      <td>1.0</td>\n",
       "      <td>50.000000</td>\n",
       "      <td>63.010204</td>\n",
       "    </tr>\n",
       "  </tbody>\n",
       "</table>\n",
       "</div>"
      ],
      "text/plain": [
       "                                          year_frequency  norm_year_frequency  \\\n",
       "source                                                                          \n",
       "faust://bibliography/wa_I_15_2                       450           214.979757   \n",
       "faust://bibliography/bohnenkamp1994                  354           321.036437   \n",
       "faust://bibliography/fischer-lamberg1955             346           259.149798   \n",
       "faust://bibliography/landeck1981                     142           121.303644   \n",
       "faust://self                                         140           130.364372   \n",
       "faust://bibliography/hertz1932                        76            49.846154   \n",
       "faust://bibliography/hertz1931                        12             7.821862   \n",
       "faust://bibliography/wa_I_14                          10             4.736842   \n",
       "faust://bibliography/pniower1899                       7             3.655870   \n",
       "faust://bibliography/grumach1953                       6             4.445344   \n",
       "faust://bibliography/grumach1958                       6             4.566802   \n",
       "faust://bibliography/morris1900                        2             1.052632   \n",
       "faust://bibliography/bluhm1966                         2             1.587045   \n",
       "\n",
       "                                          pub_year  fas_frequency  \\\n",
       "source                                                              \n",
       "faust://bibliography/wa_I_15_2                1888           51.0   \n",
       "faust://bibliography/bohnenkamp1994           1994           19.0   \n",
       "faust://bibliography/fischer-lamberg1955      1955           24.0   \n",
       "faust://bibliography/landeck1981              1981           17.0   \n",
       "faust://self                                  2000            3.0   \n",
       "faust://bibliography/hertz1932                1932            7.0   \n",
       "faust://bibliography/hertz1931                1931            1.0   \n",
       "faust://bibliography/wa_I_14                  1887            1.0   \n",
       "faust://bibliography/pniower1899              1899            3.0   \n",
       "faust://bibliography/grumach1953              1953            1.0   \n",
       "faust://bibliography/grumach1958              1958            1.0   \n",
       "faust://bibliography/morris1900               1900            1.0   \n",
       "faust://bibliography/bluhm1966                1966            1.0   \n",
       "\n",
       "                                          percent_fas  norm_percent_fas  \n",
       "source                                                                   \n",
       "faust://bibliography/wa_I_15_2              11.333333         23.723164  \n",
       "faust://bibliography/bohnenkamp1994          5.367232          5.918331  \n",
       "faust://bibliography/fischer-lamberg1955     6.936416          9.261053  \n",
       "faust://bibliography/landeck1981            11.971831         14.014418  \n",
       "faust://self                                 2.142857          2.301242  \n",
       "faust://bibliography/hertz1932               9.210526         14.043210  \n",
       "faust://bibliography/hertz1931               8.333333         12.784679  \n",
       "faust://bibliography/wa_I_14                10.000000         21.111111  \n",
       "faust://bibliography/pniower1899            42.857143         82.059801  \n",
       "faust://bibliography/grumach1953            16.666667         22.495446  \n",
       "faust://bibliography/grumach1958            16.666667         21.897163  \n",
       "faust://bibliography/morris1900             50.000000         95.000000  \n",
       "faust://bibliography/bluhm1966              50.000000         63.010204  "
      ]
     },
     "execution_count": 16,
     "metadata": {},
     "output_type": "execute_result"
    }
   ],
   "source": [
    "percent_fas = (df[\"fas_frequency\"] / df[\"year_frequency\"]) * 100\n",
    "norm_percent_fas = (df[\"fas_frequency\"] / df[\"norm_year_frequency\"]) * 100\n",
    "percentfas_df = pd.concat([percent_fas, norm_percent_fas], axis=1, sort=True)\n",
    "percentfas_df = percentfas_df.rename(columns={0:\"percent_fas\", 1:\"norm_percent_fas\"})\n",
    "percentfas_df.sort_values(by=\"percent_fas\", ascending=False)\n",
    "df = df.join(percentfas_df, on=\"source\")\n",
    "df\n",
    "#Note: If the following Error raises, restart the code cell with the \"df\"-variable and it should work\n",
    "#ValueError: columns overlap but no suffix specified: Index(['percent_fas', 'norm_percent_fas'], dtype='object')"
   ]
  },
  {
   "cell_type": "markdown",
   "metadata": {},
   "source": [
    "For answering the question which complete source we want to remove to make the Graph acyclic without computing a FAS, we rely on several characteristics a source should have to be rather removed from the Graph than other sources:\n",
    "1. Very old source \n",
    "2. Small amount of edges in the Graph\n",
    "3. A high <b>norm_percent_fas</b>-score.<br>\n",
    "\n",
    "We remove every source of the <b>df</b> from the graph and store the reduced <b>FAS</b> with the assigned source in the DataFrame <i>criticals_df</i>.\n",
    "\n",
    "If a source meets many of the mentioned characteristics, we remove every edge with the source as attribute and compare how much the FAS shrinkes afterwards."
   ]
  },
  {
   "cell_type": "code",
   "execution_count": 17,
   "metadata": {},
   "outputs": [
    {
     "ename": "KeyboardInterrupt",
     "evalue": "",
     "output_type": "error",
     "traceback": [
      "\u001b[0;31m---------------------------------------------------------------------------\u001b[0m",
      "\u001b[0;31mKeyboardInterrupt\u001b[0m                         Traceback (most recent call last)",
      "\u001b[0;32m<ipython-input-17-b05d8b9c0fb1>\u001b[0m in \u001b[0;36m<module>\u001b[0;34m\u001b[0m\n\u001b[0;32m----> 1\u001b[0;31m \u001b[0mcritical_sources_fas\u001b[0m \u001b[0;34m=\u001b[0m \u001b[0manalyzeutils\u001b[0m\u001b[0;34m.\u001b[0m\u001b[0mgen_critical_sources\u001b[0m\u001b[0;34m(\u001b[0m\u001b[0mG\u001b[0m\u001b[0;34m,\u001b[0m \u001b[0mdict\u001b[0m\u001b[0;34m(\u001b[0m\u001b[0mdf\u001b[0m\u001b[0;34m[\u001b[0m\u001b[0;34m\"norm_percent_fas\"\u001b[0m\u001b[0;34m]\u001b[0m\u001b[0;34m)\u001b[0m\u001b[0;34m)\u001b[0m\u001b[0;34m\u001b[0m\u001b[0;34m\u001b[0m\u001b[0m\n\u001b[0m\u001b[1;32m      2\u001b[0m \u001b[0;34m\u001b[0m\u001b[0m\n\u001b[1;32m      3\u001b[0m \u001b[0mcriticals_df\u001b[0m \u001b[0;34m=\u001b[0m \u001b[0mpd\u001b[0m\u001b[0;34m.\u001b[0m\u001b[0mDataFrame\u001b[0m\u001b[0;34m(\u001b[0m\u001b[0mcritical_sources_fas\u001b[0m\u001b[0;34m.\u001b[0m\u001b[0mitems\u001b[0m\u001b[0;34m(\u001b[0m\u001b[0;34m)\u001b[0m\u001b[0;34m,\u001b[0m \u001b[0mcolumns\u001b[0m\u001b[0;34m=\u001b[0m\u001b[0;34m[\u001b[0m\u001b[0;34m\"source\"\u001b[0m\u001b[0;34m,\u001b[0m \u001b[0;34m\"fas_without_source\"\u001b[0m\u001b[0;34m]\u001b[0m\u001b[0;34m)\u001b[0m\u001b[0;34m\u001b[0m\u001b[0;34m\u001b[0m\u001b[0m\n\u001b[1;32m      4\u001b[0m \u001b[0mcriticals_df\u001b[0m\u001b[0;34m.\u001b[0m\u001b[0mset_index\u001b[0m\u001b[0;34m(\u001b[0m\u001b[0;34m\"source\"\u001b[0m\u001b[0;34m,\u001b[0m \u001b[0minplace\u001b[0m\u001b[0;34m=\u001b[0m\u001b[0;32mTrue\u001b[0m\u001b[0;34m)\u001b[0m\u001b[0;34m\u001b[0m\u001b[0;34m\u001b[0m\u001b[0m\n\u001b[1;32m      5\u001b[0m \u001b[0mdf\u001b[0m \u001b[0;34m=\u001b[0m \u001b[0mdf\u001b[0m\u001b[0;34m.\u001b[0m\u001b[0mjoin\u001b[0m\u001b[0;34m(\u001b[0m\u001b[0mcriticals_df\u001b[0m\u001b[0;34m)\u001b[0m\u001b[0;34m\u001b[0m\u001b[0;34m\u001b[0m\u001b[0m\n",
      "\u001b[0;32m~/Desktop/informatik_programme/faust_macrogen_graph/src/faust_macrogen_graph/analyzeutils.py\u001b[0m in \u001b[0;36mgen_critical_sources\u001b[0;34m(G, norm_percent_fas)\u001b[0m\n\u001b[1;32m    160\u001b[0m             \u001b[0;32mif\u001b[0m \u001b[0medge_data\u001b[0m\u001b[0;34m[\u001b[0m\u001b[0;34m\"source\"\u001b[0m\u001b[0;34m]\u001b[0m \u001b[0;34m==\u001b[0m \u001b[0mcritical_source\u001b[0m\u001b[0;34m:\u001b[0m\u001b[0;34m\u001b[0m\u001b[0;34m\u001b[0m\u001b[0m\n\u001b[1;32m    161\u001b[0m                 \u001b[0mnG\u001b[0m\u001b[0;34m.\u001b[0m\u001b[0mremove_edge\u001b[0m\u001b[0;34m(\u001b[0m\u001b[0medge\u001b[0m\u001b[0;34m[\u001b[0m\u001b[0;36m0\u001b[0m\u001b[0;34m]\u001b[0m\u001b[0;34m,\u001b[0m \u001b[0medge\u001b[0m\u001b[0;34m[\u001b[0m\u001b[0;36m1\u001b[0m\u001b[0;34m]\u001b[0m\u001b[0;34m)\u001b[0m\u001b[0;34m\u001b[0m\u001b[0;34m\u001b[0m\u001b[0m\n\u001b[0;32m--> 162\u001b[0;31m         \u001b[0mnG_fas\u001b[0m \u001b[0;34m=\u001b[0m \u001b[0meades_fas\u001b[0m\u001b[0;34m.\u001b[0m\u001b[0meades_FAS\u001b[0m\u001b[0;34m(\u001b[0m\u001b[0mnG\u001b[0m\u001b[0;34m,\u001b[0m \u001b[0;32mTrue\u001b[0m\u001b[0;34m)\u001b[0m\u001b[0;34m\u001b[0m\u001b[0;34m\u001b[0m\u001b[0m\n\u001b[0m\u001b[1;32m    163\u001b[0m         \u001b[0mcritical_sources_fas\u001b[0m\u001b[0;34m[\u001b[0m\u001b[0mcritical_source\u001b[0m\u001b[0;34m]\u001b[0m \u001b[0;34m=\u001b[0m \u001b[0mlen\u001b[0m\u001b[0;34m(\u001b[0m\u001b[0mnG_fas\u001b[0m\u001b[0;34m)\u001b[0m\u001b[0;34m\u001b[0m\u001b[0;34m\u001b[0m\u001b[0m\n\u001b[1;32m    164\u001b[0m \u001b[0;34m\u001b[0m\u001b[0m\n",
      "\u001b[0;32m~/Desktop/informatik_programme/faust_macrogen_graph/src/faust_macrogen_graph/eades_fas.py\u001b[0m in \u001b[0;36meades_FAS\u001b[0;34m(G, deltamaximum)\u001b[0m\n\u001b[1;32m    252\u001b[0m         \u001b[0mdelta_degrees\u001b[0m \u001b[0;34m=\u001b[0m \u001b[0mdeltadegrees\u001b[0m\u001b[0;34m(\u001b[0m\u001b[0mG\u001b[0m\u001b[0;34m,\u001b[0m \u001b[0mdeltamaximum\u001b[0m\u001b[0;34m)\u001b[0m\u001b[0;34m\u001b[0m\u001b[0;34m\u001b[0m\u001b[0m\n\u001b[1;32m    253\u001b[0m         \u001b[0mvertex2Dlist\u001b[0m \u001b[0;34m=\u001b[0m \u001b[0mgen_vertex2D\u001b[0m\u001b[0;34m(\u001b[0m\u001b[0mn_nodes\u001b[0m\u001b[0;34m,\u001b[0m \u001b[0mgraph_nodes\u001b[0m\u001b[0;34m,\u001b[0m \u001b[0mnode_degrees\u001b[0m\u001b[0;34m,\u001b[0m \u001b[0mdelta_degrees\u001b[0m\u001b[0;34m)\u001b[0m\u001b[0;34m\u001b[0m\u001b[0;34m\u001b[0m\u001b[0m\n\u001b[0;32m--> 254\u001b[0;31m         \u001b[0mvertexsequence\u001b[0m \u001b[0;34m=\u001b[0m \u001b[0meades_GR\u001b[0m\u001b[0;34m(\u001b[0m\u001b[0mvertex2Dlist\u001b[0m\u001b[0;34m,\u001b[0m \u001b[0mG\u001b[0m\u001b[0;34m,\u001b[0m \u001b[0mdeltamaximum\u001b[0m\u001b[0;34m)\u001b[0m\u001b[0;34m\u001b[0m\u001b[0;34m\u001b[0m\u001b[0m\n\u001b[0m\u001b[1;32m    255\u001b[0m         \u001b[0mfas\u001b[0m \u001b[0;34m=\u001b[0m \u001b[0mgen_FAS\u001b[0m\u001b[0;34m(\u001b[0m\u001b[0mvertexsequence\u001b[0m\u001b[0;34m,\u001b[0m \u001b[0mG\u001b[0m\u001b[0;34m.\u001b[0m\u001b[0mcopy\u001b[0m\u001b[0;34m(\u001b[0m\u001b[0;34m)\u001b[0m\u001b[0;34m)\u001b[0m\u001b[0;34m\u001b[0m\u001b[0;34m\u001b[0m\u001b[0m\n\u001b[1;32m    256\u001b[0m \u001b[0;34m\u001b[0m\u001b[0m\n",
      "\u001b[0;32m~/Desktop/informatik_programme/faust_macrogen_graph/src/faust_macrogen_graph/eades_fas.py\u001b[0m in \u001b[0;36meades_GR\u001b[0;34m(vertex2Dlist, G, deltamaximum)\u001b[0m\n\u001b[1;32m    142\u001b[0m                         \u001b[0mremoved_nodes\u001b[0m\u001b[0;34m.\u001b[0m\u001b[0mappend\u001b[0m\u001b[0;34m(\u001b[0m\u001b[0msink\u001b[0m\u001b[0;34m)\u001b[0m\u001b[0;34m\u001b[0m\u001b[0;34m\u001b[0m\u001b[0m\n\u001b[1;32m    143\u001b[0m                         \u001b[0mvertex2Dlist\u001b[0m\u001b[0;34m[\u001b[0m\u001b[0;34m-\u001b[0m\u001b[0;36m1\u001b[0m\u001b[0;34m]\u001b[0m\u001b[0;34m.\u001b[0m\u001b[0mpop\u001b[0m\u001b[0;34m(\u001b[0m\u001b[0;36m0\u001b[0m\u001b[0;34m)\u001b[0m\u001b[0;34m\u001b[0m\u001b[0;34m\u001b[0m\u001b[0m\n\u001b[0;32m--> 144\u001b[0;31m                         \u001b[0mvertex2Dlist\u001b[0m \u001b[0;34m=\u001b[0m \u001b[0mgen_vertex2D\u001b[0m\u001b[0;34m(\u001b[0m\u001b[0mn_nodes\u001b[0m\u001b[0;34m,\u001b[0m \u001b[0mG\u001b[0m\u001b[0;34m.\u001b[0m\u001b[0mnodes\u001b[0m\u001b[0;34m(\u001b[0m\u001b[0;34m)\u001b[0m\u001b[0;34m,\u001b[0m \u001b[0mdegrees\u001b[0m\u001b[0;34m(\u001b[0m\u001b[0mG\u001b[0m\u001b[0;34m)\u001b[0m\u001b[0;34m,\u001b[0m \u001b[0mdeltadegrees\u001b[0m\u001b[0;34m(\u001b[0m\u001b[0mG\u001b[0m\u001b[0;34m,\u001b[0m \u001b[0mdeltamaximum\u001b[0m\u001b[0;34m)\u001b[0m\u001b[0;34m)\u001b[0m\u001b[0;34m\u001b[0m\u001b[0;34m\u001b[0m\u001b[0m\n\u001b[0m\u001b[1;32m    145\u001b[0m                     \u001b[0;32mexcept\u001b[0m \u001b[0mKeyError\u001b[0m\u001b[0;34m:\u001b[0m\u001b[0;34m\u001b[0m\u001b[0;34m\u001b[0m\u001b[0m\n\u001b[1;32m    146\u001b[0m                         \u001b[0;32mbreak\u001b[0m\u001b[0;34m\u001b[0m\u001b[0;34m\u001b[0m\u001b[0m\n",
      "\u001b[0;32m~/Desktop/informatik_programme/faust_macrogen_graph/src/faust_macrogen_graph/eades_fas.py\u001b[0m in \u001b[0;36mgen_vertex2D\u001b[0;34m(n_nodes, graph_nodes, degrees, delta_degrees)\u001b[0m\n\u001b[1;32m     81\u001b[0m     \"\"\"\n\u001b[1;32m     82\u001b[0m     \u001b[0;31m#generate an empty two-dimensional array by the formula 2n-1 in Tintelnots paper (see: Tintelnot (2018), Appendix E, p. 28)\u001b[0m\u001b[0;34m\u001b[0m\u001b[0;34m\u001b[0m\u001b[0;34m\u001b[0m\u001b[0m\n\u001b[0;32m---> 83\u001b[0;31m     \u001b[0mvertex2Dlist\u001b[0m \u001b[0;34m=\u001b[0m \u001b[0;34m[\u001b[0m\u001b[0;34m[\u001b[0m\u001b[0;34m]\u001b[0m \u001b[0;32mfor\u001b[0m \u001b[0mnode\u001b[0m \u001b[0;32min\u001b[0m \u001b[0mrange\u001b[0m\u001b[0;34m(\u001b[0m\u001b[0;34m(\u001b[0m\u001b[0;36m2\u001b[0m \u001b[0;34m*\u001b[0m \u001b[0mn_nodes\u001b[0m\u001b[0;34m)\u001b[0m \u001b[0;34m-\u001b[0m \u001b[0;36m1\u001b[0m\u001b[0;34m)\u001b[0m\u001b[0;34m]\u001b[0m\u001b[0;34m\u001b[0m\u001b[0;34m\u001b[0m\u001b[0m\n\u001b[0m\u001b[1;32m     84\u001b[0m \u001b[0;34m\u001b[0m\u001b[0m\n\u001b[1;32m     85\u001b[0m     \u001b[0;31m#if the DiGraph only consists of one node, the node will be treated as source\u001b[0m\u001b[0;34m\u001b[0m\u001b[0;34m\u001b[0m\u001b[0;34m\u001b[0m\u001b[0m\n",
      "\u001b[0;32m~/Desktop/informatik_programme/faust_macrogen_graph/src/faust_macrogen_graph/eades_fas.py\u001b[0m in \u001b[0;36m<listcomp>\u001b[0;34m(.0)\u001b[0m\n\u001b[1;32m     81\u001b[0m     \"\"\"\n\u001b[1;32m     82\u001b[0m     \u001b[0;31m#generate an empty two-dimensional array by the formula 2n-1 in Tintelnots paper (see: Tintelnot (2018), Appendix E, p. 28)\u001b[0m\u001b[0;34m\u001b[0m\u001b[0;34m\u001b[0m\u001b[0;34m\u001b[0m\u001b[0m\n\u001b[0;32m---> 83\u001b[0;31m     \u001b[0mvertex2Dlist\u001b[0m \u001b[0;34m=\u001b[0m \u001b[0;34m[\u001b[0m\u001b[0;34m[\u001b[0m\u001b[0;34m]\u001b[0m \u001b[0;32mfor\u001b[0m \u001b[0mnode\u001b[0m \u001b[0;32min\u001b[0m \u001b[0mrange\u001b[0m\u001b[0;34m(\u001b[0m\u001b[0;34m(\u001b[0m\u001b[0;36m2\u001b[0m \u001b[0;34m*\u001b[0m \u001b[0mn_nodes\u001b[0m\u001b[0;34m)\u001b[0m \u001b[0;34m-\u001b[0m \u001b[0;36m1\u001b[0m\u001b[0;34m)\u001b[0m\u001b[0;34m]\u001b[0m\u001b[0;34m\u001b[0m\u001b[0;34m\u001b[0m\u001b[0m\n\u001b[0m\u001b[1;32m     84\u001b[0m \u001b[0;34m\u001b[0m\u001b[0m\n\u001b[1;32m     85\u001b[0m     \u001b[0;31m#if the DiGraph only consists of one node, the node will be treated as source\u001b[0m\u001b[0;34m\u001b[0m\u001b[0;34m\u001b[0m\u001b[0;34m\u001b[0m\u001b[0m\n",
      "\u001b[0;31mKeyboardInterrupt\u001b[0m: "
     ]
    }
   ],
   "source": [
    "critical_sources_fas = analyzeutils.gen_critical_sources(G, dict(df[\"norm_percent_fas\"]))\n",
    "\n",
    "criticals_df = pd.DataFrame(critical_sources_fas.items(), columns=[\"source\", \"fas_without_source\"])\n",
    "criticals_df.set_index(\"source\", inplace=True)\n",
    "df = df.join(criticals_df)\n",
    "df\n",
    "#Note: If the following Error raises or the column \"fas_without_source\" contains only NaN values, \n",
    "#restart the code cell with the creation of \"df\" and it should work.\n",
    "#ValueError: columns overlap but no suffix specified: Index(['percent_fas', 'norm_percent_fas'], dtype='object')"
   ]
  },
  {
   "cell_type": "markdown",
   "metadata": {},
   "source": [
    "We now take a look at the sources which didn't appear in the \"original\" FAS and add them to the <b>possible_critical_sources</b>-dictionary if a removal of these sources reduce the FAS."
   ]
  },
  {
   "cell_type": "code",
   "execution_count": null,
   "metadata": {},
   "outputs": [],
   "source": [
    "#scores of all \n",
    "scores_all_sources = dict(analyzeutils.get_research_score(G))\n",
    "all_critical_sources_fas = analyzeutils.gen_critical_sources(G, scores_all_sources)\n",
    "\n",
    "possible_critical_sources = {}\n",
    "for k,v in dict(all_critical_sources_fas).items():\n",
    "    if k not in list(df.index.values) and v < len(G_fas):\n",
    "        possible_critical_sources[k] = v\n",
    "possible_critical_sources"
   ]
  },
  {
   "cell_type": "markdown",
   "metadata": {},
   "source": [
    "TODO: weg? <br>\n",
    "In this section we:\n",
    "- build a DataFrame <i>df</i> where we took the sources of the FAS as index and several characteristics like the \"publication year\", the \"frequency of the source inside the FAS\" or the \"size of the FAS without the source\" as columns\n",
    "- computed a dictionary with possible critical sources which aren't in the \"original\" FAS but could reduce the FAS when they would be removed (?)\n",
    "- TODO: noch was?"
   ]
  },
  {
   "cell_type": "markdown",
   "metadata": {},
   "source": [
    "## 5. Perfomance comparison of the approaches"
   ]
  },
  {
   "cell_type": "markdown",
   "metadata": {},
   "source": [
    "### 5.1. Performance comparison of all current approaches"
   ]
  },
  {
   "cell_type": "markdown",
   "metadata": {},
   "source": [
    "In this section we compare all of the current approaches and look at their performance. We already did this in a light variant in <b>section 3.2</b>. There we decided to take the <b>Vitt</b> approach because the computed graph hold more nodes and egdes than the other approaches. We now prove in more detail why using the Vitt-approach or definitely the basic idea of the approach is the best solution for us.<br>\n",
    "Instead of simply comparing the approaches by the number of nodes and edges, we also test if the ignoring of the skipignore-attributes and changing of the <b>Eades</b>-MFAS-algorithm to the <b>Tintelnot</b>-variant evoke big differences."
   ]
  },
  {
   "cell_type": "code",
   "execution_count": null,
   "metadata": {},
   "outputs": [],
   "source": [
    "#paramlist = [approach, skipignore, eades_fas or tintelnot_fas]\n",
    "metaparamdict = {\"vitt(+skipignore, tintelnot)\" : [\"vitt\", True, True], \n",
    "                 \"vitt(-skipignore, tintelnot)\" : [\"vitt\", False, True],\n",
    "                \"vitt(+skipignore, eades)\" : [\"vitt\", True, False], \n",
    "                 \"vitt(-skipignore, eades)\" : [\"vitt\", False, False],\n",
    "                \"wissenbach(+skipignore, tintelnot)\" : [\"wissenbach\", True, True], \n",
    "                 \"wissenbach(-skipignore, tinelnot)\" : [\"wissenbach\", False, True],\n",
    "                \"wissenbach(+skipignore, eades)\" : [\"wissenbach\", True, False], \n",
    "                 \"wissenbach(-skipignore, eades)\" : [\"wissenbach\", False, False],\n",
    "                 \"paulus-1(+skipignore, tintelnot)\" : [\"paulus-1\", True, True], \n",
    "                 \"paulus-1(-skipignore, tinelnot)\" : [\"paulus-1\", False, True],\n",
    "                \"paulus-1(+skipignore, eades)\" : [\"paulus-1\", True, False], \n",
    "                 \"paulus-1(-skipignore, eades)\" : [\"paulus-1\", False, False],\n",
    "                 \"paulus-2(+skipignore, tintelnot)\" : [\"paulus-2\", True, True], \n",
    "                 \"paulus-2(-skipignore, tinelnot)\" : [\"paulus-2\", False, True],\n",
    "                \"paulus-2(+skipignore, eades)\" : [\"paulus-2\", True, False], \n",
    "                 \"paulus-2(-skipignore, eades)\" : [\"paulus-2\", False, False],\n",
    "                }\n",
    "meta_feature_dict = {}\n",
    "\n",
    "for key, paramlist in metaparamdict.items():\n",
    "    meta_feature_dict[key] = comparisonutils.gen_feature_dict(paramlist, special_researchers)"
   ]
  },
  {
   "cell_type": "code",
   "execution_count": null,
   "metadata": {},
   "outputs": [],
   "source": [
    "meta_param_df = pd.DataFrame(meta_feature_dict)\n",
    "meta_param_df = meta_param_df.T\n",
    "meta_param_df = meta_param_df.drop(\"nodeslist\", 1)\n",
    "meta_param_df"
   ]
  },
  {
   "cell_type": "code",
   "execution_count": null,
   "metadata": {},
   "outputs": [],
   "source": [
    "metadfdict = {\"fasfrequency_df\" : [\"fas_frequency\"], \n",
    "              \"percentfas_df\": [\"percent_fas\",\"norm_percent_fas\"], \n",
    "              \"source_df\": [\"year_frequency\", \"norm_year_frequency\"]}\n",
    "\n",
    "for dataframe, columns in metadfdict.items():\n",
    "    for column in columns:\n",
    "        tmp_df = analyzeutils.dataframe_from_column(meta_param_df, dataframe, column)\n",
    "        print(column)\n",
    "        display(HTML(tmp_df.to_html()))\n",
    "        print(\"\\n\")"
   ]
  },
  {
   "cell_type": "markdown",
   "metadata": {},
   "source": [
    "Analysis:\n",
    "- no difference between the <b>Eades</b>- and <b>Tintelnot</b>- FAS for our graph\n",
    "- Wissenbach- and Paulus-approaches induces more NaN-Values than the Vitt-approach\n",
    "- the skipignore-attributes have only a small impact: they add \"pniower1924\" to the <i>year_frequency_df</i>, but doesn't impact the other DataFrames (it doesn't appear inside the FAS).\n",
    "\n",
    "So we have shown that using the <b>Vitt</b> approach has advantages over the other approaches in Section 3.2 and in this section we proved that the Vitt-approach is the most useful approach for solving our issues. This is not particularly surprising for the Paulus-approaches, as the conjunction of the both apporaches is basically the Vitt approach. The problem with the Wissenbach approach seems to be that it, like the Paulus-approaches, connects only one node that represents the middle of the \"notBefore\" and \"notAfter\" dates to the manuscript. So it seems that the <b>basic structure</b> of the Vitt approach of representing \"notBefore\" and \"notAfter\" as their own nodes and linking them to the manuscript is the most practical solution. In the following we will manipulate the \"notBefore\" and the \"notAfter\" dates in the Vitt approach and see how these changes affect the nodes, edges, cycles and the FAS."
   ]
  },
  {
   "cell_type": "markdown",
   "metadata": {},
   "source": [
    "### 5.2. Adjusting of the Vitt-approach"
   ]
  },
  {
   "cell_type": "markdown",
   "metadata": {},
   "source": [
    "In this section we manipulate the \"notBefore\" and \"notAfter\" datings and compare them with the original datings. The idea of the manipulation is that the \"notBefore\" and \"notAfter\" dates were determined by researchers and some assessments do not suit with the assessments of other researchers, which ultimately leads to an acyclic graph and the existence of a FAS. But before we remove the \"most critical\" sources (see section 4.2), let's see if we can gain new insights into the problem sources first by adding or removing days from the \"notBefore\" and \"notAfter\" elements. However, the ratio should remain the same for the increment of days and the period between days, so the same number of days are always taken or added from the \"notBefore\" and \"notAfter\" dates.<br>\n",
    "\n",
    "Several factors should be considered when comparing these approaches with the Vitt approach:\n",
    "- Number of nodes: A higher number of nodes is not an indication of a suitable approach by itself, but in the case of a \"tie\", the approach which has more nodes should be taken\n",
    "- FAS size: The smaller the FAS is the better.\n",
    "- Cycles: The less the better. A small number of cycles becomes interesting, especially for the question of how to get the graph cycle-free without the calculation of a FAS (see Section 4.2)."
   ]
  },
  {
   "cell_type": "markdown",
   "metadata": {},
   "source": [
    "Hereinafter we reduce the period between \"notBefore\" and \"notAfter\" datings by decreasing the dates."
   ]
  },
  {
   "cell_type": "code",
   "execution_count": null,
   "metadata": {},
   "outputs": [],
   "source": [
    "#factor can not be 1 (doesn't make not any sense and doesn't work with our algorithm)\n",
    "metafactordict = {\"vitt\" : [\"vitt\", False, True],\n",
    "                 \"shorter(2)\" : [\"shorter_period\", False, True, 2],\n",
    "                 \"shorter(3)\" : [\"shorter_period\", False, True, 3],\n",
    "                 \"shorter(4)\" : [\"shorter_period\", False, True, 4],\n",
    "                 \"shorter(5)\" : [\"shorter_period\", False, True, 5],\n",
    "                 \"shorter(6)\" : [\"shorter_period\", False, True, 6],\n",
    "                 \"shorter(7)\" : [\"shorter_period\", False, True, 7],\n",
    "                 \"shorter(8)\" : [\"shorter_period\", False, True, 8],\n",
    "                 \"shorter(9)\" : [\"shorter_period\", False, True, 9],\n",
    "                 \"shorter(10)\" : [\"shorter_period\", False, True, 10],\n",
    "                 \"shorter(11)\" : [\"shorter_period\", False, True, 11],\n",
    "                 \"shorter(12)\" : [\"shorter_period\", False, True, 12],\n",
    "                 \"shorter(13)\" : [\"shorter_period\", False, True, 13],\n",
    "                 \"shorter(14)\" : [\"shorter_period\", False, True, 14],\n",
    "                 \"shorter(15)\" : [\"shorter_period\", False, True, 15]}\n",
    "\n",
    "\n",
    "meta_factor_dict = {}\n",
    "\n",
    "for key, paramlist in metafactordict.items():\n",
    "    meta_factor_dict[key] = comparisonutils.gen_feature_dict(paramlist, special_researchers)"
   ]
  },
  {
   "cell_type": "code",
   "execution_count": null,
   "metadata": {},
   "outputs": [],
   "source": [
    "meta_factor_df = pd.DataFrame(meta_factor_dict)\n",
    "meta_factor_df = meta_factor_df.T\n",
    "meta_factor_df = meta_factor_df.drop('fasfrequency_df', 1)\n",
    "#meta_factor_df = meta_factor_df.drop('percentfas_df', 1)\n",
    "meta_factor_df = meta_factor_df.drop('source_df', 1)\n",
    "meta_factor_df"
   ]
  },
  {
   "cell_type": "markdown",
   "metadata": {},
   "source": [
    "As we can see here, \"shorter (3)\" seems to perform best. Compared to the Vitt approach, it induces well under half the number of cycles and the FAS is also smaller. Furthermore, it has more nodes than the Vitt approach. That's because there are many more different datings which resulted from the addition and subtraction of days. Therefore the <b>comparison_nodelist</b> contains only datings.<br>\n",
    "Note: From factor 15 and from factor 20, the number of cycles has always remained the same, the FAS changed only minimally. Therefore, they were disregarded for comparison, but they are stored under <i>\"data/shorter_periods_dataframe.csv\"</i>."
   ]
  },
  {
   "cell_type": "code",
   "execution_count": null,
   "metadata": {},
   "outputs": [],
   "source": [
    "shorter3nodelist = meta_factor_df[\"nodeslist\"][\"shorter(3)\"]\n",
    "vittnodeslist = meta_factor_df[\"nodeslist\"][\"vitt\"]\n",
    "\n",
    "comparison_nodelist = []\n",
    "\n",
    "for node in shorter3nodelist:\n",
    "    if node not in vittnodeslist:\n",
    "        comparison_nodelist.append(node)\n",
    "        \n",
    "comparison_nodelist"
   ]
  },
  {
   "cell_type": "markdown",
   "metadata": {},
   "source": [
    "And now we try to add days to the \"notBefore\" and \"notAfter\" datings."
   ]
  },
  {
   "cell_type": "code",
   "execution_count": null,
   "metadata": {},
   "outputs": [],
   "source": [
    "lmetafactordict = {\"vitt\" : [\"vitt\", False, True],\n",
    "                   \"longer(1)\" : [\"longer_period\", False, True, 1],\n",
    "                   \"longer(2)\" : [\"longer_period\", False, True, 2],\n",
    "                   \"longer(3)\" : [\"longer_period\", False, True, 3],\n",
    "                   \"longer(4)\" : [\"longer_period\", False, True, 4],\n",
    "                   \"longer(5)\" : [\"longer_period\", False, True, 5],\n",
    "                   \"longer(6)\" : [\"longer_period\", False, True, 6],\n",
    "                   \"longer(7)\" : [\"longer_period\", False, True, 7],\n",
    "                   \"longer(8)\" : [\"longer_period\", False, True, 8],\n",
    "                   \"longer(9)\" : [\"longer_period\", False, True, 9],\n",
    "                   \"longer(10)\" : [\"longer_period\", False, True, 10],\n",
    "                   \"longer(11)\" : [\"longer_period\", False, True, 11],\n",
    "                  \"longer(12)\" : [\"longer_period\", False, True, 12],\n",
    "                  \"longer(13)\" : [\"longer_period\", False, True, 13],\n",
    "                  \"longer(14)\" : [\"longer_period\", False, True, 14],\n",
    "                  \"longer(15)\" : [\"longer_period\", False, True, 15]}\n",
    "\n",
    "\n",
    "lmeta_factor_dict = {}\n",
    "\n",
    "for key, paramlist in lmetafactordict.items():\n",
    "    lmeta_factor_dict[key] = comparisonutils.gen_feature_dict(paramlist, special_researchers)"
   ]
  },
  {
   "cell_type": "code",
   "execution_count": null,
   "metadata": {},
   "outputs": [],
   "source": [
    "lmeta_factor_df = pd.DataFrame(lmeta_factor_dict)\n",
    "lmeta_factor_df = lmeta_factor_df.T\n",
    "lmeta_factor_df = lmeta_factor_df.drop('fasfrequency_df', 1)\n",
    "#lmeta_factor_df = lmeta_factor_df.drop('percentfas_df', 1)\n",
    "lmeta_factor_df = lmeta_factor_df.drop('source_df', 1)\n",
    "lmeta_factor_df"
   ]
  },
  {
   "cell_type": "markdown",
   "metadata": {},
   "source": [
    "The best performing approach is \"longer(11)\", although there aren't many distinct differences between the seperate approaches. A comparison of the period-parameters is stored unde <i>data/longer_periods_dataframe.csv</i>. There we can see that, from factor 16 the cycles, the FAS and the number of nodes doesn't vary much."
   ]
  },
  {
   "cell_type": "markdown",
   "metadata": {},
   "source": [
    "## 6. Creating of the graph "
   ]
  },
  {
   "cell_type": "markdown",
   "metadata": {},
   "source": [
    "possible reduced fas = 68 to 64 possible"
   ]
  },
  {
   "cell_type": "code",
   "execution_count": null,
   "metadata": {},
   "outputs": [],
   "source": [
    "meta_vitt_df = pd.DataFrame(0, \n",
    "                            index=[\"longer\", \"shorter\", \"vitt\"], \n",
    "                            columns=[\"edges\",\n",
    "                                     \"nodes\",\n",
    "                                     \"fas_size\", \n",
    "                                     \"possible reduced fas\",\n",
    "                                     \"aG_edges+uncritical_source\",\n",
    "                                     \"aG_edges+random_critical_sources\",\n",
    "                                     \"complete_sources_readded\",\n",
    "                                     \"critical_weights\"])\n",
    "\n",
    "#TODO: erklären und evtl erweitern"
   ]
  },
  {
   "cell_type": "markdown",
   "metadata": {},
   "source": [
    "### 6.1. Longer period graph"
   ]
  },
  {
   "cell_type": "markdown",
   "metadata": {},
   "source": [
    "TODO:\n",
    "- ~~erklären dass nach einzelnen source re adden scheinbar nicht klappt~~\n",
    "- ~~jedoch geht es mit einzelnen Kanten --> FAS somit nicht minimal~~\n",
    "- ~~überprüfen ob ganze sources zufällig rausgelöscht wurden (als funktion/ code zelle)~~\n",
    "- ~~das beides als unterpunkt~~\n",
    "- ~~weiter machen mit umgehen des FAS und ganze sourcen nach norm_percent_fas & norm_year_frequency löschen~~\n",
    "- ~~diese vergleichen mit vorherigen punkten: wieviele kanten im vergleich herausgenommen? fazit wahrscheinlich: nach ganzen Quellen löschen ist zwar sinnvoll, aber lässt auch weniger edges übrig --> ist das aber gewollt? wäre für eine implementierung bei der faustedition viel viel einfacher~~\n",
    "- ~~was machen mit den weights? vielleicht mal überprüfen, ob weight=10 nicht rausgenommen werden sollen, da so wichtig~~\n",
    "- ~~was mit tempsyn? die reinfügen wie zuerst gedacht oder anders einfügen? vielleicht nach dem prinzip einfügen von re adding, sodass nicht alle hinzugefügt werden (das FAS war ja sehr klein)~~\n",
    "- alles oben mit den anderen Graphen auch machen --> vergleichen (jedoch wie? DataFrame mal wieder?)\n",
    "- auf jeden fall erwähnen, dass somit fragen von anfang beantwortet werden\n",
    "- ~~vielleicht das ganze tempsyn zeug und so vor dem hier machen, da sonst doppelt gemoppelt~~\n",
    "\n",
    "- auf jeden fall funktionen der früheren kapitel outsourcen (vor allem von 4.2 und 6.1)\n",
    "- sind im vergleich zu dem was wir gerade machen irgendwie sehr unwichtig, unspektakulär"
   ]
  },
  {
   "cell_type": "code",
   "execution_count": null,
   "metadata": {},
   "outputs": [],
   "source": [
    "lGparams = [\"longer_period\", False, True, 11]\n",
    "lG = comparisonutils.gen_faustgraph(lGparams, special_researchers)\n",
    "lG_fas = eades_fas.eades_FAS(lG, True)\n",
    "meta_vitt_df.loc[\"longer\",\"fas_size\"] = len(lG_fas)\n",
    "meta_vitt_df.loc[\"longer\",\"edges\"] = len(lG.edges())\n",
    "meta_vitt_df.loc[\"longer\",\"nodes\"] = len(lG.nodes())"
   ]
  },
  {
   "cell_type": "markdown",
   "metadata": {},
   "source": [
    "Checking if the FAS is computed correctly."
   ]
  },
  {
   "cell_type": "code",
   "execution_count": null,
   "metadata": {},
   "outputs": [],
   "source": [
    "alG = lG.copy()\n",
    "alG.remove_edges_from(lG_fas)\n",
    "if nx.is_directed_acyclic_graph(alG) == True:\n",
    "    print(\"The longer graph without the FAS (\" + str(len(lG_fas)) + \" edges) is acyclic!\")"
   ]
  },
  {
   "cell_type": "markdown",
   "metadata": {},
   "source": [
    "#### 6.1.1. Minimizing the removal of sources within the FAS"
   ]
  },
  {
   "cell_type": "markdown",
   "metadata": {},
   "source": [
    "TODO erklären<br>\n",
    "\n",
    "Here we remove individual edges of critical sources to make the FAS smaller. As little sources as possible should be used and as few edges as possible. An ideal solution would only remove some edges from one source. These could then be implemented relatively easily in the <b>Faust</b>-Edition and treated as \"invalid or incorrect statements\". Since it is already clear from the outset that we will not be able to do this, in this section we try to find the best sequence of sources to be removed so that the graph becomes cycle-free. Only the order in which most sources can still stay in the graph is examined. Using this order, the edges of the sources, which are not likely to generate a new FAS, are then gradually added back to the acyclic graph <b> alG </b>. On the other hand, the experiment is then confronted with a random, not source-oriented, new acquisition of edges, and both experiments are then compared."
   ]
  },
  {
   "cell_type": "code",
   "execution_count": null,
   "metadata": {},
   "outputs": [],
   "source": [
    "\"\"\"\n",
    "Note: because the FAS-alogrithm is called many times, this function is a little bit slow. \n",
    "      We saved the DataFrame in the folder \"data\" as \"longer_period_fas_dataframe.csv\" to save time.\n",
    "\"\"\"\n",
    "#lGfas_df = analyzeutils.minimize_source_removal(lG)\n",
    "#lGfas_df.to_csv(\"data/longer_period_fas_dataframe.csv\")"
   ]
  },
  {
   "cell_type": "code",
   "execution_count": null,
   "metadata": {},
   "outputs": [],
   "source": [
    "#TODO: renaming it to minimal source removal df or something like this\n",
    "#--> must be also changed in \"remove uncritical sources\""
   ]
  },
  {
   "cell_type": "code",
   "execution_count": null,
   "metadata": {},
   "outputs": [],
   "source": [
    "lGfas_df = pd.read_csv(\"data/longer_period_fas_dataframe.csv\", index_col=\"source\")\n",
    "lGfas_df"
   ]
  },
  {
   "cell_type": "code",
   "execution_count": null,
   "metadata": {},
   "outputs": [],
   "source": [
    "lG_fas_frequency = analyzeutils.gen_frequencyfas(lG)\n",
    "\n",
    "uncritical_sources, reduced_fas = analyzeutils.remove_uncritical_sources(lG, lG_fas, lG_fas_frequency, lGfas_df)\n",
    "meta_vitt_df.loc[\"longer\", \"possible reduced fas\"] = len(lG_fas) - reduced_fas"
   ]
  },
  {
   "cell_type": "markdown",
   "metadata": {},
   "source": [
    "Re-adding the source zero values and all critical sources for comparison. The function \"readding_edges_by_source\" only adds an edge if this edge doesn't create a new cycle."
   ]
  },
  {
   "cell_type": "code",
   "execution_count": null,
   "metadata": {},
   "outputs": [],
   "source": [
    "critical_sources = list(lG_fas_frequency.index)\n",
    "\n",
    "#Testing with only the uncritical source\n",
    "uc_alG = graphutils.readding_edges_by_source(lG, alG, lG_fas, uncritical_sources)\n",
    "meta_vitt_df.loc[\"longer\",\"aG_edges+uncritical_source\"] = len(uc_alG.edges()) - len(alG.edges())\n",
    "\n",
    "#Testing with all critical sources\n",
    "c_alG, readded_edgelist = graphutils.readding_edges_by_source(lG, alG, lG_fas, critical_sources, True)\n",
    "meta_vitt_df.loc[\"longer\",\"aG_edges+random_critical_sources\"] = len(c_alG.edges()) - len(alG.edges())\n",
    "\n",
    "\n",
    "print(\"The acyclic longer period graph has \" \n",
    "      + str(len(alG.edges())) \n",
    "      + \" edges. If only the sources of the uncritical sources should be added, the longer period graph contains now \" \n",
    "      + str(len(uc_alG.edges())) \n",
    "      + \" edges. If all critical sources should be added, the graph contains \"\n",
    "      + str(len(c_alG.edges()))\n",
    "      + \" edges.\")\n",
    "if nx.is_directed_acyclic_graph(uc_alG) and nx.is_directed_acyclic_graph(uc_alG):\n",
    "    print(\"Both versions of the alG graph are still acylic.\")\n",
    "if len(uc_alG.edges()) == len(alG.edges()):\n",
    "    print(\"With the addition of the uncritical sources, the graph stayed the same.\")\n",
    "if len(uc_alG.edges()) > len(alG.edges()):\n",
    "    print(\"With the addition of the uncritical sources, the graph now contains \"\n",
    "         + str(len(uc_alG.edges()) - len(alG.edges())) + \" edges more than before.\")\n",
    "if len(c_alG.edges()) > len(alG.edges()):\n",
    "    print(\"With the addition of the critical sources, the graph now contains \"\n",
    "         + str(len(c_alG.edges()) - len(alG.edges())) + \" edges more than before.\")"
   ]
  },
  {
   "cell_type": "markdown",
   "metadata": {},
   "source": [
    "Testing whether all edges have been added from one of the sources, from which edges were added to the acyclic graph alG again."
   ]
  },
  {
   "cell_type": "code",
   "execution_count": null,
   "metadata": {},
   "outputs": [],
   "source": [
    "edgecounter = Counter()\n",
    "for edge in readded_edgelist:\n",
    "    edgecounter[edge[3]] += 1\n",
    "\n",
    "complete_readded_sources = []\n",
    "for source, v in edgecounter.items():\n",
    "    if lG_fas_frequency.loc[source, \"fas_frequency\"] <= v:\n",
    "        complete_readded_sources.append(source)\n",
    "        print(\"The whole source \" + source + \" should be re-added (\" \n",
    "              + str(int(lG_fas_frequency.loc[source])) + \" edge(s) inside the FAS).\")\n",
    "meta_vitt_df.loc[\"longer\",\"complete_sources_readded\"] = len(complete_readded_sources)  "
   ]
  },
  {
   "cell_type": "markdown",
   "metadata": {},
   "source": [
    "The result is quite sobering. It was not possible for us to insert edges from the FAS into the graph according to the criterion of seemingly uncritical sources. Instead, however, we were able to add single edges that, while coming from the critical source area, were randomly added and not by the criterion of a specific source. This does prove that the algorithm of <b>Eades</b> to induce a MFAS isn't the minimal solution for the FAS-problem. Although we did not achieve our goal of reducing the number of sources within the FAS, we were able to add random edges of the FAS back to the <b> alG </b> graph without sacrificing performance or creating new cycles."
   ]
  },
  {
   "cell_type": "markdown",
   "metadata": {},
   "source": [
    "#### 6.1.2. Deleting whole sources"
   ]
  },
  {
   "cell_type": "markdown",
   "metadata": {},
   "source": [
    "Since we could not add any or all edges from certain sources back from the FAS to the graph, let's try two more strategies:\n",
    "- We remove sources with the largest proportion of the FAS from the cyclic graph <b>lG</b>. A minimum should be preferred,  i.e. as few sources as possible (keyword: \"norm_percent_fas\" -score & \"fas_without_source\")\n",
    "- We gradually remove  sources from the list of all sources until we produce an acyclic graph or a very small FAS (keyword: \"norm_year_frequency\" score). Again, a minimum would be preferable."
   ]
  },
  {
   "cell_type": "markdown",
   "metadata": {},
   "source": [
    "In the following, we will create a <b> norm_df </b> which will calculate the \"norm_year_frequency\"-score, the \"norm_percent_fas\"-score and the size of the FAS without the sources for each source of the FAS (for an explanation of the scores see section 4.1)."
   ]
  },
  {
   "cell_type": "code",
   "execution_count": null,
   "metadata": {},
   "outputs": [],
   "source": [
    "norm_df = analyzeutils.get_normdf(lG, special_researchers, True, min_range=1770, max_range=2017)\n",
    "norm_dict = dict(norm_df[\"norm_percent_fas\"])\n",
    "fas_dict = {}\n",
    "for k,v in norm_dict.items():\n",
    "    nG = graphutils.remove_edges_by_source(lG.copy(), k)\n",
    "    nG_fas = eades_fas.eades_FAS(nG, True)\n",
    "    fas_dict[k] = len(nG_fas)\n",
    "    \n",
    "\n",
    "fas_df = pd.DataFrame(fas_dict.items(), columns=[\"source\", \"fas_without_source\"])\n",
    "fas_df.set_index(\"source\", inplace=True)\n",
    "norm_df = norm_df.join(fas_df, on=\"source\")\n",
    "norm_df.sort_values(by=\"fas_without_source\")\n",
    "\n",
    "norm_df = norm_df.sort_values(by=\"fas_without_source\")\n",
    "norm_df"
   ]
  },
  {
   "cell_type": "markdown",
   "metadata": {},
   "source": [
    "TODO\n",
    "There is no source whose sole removal from the graph would make the graph acyclic. As we saw in the previous section, this does not work with a minimal combination of sources of FAS either. Now we are changing our approach. Instead of gradually removing the sources, preserving some certain orders, we try all possible combinations of sequences (720 combinations in the <b>lG</b> graph) to find a minimal order. But instead of removing the FAS directly, we first try to find the minimal FAS, which is possible by removing two sources (see <i> minimize_rm_source_df </i>)."
   ]
  },
  {
   "cell_type": "code",
   "execution_count": null,
   "metadata": {},
   "outputs": [],
   "source": [
    "minimize_rm_source_df = analyzeutils.minimize_fas_by_source_removal(lG.copy())\n",
    "minimize_rm_source_df  \n",
    "#TODO: save this as file"
   ]
  },
  {
   "cell_type": "markdown",
   "metadata": {},
   "source": [
    "We look for the lowest value (= 3), reduce it by 1 and use it as a parameter for our next function. The function <b>find_optimal_order</b> takes the sources of the FAS of the input graph and tries to create with all combination of sources (720 combinations) a FAS which is smaller than the parameter 2 (= 3-1). We're trying to find a FAS that not only removes two, but eventually multiple sources and cause the FAS to drop edges. An ideal solution would be an order of three or fewer sources that ideally do not produce a FAS. The result of the <b>find_optimal_order</b> function was stored in a pickle file \"data/optimal_order_dict_lG(p=2).pkl\" because the function takes a long time (~ 3 hours) due to the 720 combinations, where a FAS is generated for each combination."
   ]
  },
  {
   "cell_type": "code",
   "execution_count": null,
   "metadata": {},
   "outputs": [],
   "source": [
    "\"\"\"\n",
    "Note: because the FAS-alogrithm is called many times, this function is a little bit slow. \n",
    "      We saved the DataFrame in the folder \"data\" as \"data/optimal_order_dict_lG(p=2).pkl\" to save time.\n",
    "\"\"\"\n",
    "#param = minimize_rm_source_df.min(axis=0).min()-1\n",
    "#optimal_order_dict = analyzeutils.find_optimal_order(lG, minimize_rm_source_df, 0)\n",
    "#with open('data/'+ \"optimal_order_dict_lG(p=\" + str(param) + \")\" + \".pkl\", \"wb\") as f:\n",
    "#    pickle.dump(optimal_order_dict, f, pickle.HIGHEST_PROTOCOL)"
   ]
  },
  {
   "cell_type": "code",
   "execution_count": null,
   "metadata": {},
   "outputs": [],
   "source": [
    "with open('data/' + \"optimal_order_dict_lG(p=2)\" + '.pkl', 'rb') as f:\n",
    "    optimal_order_dict = pickle.load(f)\n",
    "    min_fas_with_min_optorder = analyzeutils.minimum_of_optimal_order(optimal_order_dict)\n",
    "    min_optorder_with_min_fas = analyzeutils.minimum_of_optimal_order(optimal_order_dict, False)\n",
    "    print(\"fas_size: \" + str(min_fas_with_min_optorder[0]) + \"\\nopt_order_size: \" \n",
    "          + str(len(min_fas_with_min_optorder[1]))\n",
    "          + \"\\nopt_order: \" + str(min_fas_with_min_optorder[1]))\n",
    "    print(\"\\nfas_size: \" + str(min_optorder_with_min_fas[0]) + \"\\nopt_order_size: \" \n",
    "          + str(len(min_optorder_with_min_fas[1]))\n",
    "          + \"\\nopt_order: \" + str(min_optorder_with_min_fas[1]))"
   ]
  },
  {
   "cell_type": "code",
   "execution_count": null,
   "metadata": {},
   "outputs": [],
   "source": [
    "optimal_order_dict"
   ]
  },
  {
   "cell_type": "markdown",
   "metadata": {},
   "source": [
    "Unfortunately, we did not reach our ideal solution of 3 sources and a FAS of length=0. The other solutions show that we need at least 4 sources to make the graph acyclic. TODO was ist mit fas size = 1 und opt_order = 3?"
   ]
  },
  {
   "cell_type": "code",
   "execution_count": null,
   "metadata": {},
   "outputs": [],
   "source": [
    "for k,v in optimal_order_dict.items():\n",
    "    if v[\"fas_size\"] == min_fas_with_min_optorder[0] and v[\"opt_order\"] == min_fas_with_min_optorder[1]:\n",
    "        if \"faust://bibliography/fischer-lamberg1955\" and \"faust://bibliography/wa_I_15_2\" not in v[\"opt_order\"]:\n",
    "            print(k)\n",
    "            \n",
    "for k,v in optimal_order_dict.items():\n",
    "    if v[\"fas_size\"] == min_optorder_with_min_fas[0] and v[\"opt_order\"] == min_optorder_with_min_fas[1]:\n",
    "        if \"faust://bibliography/fischer-lamberg1955\" and \"faust://bibliography/wa_I_15_2\" not in v[\"opt_order\"]:\n",
    "            print(k)"
   ]
  },
  {
   "cell_type": "markdown",
   "metadata": {},
   "source": [
    "However, since each of these 4 sources includes the sources \"fischer-lamberg1955\" and \"wa_I_15_2\", it makes more sense to directly remove these two sources and manually remove the other three edges of the FAS (see <i> minimize_rm_source_df </i>)."
   ]
  },
  {
   "cell_type": "code",
   "execution_count": null,
   "metadata": {},
   "outputs": [],
   "source": [
    "lG_test = lG.copy()\n",
    "lG_test = graphutils.remove_edges_by_source(lG_test, norm_df.index[0]) #\"wa_I_15_2\"\n",
    "lG_test = graphutils.remove_edges_by_source(lG_test, norm_df.index[1]) #\"fischer-lamberg1955\"\n",
    "lG_test_fas = eades_fas.eades_FAS(lG_test, True)\n",
    "\n",
    "for edge in lG_test_fas:\n",
    "    if lG.has_edge(edge[0], edge[1]):\n",
    "        edge_data = lG.get_edge_data(edge[0], edge[1])\n",
    "        print(edge_data)"
   ]
  },
  {
   "cell_type": "markdown",
   "metadata": {},
   "source": [
    "As a conclusion from this section, we can say that deleting by sources is not as effective as deleting problematic edges, but would make more sense in terms of content. Unfortunately, we were unable to bypass the problem sources \"fischer-lamberg1955\" and \"wa_I_15_2\" because they cover a large proportion of the graph nodes (the have the lowest \"fas_without_source\"-values within the <b>norm_df</b>). But we were able to exclude the sources \"bohnenkamp1994\" and except for two edges \"landeck1981\" and one edge of \"faust://self\", which are the other three major research sources, from the FAS. If we look at the <b>norm_df</b>, we see that \"bohnenkamp1994\" holds the first place at the <i>norm_year_frequency</i>-score and \"faust://self\" and \"landeck1981\" the fourth and fifth place. All three source together have an approximately equal <i>norm_percent_fas</i>-score like \"fischer-lamberg1955\" (5.958762999999999 (0.981613 + 1.534161 + 3.442989) ≈ 5.804935) and only about a quarter of the <i>norm_percent_fas</i>-score of \"wa_I_15_2\".\n",
    "<br>TODO mehr?"
   ]
  },
  {
   "cell_type": "code",
   "execution_count": null,
   "metadata": {},
   "outputs": [],
   "source": [
    "norm_df = norm_df.sort_values(by=\"norm_year_frequency\", ascending=False)\n",
    "norm_df"
   ]
  },
  {
   "cell_type": "markdown",
   "metadata": {},
   "source": [
    "#### 6.1.3. Checking by weigths"
   ]
  },
  {
   "cell_type": "markdown",
   "metadata": {},
   "source": [
    "Finally, let's see if the edges of the FAS can be ranked based on their edge weight. There are three edge weights: \"1.0\", \"5.0\" and \"10.0\". Edges with the weight \"10.0\" are edges that represent a @when-attribute of a date element and should stay in the graph, because they give us a precise release time for a manuscript. Edges with the weight \"5.0\" are edges that represent a @tempsyn-relation-element. The @tempsyn-relation-elements state that two manuscripts were written at about the same time. One way to represent them in the graph would be to insert two parallel edges (TODO already in introduction or so). Due to complexity reasons, however, it was implemented like the @temppre-relation elements, but with a different weight. These would also have a higher priority over the edges with a \"1.0\" weight, which would get all edges that do not represent a @when-attribute of a date element or @tempsyn-relation-element. In the case of lG, however, none of these edges are in the FAS."
   ]
  },
  {
   "cell_type": "code",
   "execution_count": null,
   "metadata": {},
   "outputs": [],
   "source": [
    "#checking by weights\n",
    "critical_weights = []\n",
    "for t in list(lG_fas):\n",
    "    if t[2] >= 5.0:\n",
    "        critical_weights.append(t)\n",
    "        print(t)\n",
    "        \n",
    "meta_vitt_df.loc[\"longer\",\"critical_weights\"] = len(critical_weights)"
   ]
  },
  {
   "cell_type": "markdown",
   "metadata": {},
   "source": [
    "### 6.2. Shorter period graph"
   ]
  },
  {
   "cell_type": "code",
   "execution_count": null,
   "metadata": {},
   "outputs": [],
   "source": [
    "sGparams = [\"shorter_period\", False, True, 3]\n",
    "sG = comparisonutils.gen_faustgraph(sGparams, special_researchers)\n",
    "sG_fas = eades_fas.eades_FAS(sG, True)\n",
    "meta_vitt_df.loc[\"shorter\",\"fas_size\"] = len(sG_fas)\n",
    "meta_vitt_df.loc[\"shorter\",\"edges\"] = len(sG.edges())\n",
    "meta_vitt_df.loc[\"shorter\",\"nodes\"] = len(sG.nodes())\n",
    "\n",
    "asG = sG.copy()\n",
    "asG.remove_edges_from(sG_fas)\n",
    "if nx.is_directed_acyclic_graph(asG) == True:\n",
    "    print(\"The longer graph without the FAS (\" + str(len(sG_fas)) + \" edges) is acyclic!\")"
   ]
  },
  {
   "cell_type": "markdown",
   "metadata": {},
   "source": [
    "#### 6.2.1. Minimizing the removal of sources within the FAS"
   ]
  },
  {
   "cell_type": "code",
   "execution_count": null,
   "metadata": {},
   "outputs": [],
   "source": [
    "\"\"\"\n",
    "Note: because the FAS-alogrithm is called many times, this function is a little bit slow. \n",
    "      We saved the DataFrame in the folder \"data\" as \"longer_period_fas_dataframe.csv\" to save time.\n",
    "\"\"\"\n",
    "#sGfas_df = analyzeutils.minimize_source_removal(sG)\n",
    "#sGfas_df.to_csv(\"data/shorter_period_fas_dataframe.csv\")"
   ]
  },
  {
   "cell_type": "code",
   "execution_count": null,
   "metadata": {},
   "outputs": [],
   "source": [
    "sGfas_df = pd.read_csv(\"data/shorter_period_fas_dataframe.csv\", index_col=\"source\")\n",
    "\n",
    "sG_fas_frequency = analyzeutils.gen_frequencyfas(sG)\n",
    "uncritical_sources, reduced_fas = analyzeutils.remove_uncritical_sources(sG, sG_fas, \n",
    "                                                                         sG_fas_frequency, sGfas_df)\n",
    "meta_vitt_df.loc[\"shorter\", \"possible reduced fas\"] = len(sG_fas) - reduced_fas"
   ]
  },
  {
   "cell_type": "code",
   "execution_count": null,
   "metadata": {},
   "outputs": [],
   "source": [
    "critical_sources = list(sG_fas_frequency.index)\n",
    "\n",
    "#Testing with only the uncritical source\n",
    "uc_asG = graphutils.readding_edges_by_source(sG, asG, sG_fas, uncritical_sources)\n",
    "meta_vitt_df.loc[\"shorter\",\"aG_edges+uncritical_source\"] = len(uc_asG.edges()) - len(asG.edges())\n",
    "\n",
    "#Testing with all critical sources\n",
    "c_asG, readded_edgelist = graphutils.readding_edges_by_source(sG, asG, sG_fas, critical_sources, True)\n",
    "meta_vitt_df.loc[\"shorter\",\"aG_edges+random_critical_sources\"] = len(c_asG.edges()) - len(asG.edges())\n",
    "\n",
    "\n",
    "print(\"The acyclic longer period graph has \" \n",
    "      + str(len(asG.edges())) \n",
    "      + \" edges. If only the sources of the uncritical sources should be added, the longer period graph contains now \" \n",
    "      + str(len(uc_asG.edges())) \n",
    "      + \" edges. If all critical sources should be added, the graph contains \"\n",
    "      + str(len(c_asG.edges()))\n",
    "      + \" edges.\")\n",
    "if nx.is_directed_acyclic_graph(uc_asG) and nx.is_directed_acyclic_graph(uc_asG):\n",
    "    print(\"Both versions of the alG graph are still acylic.\")\n",
    "if len(uc_asG.edges()) == len(asG.edges()):\n",
    "    print(\"With the addition of the uncritical sources, the graph stayed the same.\")\n",
    "if len(uc_asG.edges()) > len(asG.edges()):\n",
    "    print(\"With the addition of the uncritical sources, the graph now contains \"\n",
    "         + str(len(uc_asG.edges()) - len(asG.edges())) + \" edges more than before.\")\n",
    "if len(c_asG.edges()) > len(asG.edges()):\n",
    "    print(\"With the addition of the critical sources, the graph now contains \"\n",
    "         + str(len(c_asG.edges()) - len(asG.edges())) + \" edges more than before.\")"
   ]
  },
  {
   "cell_type": "code",
   "execution_count": null,
   "metadata": {},
   "outputs": [],
   "source": [
    "edgecounter = Counter()\n",
    "for edge in readded_edgelist:\n",
    "    edgecounter[edge[3]] += 1\n",
    "\n",
    "complete_readded_sources = []\n",
    "for source, v in edgecounter.items():\n",
    "    if sG_fas_frequency.loc[source, \"fas_frequency\"] <= v:\n",
    "        complete_readded_sources.append(source)\n",
    "        print(\"The whole source \" + source + \" should be re-added (\" \n",
    "              + str(int(sG_fas_frequency.loc[source])) + \" edge(s) inside the FAS).\")\n",
    "meta_vitt_df.loc[\"longer\", \"complete_sources_readded\"] = len(complete_readded_sources) "
   ]
  },
  {
   "cell_type": "markdown",
   "metadata": {},
   "source": [
    "Like the shorter-period graph, it was possible to remove complete sources from the FAS and add them back to the acyclic graph without inducing new cycles. Although none of the complete sources had a large share of the FAS (only one edge), this was an important step in terms of content, as the amount of complete sources within the FAS could be reduced and increased within the acyclic graph."
   ]
  },
  {
   "cell_type": "markdown",
   "metadata": {},
   "source": [
    "#### 6.2.2. Deleting whole sources"
   ]
  },
  {
   "cell_type": "code",
   "execution_count": null,
   "metadata": {},
   "outputs": [],
   "source": [
    "norm_df = analyzeutils.get_normdf(sG, special_researchers, True, min_range=1770, max_range=2017)\n",
    "norm_dict = dict(norm_df[\"norm_percent_fas\"])\n",
    "fas_dict = {}\n",
    "for k,v in norm_dict.items():\n",
    "    nG = graphutils.remove_edges_by_source(sG.copy(), k)\n",
    "    nG_fas = eades_fas.eades_FAS(nG, True)\n",
    "    fas_dict[k] = len(nG_fas)\n",
    "    \n",
    "\n",
    "fas_df = pd.DataFrame(fas_dict.items(), columns=[\"source\", \"fas_without_source\"])\n",
    "fas_df.set_index(\"source\", inplace=True)\n",
    "norm_df = norm_df.join(fas_df, on=\"source\")\n",
    "norm_df.sort_values(by=\"fas_without_source\")\n",
    "\n",
    "norm_df = norm_df.sort_values(by=\"fas_without_source\")\n",
    "norm_df"
   ]
  },
  {
   "cell_type": "code",
   "execution_count": null,
   "metadata": {},
   "outputs": [],
   "source": [
    "minimize_rm_source_df = analyzeutils.minimize_fas_by_source_removal(sG.copy())\n",
    "minimize_rm_source_df   "
   ]
  },
  {
   "cell_type": "code",
   "execution_count": null,
   "metadata": {},
   "outputs": [],
   "source": [
    "\"\"\"\n",
    "Note: because the FAS-alogrithm is called many times, this function is a little bit slow. \n",
    "      We saved the DataFrame in the folder \"data\" as \"data/optimal_order_dict_lG(p=2).pkl\" to save time.\n",
    "\"\"\"\n",
    "#param = minimize_rm_source_df.min(axis=0).min()-1\n",
    "#optimal_order_dict = analyzeutils.find_optimal_order(sG, minimize_rm_source_df, 0)\n",
    "#with open('data/'+ \"optimal_order_dict_lG(p=\" + str(param) + \")\" + \".pkl\", \"wb\") as f:\n",
    "    #pickle.dump(optimal_order_dict, f, pickle.HIGHEST_PROTOCOL)"
   ]
  },
  {
   "cell_type": "code",
   "execution_count": null,
   "metadata": {},
   "outputs": [],
   "source": [
    "with open('data/' + \"optimal_order_dict_sG(p=22)\" + '.pkl', 'rb') as f:\n",
    "    optimal_order_dict = pickle.load(f)\n",
    "    min_fas_with_min_optorder = analyzeutils.minimum_of_optimal_order(optimal_order_dict)\n",
    "    min_optorder_with_min_fas = analyzeutils.minimum_of_optimal_order(optimal_order_dict, False)\n",
    "    print(\"fas_size: \" + str(min_fas_with_min_optorder[0]) + \"\\nopt_order_size: \" \n",
    "          + str(len(min_fas_with_min_optorder[1]))\n",
    "          + \"\\nopt_order: \" + str(min_fas_with_min_optorder[1]))\n",
    "    print(\"\\nfas_size: \" + str(min_optorder_with_min_fas[0]) + \"\\nopt_order_size: \" \n",
    "          + str(len(min_optorder_with_min_fas[1]))\n",
    "          + \"\\nopt_order: \" + str(min_optorder_with_min_fas[1]))\n",
    "    \n",
    "for k,v in optimal_order_dict.items():\n",
    "    if v[\"fas_size\"] == min_fas_with_min_optorder[0] and v[\"opt_order\"] == min_fas_with_min_optorder[1]:\n",
    "        if \"faust://bibliography/fischer-lamberg1955\" and \"faust://bibliography/wa_I_15_2\" not in v[\"opt_order\"]:\n",
    "            print(k)\n",
    "            \n",
    "for k,v in optimal_order_dict.items():\n",
    "    if v[\"fas_size\"] == min_optorder_with_min_fas[0] and v[\"opt_order\"] == min_optorder_with_min_fas[1]:\n",
    "        if \"faust://bibliography/fischer-lamberg1955\" and \"faust://bibliography/wa_I_15_2\" not in v[\"opt_order\"]:\n",
    "            print(k)"
   ]
  },
  {
   "cell_type": "code",
   "execution_count": null,
   "metadata": {},
   "outputs": [],
   "source": [
    "sG_test = sG.copy()\n",
    "sG_test = graphutils.remove_edges_by_source(sG_test, norm_df.index[0]) #\"wa_I_15_2\"\n",
    "sG_test = graphutils.remove_edges_by_source(sG_test, norm_df.index[1]) #\"fischer-lamberg1955\"\n",
    "sG_test_fas = eades_fas.eades_FAS(sG_test, True)\n",
    "\n",
    "c = Counter()\n",
    "for edge in sG_test_fas:\n",
    "    if sG.has_edge(edge[0], edge[1]):\n",
    "        edge_data = sG.get_edge_data(edge[0], edge[1])\n",
    "        c[edge_data[\"source\"]] += 1    \n",
    "c"
   ]
  },
  {
   "cell_type": "markdown",
   "metadata": {},
   "source": [
    "Wie auch beim longer-period-graph konnten wir die Quellen \"fischer-lamberg1955\" und \"wa_I_15_2\" aufgrund ihres großen Anteil innerhalb des Graphen nicht umgehen. Im Gegensatz zum longer-period-graph sind nach einer Entfernung der beiden Quellen noch 7 der 9 übriggebliebenen Quellen des originalen FAS im neuen FAS. Nur die Quellen \"inventare_2_2\" und \"hertz1931\" konnten nach der Entfernung von \"fischer-lamberg1955\" und \"wa_I_15_2\" erfolgreich aus dem FAS entfernt werden. Diese Quellen hatten jedoch nur einen kleinen Anteil am FAS und am gesamten Graphen. Zudem haben sie einen eher niedrigen \"norm_year_frequency\"-score, weshalb sie eigentlich eher entfernt werden sollten als andere (AF!!!). "
   ]
  },
  {
   "cell_type": "code",
   "execution_count": null,
   "metadata": {},
   "outputs": [],
   "source": [
    "norm_df = norm_df.sort_values(by=\"norm_year_frequency\", ascending=False)\n",
    "norm_df"
   ]
  },
  {
   "cell_type": "markdown",
   "metadata": {},
   "source": [
    "#### 6.2.3. Checking by weigths"
   ]
  },
  {
   "cell_type": "code",
   "execution_count": null,
   "metadata": {},
   "outputs": [],
   "source": [
    "#checking by weights\n",
    "critical_weights = []\n",
    "for t in list(sG_fas):\n",
    "    if t[2] >= 5.0:\n",
    "        critical_weights.append(t)\n",
    "        print(t)\n",
    "        \n",
    "meta_vitt_df.loc[\"shorter\",\"critical_weights\"] = len(critical_weights)"
   ]
  },
  {
   "cell_type": "markdown",
   "metadata": {},
   "source": [
    "### 6.3. Vitt graph"
   ]
  },
  {
   "cell_type": "code",
   "execution_count": null,
   "metadata": {},
   "outputs": [],
   "source": [
    "#docstrings angucken\n",
    "#todos angucken\n",
    "#dann meta funktion um mit vitt und smaller vergleichen!"
   ]
  },
  {
   "cell_type": "code",
   "execution_count": null,
   "metadata": {},
   "outputs": [],
   "source": [
    "#vitt_df = analyzeutils.minimize_source_removal(comparisonutils.gen_faustgraph([\"vitt\", False, True], special_researchers))\n",
    "#vitt_df"
   ]
  },
  {
   "cell_type": "code",
   "execution_count": null,
   "metadata": {},
   "outputs": [],
   "source": [
    "vGparams = [\"vitt\", False, True, 11]\n",
    "vG = comparisonutils.gen_faustgraph(vGparams, special_researchers)\n",
    "vG_fas = eades_fas.eades_FAS(vG, True)\n",
    "meta_vitt_df.loc[\"vitt\",\"fas_size\"] = len(vG_fas)\n",
    "meta_vitt_df.loc[\"vitt\",\"edges\"] = len(vG.edges())\n",
    "meta_vitt_df.loc[\"vitt\",\"nodes\"] = len(vG.nodes())\n",
    "\n",
    "avG = vG.copy()\n",
    "avG.remove_edges_from(vG_fas)\n",
    "if nx.is_directed_acyclic_graph(avG) == True:\n",
    "    print(\"The longer graph without the FAS (\" + str(len(vG_fas)) + \" edges) is acyclic!\")"
   ]
  },
  {
   "cell_type": "markdown",
   "metadata": {},
   "source": [
    "#### 6.3.1. Minimizing the removal of sources within the FAS"
   ]
  },
  {
   "cell_type": "code",
   "execution_count": null,
   "metadata": {},
   "outputs": [],
   "source": [
    "\"\"\"\n",
    "Note: because the FAS-alogrithm is called many times, this function is a little bit slow. \n",
    "      We saved the DataFrame in the folder \"data\" as \"vitt_fas_dataframe.csv\" to save time.\n",
    "\"\"\"\n",
    "#vGfas_df = analyzeutils.minimize_source_removal(vG)\n",
    "#vGfas_df.to_csv(\"data/vitt_fas_dataframe.csv\")\n",
    "\n",
    "vGfas_df = pd.read_csv(\"data/vitt_fas_dataframe.csv\", index_col=\"source\")\n",
    "vGfas_df"
   ]
  },
  {
   "cell_type": "code",
   "execution_count": null,
   "metadata": {},
   "outputs": [],
   "source": [
    "vG_fas_frequency = analyzeutils.gen_frequencyfas(vG)\n",
    "uncritical_sources, reduced_fas = analyzeutils.remove_uncritical_sources(vG, vG_fas, \n",
    "                                                                         vG_fas_frequency, vGfas_df)\n",
    "meta_vitt_df.loc[\"vitt\",\"possible reduced fas\"] = len(vG_fas) - reduced_fas"
   ]
  },
  {
   "cell_type": "code",
   "execution_count": null,
   "metadata": {},
   "outputs": [],
   "source": [
    "critical_sources = list(vG_fas_frequency.index)\n",
    "\n",
    "#Testing with only the uncritical source\n",
    "uc_avG = graphutils.readding_edges_by_source(vG, avG, vG_fas, uncritical_sources)\n",
    "meta_vitt_df.loc[\"vitt\",\"aG_edges+uncritical_source\"] = len(uc_avG.edges()) - len(avG.edges())\n",
    "\n",
    "#Testing with all critical sources\n",
    "c_avG, readded_edgelist = graphutils.readding_edges_by_source(vG, avG, vG_fas, critical_sources, True)\n",
    "meta_vitt_df.loc[\"vitt\",\"aG_edges+random_critical_sources\"] = len(c_avG.edges()) - len(avG.edges())\n",
    "\n",
    "print(\"The acyclic longer period graph has \" \n",
    "      + str(len(avG.edges())) \n",
    "      + \" edges. If only the sources of the uncritical sources should be added, the longer period graph contains now \" \n",
    "      + str(len(uc_avG.edges())) \n",
    "      + \" edges. If all critical sources should be added, the graph contains \"\n",
    "      + str(len(c_avG.edges()))\n",
    "      + \" edges.\")\n",
    "if nx.is_directed_acyclic_graph(uc_avG) and nx.is_directed_acyclic_graph(uc_avG):\n",
    "    print(\"Both versions of the alG graph are still acylic.\")\n",
    "if len(uc_avG.edges()) == len(avG.edges()):\n",
    "    print(\"With the addition of the uncritical sources, the graph stayed the same.\")\n",
    "if len(uc_avG.edges()) > len(avG.edges()):\n",
    "    print(\"With the addition of the uncritical sources, the graph now contains \"\n",
    "         + str(len(uc_avG.edges()) - len(avG.edges())) + \" edges more than before.\")\n",
    "if len(c_avG.edges()) > len(avG.edges()):\n",
    "    print(\"With the addition of the critical sources, the graph now contains \"\n",
    "         + str(len(c_avG.edges()) - len(avG.edges())) + \" edges more than before.\")"
   ]
  },
  {
   "cell_type": "markdown",
   "metadata": {},
   "source": [
    "Unlike the <b>longer-period</b> approach, it was possible to add four edges to uncritical sources in the <b>Vitt</b> approach. However, the critical sources can add 11 times as many edges as the uncritical sources."
   ]
  },
  {
   "cell_type": "code",
   "execution_count": null,
   "metadata": {},
   "outputs": [],
   "source": [
    "edgecounter = Counter()\n",
    "for edge in readded_edgelist:\n",
    "    edgecounter[edge[3]] += 1\n",
    "\n",
    "complete_readded_sources = []\n",
    "for source, v in edgecounter.items():\n",
    "    if vG_fas_frequency.loc[source, \"fas_frequency\"] <= v:\n",
    "        complete_readded_sources.append(source)\n",
    "        print(\"The whole source \" + source + \" should be re-added (\" \n",
    "              + str(int(vG_fas_frequency.loc[source])) + \" edge(s) inside the FAS).\")\n",
    "    \n",
    "meta_vitt_df.loc[\"vitt\",\"complete_sources_readded\"] = len(complete_readded_sources)  "
   ]
  },
  {
   "cell_type": "markdown",
   "metadata": {},
   "source": [
    "Like the shorter-period graph (see 6.2.1), it was possible to remove complete sources from the FAS and add them back to the acyclic graph without inducing new cycles. Again, none of the complete sources had a large share of the FAS (only one edge)."
   ]
  },
  {
   "cell_type": "markdown",
   "metadata": {},
   "source": [
    "#### 6.3.2. Deleting whole sources "
   ]
  },
  {
   "cell_type": "code",
   "execution_count": null,
   "metadata": {},
   "outputs": [],
   "source": [
    "norm_df = analyzeutils.get_normdf(vG, special_researchers, True, min_range=1770, max_range=2017)\n",
    "norm_dict = dict(norm_df[\"norm_percent_fas\"])\n",
    "fas_dict = {}\n",
    "for k,v in norm_dict.items():\n",
    "    nG = graphutils.remove_edges_by_source(vG.copy(), k)\n",
    "    nG_fas = eades_fas.eades_FAS(nG, True)\n",
    "    fas_dict[k] = len(nG_fas)\n",
    "    \n",
    "\n",
    "fas_df = pd.DataFrame(fas_dict.items(), columns=[\"source\", \"fas_without_source\"])\n",
    "fas_df.set_index(\"source\", inplace=True)\n",
    "norm_df = norm_df.join(fas_df, on=\"source\")\n",
    "norm_df.sort_values(by=\"fas_without_source\")\n",
    "\n",
    "norm_df = norm_df.sort_values(by=\"fas_without_source\")\n",
    "norm_df"
   ]
  },
  {
   "cell_type": "code",
   "execution_count": null,
   "metadata": {},
   "outputs": [],
   "source": [
    "#Note: due to perfomance reasons the \"minimize_fas_by_source_df\" was saved to a csv-file\n",
    "#minimize_rm_source_df = analyzeutils.minimize_fas_by_source_removal(vG.copy())\n",
    "minimize_rm_source_df = pd.read_csv(\"data/minimize_rm_source_df(vitt).csv\", index_col=\"source\")\n",
    "minimize_rm_source_df "
   ]
  },
  {
   "cell_type": "code",
   "execution_count": null,
   "metadata": {},
   "outputs": [],
   "source": [
    "\"\"\"\n",
    "Note: because the FAS-alogrithm is called many times, this function is a little bit slow. \n",
    "      We saved the DataFrame in the folder \"data\" as \"data/optimal_order_dict_lG(p=2).pkl\" to save time.\n",
    "\"\"\"\n",
    "#param = minimize_rm_source_df.min(axis=0).min()-1\n",
    "#optimal_order_dict = analyzeutils.find_optimal_order(vG, minimize_rm_source_df, param)\n",
    "#with open('data/'+ \"optimal_order_dict_vG(p=\" + str(param) + \")\" + \".pkl\", \"wb\") as f:\n",
    "    #pickle.dump(optimal_order_dict, f, pickle.HIGHEST_PROTOCOL)"
   ]
  },
  {
   "cell_type": "code",
   "execution_count": null,
   "metadata": {
    "scrolled": true
   },
   "outputs": [],
   "source": [
    "with open('data/' + \"optimal_order_dict_vG(p=27)\" + '.pkl', 'rb') as f:\n",
    "    optimal_order_dict = pickle.load(f)\n",
    "    min_fas_with_min_optorder = analyzeutils.minimum_of_optimal_order(optimal_order_dict)\n",
    "    min_optorder_with_min_fas = analyzeutils.minimum_of_optimal_order(optimal_order_dict, False)\n",
    "    print(\"fas_size: \" + str(min_fas_with_min_optorder[0]) + \"\\nopt_order_size: \" \n",
    "          + str(len(min_fas_with_min_optorder[1]))\n",
    "          + \"\\nopt_order: \" + str(min_fas_with_min_optorder[1]))\n",
    "    print(\"\\nfas_size: \" + str(min_optorder_with_min_fas[0]) + \"\\nopt_order_size: \" \n",
    "          + str(len(min_optorder_with_min_fas[1]))\n",
    "          + \"\\nopt_order: \" + str(min_optorder_with_min_fas[1]))"
   ]
  },
  {
   "cell_type": "markdown",
   "metadata": {},
   "source": [
    "TODO Wir versuchen nun ein noch kleineres FAS zu finden ohne das sich die Größe der opt_order ändert. Dafür nehmen wir als Parameter param=2."
   ]
  },
  {
   "cell_type": "code",
   "execution_count": null,
   "metadata": {},
   "outputs": [],
   "source": [
    "#TODO: hier sagen, dass nochmal durchlaufen werden muss, da kleinste parameter 4 und fünf quellen viel\n",
    "#--> gucken was mit zwei rauskommt\n",
    "# ist es viel? TODO\n",
    "#scheinbar nicht, da eine source auf jeden fall mehr\n",
    "#trotzdem testen"
   ]
  },
  {
   "cell_type": "markdown",
   "metadata": {},
   "source": [
    "# TODO HIER WEITER\n",
    "- kurz fertig machen, denn zweiten output hier erklären und abschließen\n",
    "- weigths sind noch wichtig"
   ]
  },
  {
   "cell_type": "code",
   "execution_count": null,
   "metadata": {},
   "outputs": [],
   "source": [
    "with open('data/' + \"optimal_order_dict_vG(p=2)\" + '.pkl', 'rb') as f:\n",
    "    optimal_order_dict = pickle.load(f)\n",
    "    min_fas_with_min_optorder = analyzeutils.minimum_of_optimal_order(optimal_order_dict)\n",
    "    min_optorder_with_min_fas = analyzeutils.minimum_of_optimal_order(optimal_order_dict, False)\n",
    "    print(\"fas_size: \" + str(min_fas_with_min_optorder[0]) + \"\\nopt_order_size: \" \n",
    "          + str(len(min_fas_with_min_optorder[1]))\n",
    "          + \"\\nopt_order: \" + str(min_fas_with_min_optorder[1]))\n",
    "    print(\"\\nfas_size: \" + str(min_optorder_with_min_fas[0]) + \"\\nopt_order_size: \" \n",
    "          + str(len(min_optorder_with_min_fas[1]))\n",
    "          + \"\\nopt_order: \" + str(min_optorder_with_min_fas[1]))\n",
    "    \n",
    "for k,v in optimal_order_dict.items():\n",
    "    if v[\"fas_size\"] == min_fas_with_min_optorder[0] and v[\"opt_order\"] == min_fas_with_min_optorder[1]:\n",
    "        if \"faust://bibliography/fischer-lamberg1955\" and \"faust://bibliography/wa_I_15_2\" not in v[\"opt_order\"]:\n",
    "            print(k)\n",
    "            \n",
    "for k,v in optimal_order_dict.items():\n",
    "    if v[\"fas_size\"] == min_optorder_with_min_fas[0] and v[\"opt_order\"] == min_optorder_with_min_fas[1]:\n",
    "        if \"faust://bibliography/fischer-lamberg1955\" and \"faust://bibliography/wa_I_15_2\" not in v[\"opt_order\"]:\n",
    "            print(k)"
   ]
  },
  {
   "cell_type": "code",
   "execution_count": null,
   "metadata": {},
   "outputs": [],
   "source": [
    "vG_test = vG.copy()\n",
    "vG_test = graphutils.remove_edges_by_source(vG_test, norm_df.index[2]) #\"wa_I_15_2\"\n",
    "vG_test = graphutils.remove_edges_by_source(vG_test, norm_df.index[1]) #\"fischer-lamberg1955\"\n",
    "vG_test_fas = eades_fas.eades_FAS(vG_test, True)\n",
    "\n",
    "c = Counter()\n",
    "for edge in vG_test_fas:\n",
    "    if vG.has_edge(edge[0], edge[1]):\n",
    "        edge_data = vG.get_edge_data(edge[0], edge[1])\n",
    "        c[edge_data[\"source\"]] += 1\n",
    "c"
   ]
  },
  {
   "cell_type": "markdown",
   "metadata": {},
   "source": [
    "Wie auch beim longer-period-graph konnten wir die Quellen \"fischer-lamberg1955\" und \"wa_I_15_2\" aufgrund ihres großen Anteil innerhalb des Graphen nicht umgehen. Im Gegensatz zum longer-period-graph sind nach einer Entfernung der beiden Quellen noch 7 der 10 übriggebliebenen Quellen des originalen FAS im FAS. Nur die Quellen \"morris1900\", \"grumach1958\" und \"hertz1931\" konnten nach der Entfernung von \"fischer-lamberg1955\" und \"wa_I_15_2\" erfolgreich aus dem FAS entfernt werden. Diese Quellen hatten jedoch nur einen kleinen Anteil am FAS und am gesamten Graphen. Zudem haben sie einen sehr niedrigen \"norm_year_frequency\"-score, weshalb sie eigentlich eher entfernt werden sollten als andere (AF!!!). \n",
    "\n",
    "TODO!!\n",
    "\n",
    "\n",
    "As a conclusion from this section, we can say that deleting by sources is not as effective as deleting problematic edges, but would make more sense in terms of content. Unfortunately, we were unable to bypass the problem sources \"fischer-lamberg1955\" and \"wa_I_15_2\" because they cover a large proportion of the graph nodes (the have the lowest \"fas_without_source\"-values within the <b>norm_df</b>). But we were able to exclude the sources \"bohnenkamp1994\" and except for two edges \"landeck1981\" and one edge of \"faust://self\", which are the other three major research sources, from the FAS. If we look at the <b>norm_df</b>, we see that \"bohnenkamp1994\" holds the first place at the <i>norm_year_frequency</i>-score and \"faust://self\" and \"landeck1981\" the fourth and fifth place. All three source together have an approximately equal <i>norm_percent_fas</i>-score like \"fischer-lamberg1955\" (5.958762999999999 (0.981613 + 1.534161 + 3.442989) ≈ 5.804935) and only about a quarter of the <i>norm_percent_fas</i>-score of \"wa_I_15_2\".\n",
    "<br>TODO mehr?"
   ]
  },
  {
   "cell_type": "code",
   "execution_count": null,
   "metadata": {},
   "outputs": [],
   "source": [
    "norm_df = norm_df.sort_values(by=\"norm_year_frequency\", ascending=False)\n",
    "norm_df"
   ]
  },
  {
   "cell_type": "markdown",
   "metadata": {},
   "source": [
    "#### 6.3.3. Checking by weights"
   ]
  },
  {
   "cell_type": "code",
   "execution_count": null,
   "metadata": {},
   "outputs": [],
   "source": [
    "#checking by weights\n",
    "critical_weights = []\n",
    "for t in list(vG_fas):\n",
    "    if t[2] >= 5.0:\n",
    "        critical_weights.append(t)\n",
    "        print(t)\n",
    "  \n",
    "meta_vitt_df.loc[\"vitt\",\"critical_weights\"] = len(critical_weights)"
   ]
  },
  {
   "cell_type": "markdown",
   "metadata": {},
   "source": [
    "### 6.4. Comparison of the variants of the Vitt-graphs TODO"
   ]
  },
  {
   "cell_type": "code",
   "execution_count": null,
   "metadata": {
    "scrolled": true
   },
   "outputs": [],
   "source": [
    "meta_vitt_df"
   ]
  },
  {
   "cell_type": "markdown",
   "metadata": {},
   "source": [
    "TODO"
   ]
  },
  {
   "cell_type": "markdown",
   "metadata": {},
   "source": [
    "## 7. Conclusion"
   ]
  },
  {
   "cell_type": "code",
   "execution_count": null,
   "metadata": {},
   "outputs": [],
   "source": []
  }
 ],
 "metadata": {
  "kernelspec": {
   "display_name": "Python 3",
   "language": "python",
   "name": "python3"
  },
  "language_info": {
   "codemirror_mode": {
    "name": "ipython",
    "version": 3
   },
   "file_extension": ".py",
   "mimetype": "text/x-python",
   "name": "python",
   "nbconvert_exporter": "python",
   "pygments_lexer": "ipython3",
   "version": "3.6.7"
  }
 },
 "nbformat": 4,
 "nbformat_minor": 2
}
